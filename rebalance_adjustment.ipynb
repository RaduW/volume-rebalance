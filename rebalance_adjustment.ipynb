{
 "cells": [
  {
   "cell_type": "markdown",
   "metadata": {
    "colab_type": "text",
    "id": "view-in-github"
   },
   "source": [
    "<a href=\"https://colab.research.google.com/github/RaduW/volume-rebalance/blob/main/volume_rebalancing.ipynb\" target=\"_parent\"><img src=\"https://colab.research.google.com/assets/colab-badge.svg\" alt=\"Open In Colab\"/></a>"
   ]
  },
  {
   "cell_type": "markdown",
   "metadata": {
    "id": "zdMHKb0x4JRD"
   },
   "source": [
    "\n",
    "\n",
    "# Volume Rebalancing Algorithm\n",
    "\n",
    "\n",
    "The volume rebalancing algorithm is based on the assumption that while given a global sample rate classes we want to adjust the individual class sampling rate in a way that equalises the number of sampled elements in each class while maintaining the overall sample rate."
   ]
  },
  {
   "cell_type": "code",
   "execution_count": 13,
   "metadata": {
    "ExecuteTime": {
     "start_time": "2023-04-06T14:09:20.269008Z",
     "end_time": "2023-04-06T14:09:20.294650Z"
    },
    "colab": {
     "base_uri": "https://localhost:8080/"
    },
    "id": "LoLvBzZalsDa",
    "outputId": "4bb04fac-5131-4b1a-a3b3-984a1b2d4953"
   },
   "outputs": [],
   "source": [
    "# url = \"https://raw.githubusercontent.com/RaduW/volume-rebalance/main/transaction_adjustment_model.py\"\n",
    "# !wget --no-cache --backups=1 {url}\n",
    "#\n",
    "from transaction_adjustment_model import adjust_sample_rate_v2\n",
    "#\n",
    "# utils_url = \"https://raw.githubusercontent.com/RaduW/volume-rebalance/main/utils.py\"\n",
    "# !wget --no-cache --backups=1 {utils_url}\n",
    "\n",
    "import utils"
   ]
  },
  {
   "cell_type": "code",
   "execution_count": 14,
   "metadata": {
    "ExecuteTime": {
     "start_time": "2023-04-06T14:09:20.271354Z",
     "end_time": "2023-04-06T14:09:20.295190Z"
    },
    "id": "EO1gtKk34X5c"
   },
   "outputs": [],
   "source": [
    "\n",
    "from typing import Tuple, Union\n",
    "from ipywidgets import widgets\n",
    "import pandas as pd\n",
    "import numpy as np\n",
    "import matplotlib as mpl\n",
    "import matplotlib.pyplot as plt\n",
    "import seaborn as sns\n",
    "\n",
    "sns.set_style(\"whitegrid\")\n"
   ]
  },
  {
   "cell_type": "code",
   "execution_count": 15,
   "metadata": {
    "ExecuteTime": {
     "start_time": "2023-04-06T14:09:20.277009Z",
     "end_time": "2023-04-06T14:09:20.558693Z"
    },
    "colab": {
     "base_uri": "https://localhost:8080/",
     "height": 206
    },
    "id": "VkJr4d3fBEb3",
    "outputId": "39d0ced6-3e29-4e65-b5fb-2ccc66bdc2e3"
   },
   "outputs": [
    {
     "data": {
      "text/plain": "                                                name  freq  proj_id proj_name\n0                                  /api/0/customers/     1        1    sentry\n1  /organizations/:orgId/alerts/rules/details/:ru...     1        1    sentry\n2  /api/0/organizations/{organization_slug}/auth-...     1        1    sentry\n3                                        //index.php     1        1    sentry\n4                            /api/0/users/{user_id}/     1        1    sentry",
      "text/html": "<div>\n<style scoped>\n    .dataframe tbody tr th:only-of-type {\n        vertical-align: middle;\n    }\n\n    .dataframe tbody tr th {\n        vertical-align: top;\n    }\n\n    .dataframe thead th {\n        text-align: right;\n    }\n</style>\n<table border=\"1\" class=\"dataframe\">\n  <thead>\n    <tr style=\"text-align: right;\">\n      <th></th>\n      <th>name</th>\n      <th>freq</th>\n      <th>proj_id</th>\n      <th>proj_name</th>\n    </tr>\n  </thead>\n  <tbody>\n    <tr>\n      <th>0</th>\n      <td>/api/0/customers/</td>\n      <td>1</td>\n      <td>1</td>\n      <td>sentry</td>\n    </tr>\n    <tr>\n      <th>1</th>\n      <td>/organizations/:orgId/alerts/rules/details/:ru...</td>\n      <td>1</td>\n      <td>1</td>\n      <td>sentry</td>\n    </tr>\n    <tr>\n      <th>2</th>\n      <td>/api/0/organizations/{organization_slug}/auth-...</td>\n      <td>1</td>\n      <td>1</td>\n      <td>sentry</td>\n    </tr>\n    <tr>\n      <th>3</th>\n      <td>//index.php</td>\n      <td>1</td>\n      <td>1</td>\n      <td>sentry</td>\n    </tr>\n    <tr>\n      <th>4</th>\n      <td>/api/0/users/{user_id}/</td>\n      <td>1</td>\n      <td>1</td>\n      <td>sentry</td>\n    </tr>\n  </tbody>\n</table>\n</div>"
     },
     "execution_count": 15,
     "metadata": {},
     "output_type": "execute_result"
    }
   ],
   "source": [
    "# import transaction data\n",
    "projects = \"https://raw.githubusercontent.com/RaduW/volume-rebalance/main/projects-2023-03-30.json\"\n",
    "trans_data = pd.read_json(projects)\n",
    "\n",
    "PROJECTS = {\n",
    "    \"sentry\": 1,\n",
    "    \"javascript\": 11276,\n",
    "    \"snuba\": 300688,\n",
    "    \"gibpotato-backend\": 4504044639748096,\n",
    "    #\"gibpotato-frontend\": 4504044640927744,\n",
    "}\n",
    "\n",
    "# sort by project and frequency and re-index\n",
    "trans_data.sort_values(by=[\"proj_id\",\"freq\"],ignore_index=True, ascending=True, inplace=True)\n",
    "trans_data = trans_data.reset_index(drop=True)\n",
    "trans_data.head()"
   ]
  },
  {
   "cell_type": "code",
   "execution_count": 16,
   "metadata": {
    "ExecuteTime": {
     "start_time": "2023-04-06T14:09:20.559298Z",
     "end_time": "2023-04-06T14:09:20.780959Z"
    },
    "colab": {
     "base_uri": "https://localhost:8080/",
     "height": 206
    },
    "id": "5_Nj798Oty1n",
    "outputId": "ed96699b-9c08-4ca0-c8f8-960a252f164b"
   },
   "outputs": [
    {
     "data": {
      "text/plain": "     factor                                  name\n0  1.362553      /auth/login/{organization_slug}/\n1  1.343255        sentry.tasks.files.delete_file\n2  1.233424      sentry.tasks.check_auth_identity\n3  1.029705              /dashboard/:dashboardId/\n4  0.976686  sentry.profiles.task.process_profile",
      "text/html": "<div>\n<style scoped>\n    .dataframe tbody tr th:only-of-type {\n        vertical-align: middle;\n    }\n\n    .dataframe tbody tr th {\n        vertical-align: top;\n    }\n\n    .dataframe thead th {\n        text-align: right;\n    }\n</style>\n<table border=\"1\" class=\"dataframe\">\n  <thead>\n    <tr style=\"text-align: right;\">\n      <th></th>\n      <th>factor</th>\n      <th>name</th>\n    </tr>\n  </thead>\n  <tbody>\n    <tr>\n      <th>0</th>\n      <td>1.362553</td>\n      <td>/auth/login/{organization_slug}/</td>\n    </tr>\n    <tr>\n      <th>1</th>\n      <td>1.343255</td>\n      <td>sentry.tasks.files.delete_file</td>\n    </tr>\n    <tr>\n      <th>2</th>\n      <td>1.233424</td>\n      <td>sentry.tasks.check_auth_identity</td>\n    </tr>\n    <tr>\n      <th>3</th>\n      <td>1.029705</td>\n      <td>/dashboard/:dashboardId/</td>\n    </tr>\n    <tr>\n      <th>4</th>\n      <td>0.976686</td>\n      <td>sentry.profiles.task.process_profile</td>\n    </tr>\n  </tbody>\n</table>\n</div>"
     },
     "execution_count": 16,
     "metadata": {},
     "output_type": "execute_result"
    }
   ],
   "source": [
    "rules_file_name = \"https://raw.githubusercontent.com/RaduW/volume-rebalance/main/rules-2023-03-30.json\"\n",
    "rules_data = utils.json_rules_to_frame(rules_file_name)\n",
    "rules_data.head()"
   ]
  },
  {
   "cell_type": "markdown",
   "metadata": {
    "id": "s69nUY6B7M86"
   },
   "source": [
    "# Model params\n",
    "\n",
    "The model has the following input parameters:\n",
    "\n",
    "*   a list of initial counts representing the number of elements for each class `counts`\n",
    "*   an overall desired sample rate: `global_rate` (input via slider)\n",
    "\n"
   ]
  },
  {
   "cell_type": "code",
   "execution_count": 17,
   "metadata": {
    "ExecuteTime": {
     "start_time": "2023-04-06T14:09:20.791623Z",
     "end_time": "2023-04-06T14:09:20.869106Z"
    },
    "id": "ZdADbCt5UQ1u"
   },
   "outputs": [],
   "source": [
    "def process_data(global_rate:float, items_high:int, items_low:int, project:str, trans_data: pd.DataFrame, intensity:float):\n",
    "\n",
    "    data = trans_data.sort_values(by=[\"freq\"],ignore_index=True, ascending=True)\n",
    "    data = data[data[\"proj_name\"] == project]\n",
    "\n",
    "    counts = data[\"freq\"]\n",
    "    ideal_rate = counts.mean() * global_rate\n",
    "    cnts_min = counts.min()\n",
    "    cnts_max = counts.max()\n",
    "    total = counts.sum()\n",
    "    num_classes = len(counts)\n",
    "\n",
    "    data = data.set_index(\"name\", drop=False)\n",
    "    data[\"original\"] = data[\"freq\"]* global_rate\n",
    "    if items_low + items_high < num_classes:\n",
    "      if items_high == 0:\n",
    "        explicit_transactions = data[:items_low]\n",
    "      else:\n",
    "        explicit_transactions = pd.concat([data[:items_low], data[-items_high:]])\n",
    "    else:\n",
    "      explicit_transactions = data # we resize everything explicitly\n",
    "\n",
    "    explicit_transactions_tuple = list(explicit_transactions[[\"name\", \"freq\"]].itertuples(name=None, index=False))\n",
    "    adjusted, implicit_rate = adjust_sample_rate_v2(classes=explicit_transactions_tuple, rate=global_rate, total_num_classes=num_classes, total=total, intensity=intensity)\n",
    "    adjusted_df = pd.DataFrame.from_dict(data = adjusted, orient=\"index\", columns=[\"adjusted_rate\"] )\n",
    "\n",
    "    # now calculate the adjusted count\n",
    "    df = data.join(adjusted_df, how=\"outer\")\n",
    "\n",
    "    # # keep count of the explicit rates\n",
    "    df[\"explicit\"]= ~df['adjusted_rate'].isna()\n",
    "    # # set the adjusted rates for the implicit values \n",
    "    df[\"adjusted_rate\"] = df[\"adjusted_rate\"].fillna(implicit_rate)\n",
    "\n",
    "    df[\"adjusted\"] = df[\"freq\"]* df[\"adjusted_rate\"]\n",
    "\n",
    "    print( f\"Num classes:{num_classes} implicit_rate:{implicit_rate} original_rate:{global_rate}\")\n",
    "    return df  \n",
    "\n",
    "\n",
    "\n",
    "def plot_rates(ax, data, last_low, first_high, global_rate, x_limit=None, log=False):\n",
    "  if x_limit is not None:\n",
    "    ax.set_xlim(*x_limit)\n",
    "    data = data[data[\"freq\"]<x_limit[1]]\n",
    "\n",
    "  if log:\n",
    "    plt.xscale(\"log\")\n",
    "    plt.yscale(\"log\")\n",
    "  else:\n",
    "    plt.xscale(\"linear\")\n",
    "    plt.yscale(\"linear\")\n",
    "\n",
    "\n",
    "  counts_series = data[\"freq\"]\n",
    "\n",
    "  cnts_min = counts_series.min()\n",
    "  cnts_max =  counts_series.max()\n",
    "  ideal_rate = counts_series.mean() * global_rate\n",
    "  rate_max = data.rate.max()\n",
    "\n",
    "  if not log:\n",
    "    #ideal level\n",
    "    ax.text((cnts_min+cnts_max)/2, ideal_rate, \"ideal rate\", horizontalalignment='center', verticalalignment=\"bottom\", size='medium', color='black')\n",
    "    sns.lineplot( x=[cnts_min, cnts_max], y=[ideal_rate,ideal_rate], ax = ax);\n",
    "    # border lower values\n",
    "    sns.lineplot( x=[last_low,last_low+0.001], y=[0, rate_max], color=\"blue\", ax=ax);\n",
    "    # border higher values\n",
    "    sns.lineplot( x=[first_high,first_high+0.001], y=[0, rate_max], color=\"red\", ax=ax, );\n",
    "\n",
    "  sns.scatterplot(data=data, x=\"freq\", y=\"rate\", hue =\"series\", style=\"explicit\", ax=ax)\n",
    "\n",
    "def draw_rate_change(ax, df):\n",
    "  def minor_tick_format(tick_val, tick_pos):\n",
    "    if tick_val < 0:\n",
    "      tick_val *= -1\n",
    "    while tick_val < 1:\n",
    "      tick_val *=10\n",
    "    while tick_val > 10:\n",
    "      tick_val /=10\n",
    "    return f\"{int(tick_val)%10}\"\n",
    "    \n",
    "\n",
    "  ax.set_yscale(\"log\")\n",
    "  ax.set_xscale(\"log\")\n",
    "  ax.grid(which='minor')\n",
    "  sns.scatterplot(data=df, x=\"freq\", y=\"adjusted_rate\", hue =\"explicit\", style=\"explicit\", ax=ax)\n",
    "  ax.xaxis.set_minor_formatter(minor_tick_format)\n",
    "  ax.set_title(\"Sample Rate\")\n",
    "\n",
    "\n",
    "def draw_rebalance_graphs(global_rate, items_high, items_low, project, trans_data, intensity):\n",
    "\n",
    "    df = process_data(global_rate, items_high, items_low, project, trans_data, intensity)\n",
    "\n",
    "    counts_series = df[\"freq\"]\n",
    "\n",
    "    last_low = counts_series.iloc[items_low]\n",
    "    first_high = counts_series.iloc[-items_high]\n",
    "\n",
    "    df2 = df.melt(id_vars=[\"freq\",\"explicit\"],value_vars=[\"adjusted\",\"original\"], var_name=\"series\", value_name = \"rate\")\n",
    "    fig, ax = plt.subplots(nrows = 4 ,figsize=(20,20))\n",
    "    \n",
    "    draw_rate_change(ax[0], df)\n",
    "    plot_rates(ax[1], df2, last_low, first_high, global_rate)\n",
    "    plot_rates(ax[2], df2, last_low, first_high, global_rate, x_limit=(-20, 220))\n",
    "    plot_rates(ax[3], df2, last_low, first_high, global_rate, log=True)\n",
    "\n",
    "\n"
   ]
  },
  {
   "cell_type": "markdown",
   "metadata": {
    "id": "XRkWaNAeAYUP"
   },
   "source": [
    "\n",
    "### Counts"
   ]
  },
  {
   "cell_type": "code",
   "execution_count": 18,
   "metadata": {
    "ExecuteTime": {
     "start_time": "2023-04-06T14:09:20.818496Z",
     "end_time": "2023-04-06T14:09:20.872528Z"
    },
    "colab": {
     "base_uri": "https://localhost:8080/",
     "height": 206
    },
    "id": "P_EEcgU2Bs1o",
    "outputId": "ff2e5061-5cf5-4258-8c72-a4b23ce53baa"
   },
   "outputs": [
    {
     "data": {
      "text/plain": "                                                name  freq  proj_id proj_name\n0                                  /api/0/customers/     1        1    sentry\n1  /organizations/:orgId/alerts/rules/details/:ru...     1        1    sentry\n2  /api/0/organizations/{organization_slug}/auth-...     1        1    sentry\n3                                        //index.php     1        1    sentry\n4                            /api/0/users/{user_id}/     1        1    sentry",
      "text/html": "<div>\n<style scoped>\n    .dataframe tbody tr th:only-of-type {\n        vertical-align: middle;\n    }\n\n    .dataframe tbody tr th {\n        vertical-align: top;\n    }\n\n    .dataframe thead th {\n        text-align: right;\n    }\n</style>\n<table border=\"1\" class=\"dataframe\">\n  <thead>\n    <tr style=\"text-align: right;\">\n      <th></th>\n      <th>name</th>\n      <th>freq</th>\n      <th>proj_id</th>\n      <th>proj_name</th>\n    </tr>\n  </thead>\n  <tbody>\n    <tr>\n      <th>0</th>\n      <td>/api/0/customers/</td>\n      <td>1</td>\n      <td>1</td>\n      <td>sentry</td>\n    </tr>\n    <tr>\n      <th>1</th>\n      <td>/organizations/:orgId/alerts/rules/details/:ru...</td>\n      <td>1</td>\n      <td>1</td>\n      <td>sentry</td>\n    </tr>\n    <tr>\n      <th>2</th>\n      <td>/api/0/organizations/{organization_slug}/auth-...</td>\n      <td>1</td>\n      <td>1</td>\n      <td>sentry</td>\n    </tr>\n    <tr>\n      <th>3</th>\n      <td>//index.php</td>\n      <td>1</td>\n      <td>1</td>\n      <td>sentry</td>\n    </tr>\n    <tr>\n      <th>4</th>\n      <td>/api/0/users/{user_id}/</td>\n      <td>1</td>\n      <td>1</td>\n      <td>sentry</td>\n    </tr>\n  </tbody>\n</table>\n</div>"
     },
     "execution_count": 18,
     "metadata": {},
     "output_type": "execute_result"
    }
   ],
   "source": [
    "trans_data.head()"
   ]
  },
  {
   "cell_type": "markdown",
   "metadata": {
    "id": "EgcBX0eEAESL"
   },
   "source": [
    "### Sample rate"
   ]
  },
  {
   "cell_type": "code",
   "execution_count": 19,
   "metadata": {
    "ExecuteTime": {
     "start_time": "2023-04-06T14:09:20.824408Z",
     "end_time": "2023-04-06T14:09:22.962604Z"
    },
    "colab": {
     "base_uri": "https://localhost:8080/",
     "height": 1000,
     "referenced_widgets": [
      "bbc6838e6b5548eca048f8900d6000eb",
      "5af7c29def5046b59a931b81f1622a40",
      "843c37f6cb6a4047ba6f8566c5db1004",
      "be5c2a4aa7e84da582ea81c59d64be2d",
      "5b5c70c8d6d74534a03cbd0d9ef20705",
      "485da08ffeb84b8db917a15a90b5cf2c",
      "c52920a7392c414790a431a3d45fa76f",
      "53f21a7aa3194318ae62abf4bb7ad2e4",
      "94b7dc535efd4c83a7fc8f918ccbc779",
      "d0445900e0a5472e9ba9ead7c9e1dbeb",
      "b263d5e8d53848fcb6907c977b890e8f",
      "e923742ffacd4d61bb84485dc7b8bc81",
      "e7be0a42315f46cdb5e40b821a7cf5a0",
      "165e677d8a0d45e885aaf507db03be78",
      "701b3bb5fb6941629a87414c2fdfadf3",
      "9c5f1ff42da54a5b85e7422bcfe6a6c9"
     ]
    },
    "id": "VDGq8Siw9iFV",
    "outputId": "8146e3ed-7f1d-49aa-a0b3-05f64bc6ff23"
   },
   "outputs": [
    {
     "data": {
      "text/plain": "interactive(children=(FloatSlider(value=0.1, description='sample rate', max=1.0, step=0.001), BoundedIntText(v…",
      "application/vnd.jupyter.widget-view+json": {
       "version_major": 2,
       "version_minor": 0,
       "model_id": "25acbcefe02e49f58aad8fb0c214a6b6"
      }
     },
     "metadata": {},
     "output_type": "display_data"
    }
   ],
   "source": [
    "global_rate=widgets.FloatSlider(min=0,max=1,value=0.1, step=0.001 , description= \"sample rate\");\n",
    "num_classes = len(trans_data)\n",
    "items_high=widgets.BoundedIntText(min=0,max=num_classes,value=20,\n",
    "                                  description=\"items high\");\n",
    "items_low =widgets.BoundedIntText(min=0,max=num_classes,value=20,step=1,\n",
    "    description='items low')\n",
    "\n",
    "project_names = list(PROJECTS.keys())\n",
    "\n",
    "project= widgets.Dropdown(\n",
    "    options=project_names,\n",
    "    value='sentry',\n",
    "    description='Project:',\n",
    ")\n",
    "#global_rate = widgets.FloatText(min=0,max=1,value=0.1, step=0.001 )\n",
    "def rebalance_generator(trans_data):\n",
    "  def inner( global_rate, items_high, items_low, project):\n",
    "    draw_rebalance_graphs(global_rate, items_high,items_low, project, trans_data, 1)\n",
    "  return inner\n",
    "\n",
    "widgets.interact(rebalance_generator(trans_data), global_rate = global_rate, items_high=items_high, items_low=items_low, project=project);"
   ]
  },
  {
   "cell_type": "markdown",
   "metadata": {
    "id": "0MXv8FdAvA6s"
   },
   "source": [
    "## Implicit rate calculations\n",
    "\n",
    "Show how the implicit rate changes with the amount of transactions considered\n",
    "Both High and Low\n"
   ]
  },
  {
   "cell_type": "code",
   "execution_count": 20,
   "metadata": {
    "ExecuteTime": {
     "start_time": "2023-04-06T14:09:22.972136Z",
     "end_time": "2023-04-06T14:09:24.463903Z"
    },
    "id": "JYZMnwn2u_Nd"
   },
   "outputs": [],
   "source": [
    "rate =0.009313539800358329\n",
    "project_name = \"sentry\"\n",
    "proj_data = trans_data[trans_data[\"proj_name\"] == project_name]\n",
    "proj_data = proj_data.sort_values(by=[\"freq\"],ignore_index=True, ascending=True)\n",
    "\n",
    "\n",
    "def get_implicit_rate(global_rate:float, items_high:int, items_low:int, data: pd.DataFrame):\n",
    "    counts = data[\"freq\"]\n",
    "    total = counts.sum()\n",
    "    num_classes = len(counts)\n",
    "\n",
    "    data = data.set_index(\"name\", drop=False)\n",
    "    if items_low + items_high < num_classes:\n",
    "      if items_high == 0:\n",
    "        explicit_transactions = data[:items_low]\n",
    "      else:\n",
    "        explicit_transactions = pd.concat([data[:items_low], data[-items_high:]])\n",
    "    else:\n",
    "      explicit_transactions = data # we resize everything explicitly\n",
    "\n",
    "    explicit_transactions_tuple = list(explicit_transactions[[\"name\", \"freq\"]].itertuples(name=None, index=False))\n",
    "    adjusted, implicit_rate = adjust_sample_rate_v2(classes=explicit_transactions_tuple, rate=global_rate, total_num_classes=num_classes, total=total, intensity=1)\n",
    "    return implicit_rate\n",
    "\n",
    "def get_implicit_rates(rate, project_data):\n",
    "\n",
    "  num_transactions = len(proj_data)\n",
    "  rates = []\n",
    "  for i in range(1,num_transactions):\n",
    "    high = get_implicit_rate(rate, i, 0, proj_data)\n",
    "    rates.append((\"high\",high, i))\n",
    "    low = get_implicit_rate(rate, 0, i , proj_data)\n",
    "    rates.append((\"low\",low, i))\n",
    "    if i %2 == 0 :\n",
    "      both = get_implicit_rate(rate, i//2, i//2, proj_data)\n",
    "      rates.append((\"both\", both, i))\n",
    "  \n",
    "  df = pd.DataFrame(data=rates, columns=[\"adjust\", \"rate\", \"count\"])\n",
    "  df[\"factor\"] = df[\"rate\"]/rate\n",
    "  return df\n",
    "\n",
    "rates = get_implicit_rates(rate, proj_data)  \n",
    "\n"
   ]
  },
  {
   "cell_type": "code",
   "execution_count": 21,
   "metadata": {
    "ExecuteTime": {
     "start_time": "2023-04-06T14:09:24.464673Z",
     "end_time": "2023-04-06T14:09:24.827437Z"
    },
    "colab": {
     "base_uri": "https://localhost:8080/",
     "height": 465
    },
    "id": "0VOJjvE12pU4",
    "outputId": "89d1c44f-33d3-4679-8009-b62d821c8e11"
   },
   "outputs": [
    {
     "data": {
      "text/plain": "<Figure size 1500x500 with 2 Axes>",
      "image/png": "[encoded data removed]"
     },
     "metadata": {},
     "output_type": "display_data"
    }
   ],
   "source": [
    "fig, ax =plt.subplots(1,2,figsize=(15, 5))\n",
    "sns.lineplot(rates, x=\"count\", y=\"rate\", style=\"adjust\", ax=ax[0])\n",
    "sns.lineplot(rates, x=\"count\", y=\"factor\", style=\"adjust\", ax=ax[1]);"
   ]
  },
  {
   "cell_type": "code",
   "execution_count": 22,
   "metadata": {
    "ExecuteTime": {
     "start_time": "2023-04-06T14:09:24.827349Z",
     "end_time": "2023-04-06T14:09:24.836838Z"
    },
    "colab": {
     "base_uri": "https://localhost:8080/",
     "height": 455
    },
    "id": "AEJCXnbE2mON",
    "outputId": "5202c2f1-9f1a-40a8-f8b5-e6d7a8ac6447"
   },
   "outputs": [
    {
     "data": {
      "text/plain": "       factor_both  factor_high  factor_low\ncount                                      \n1              NaN     1.354277    0.999929\n2         1.352017     1.606868    0.999859\n3              NaN     1.768125    0.999788\n4         1.601497     1.891286    0.999718\n5              NaN     2.031437    0.999647\n...            ...          ...         ...\n595            NaN   107.370562    0.016281\n596      89.712440   107.370562    0.014041\n597            NaN   107.370562    0.011435\n598      89.712440   107.370562    0.008778\n599            NaN   107.370562    0.006341\n\n[599 rows x 3 columns]",
      "text/html": "<div>\n<style scoped>\n    .dataframe tbody tr th:only-of-type {\n        vertical-align: middle;\n    }\n\n    .dataframe tbody tr th {\n        vertical-align: top;\n    }\n\n    .dataframe thead th {\n        text-align: right;\n    }\n</style>\n<table border=\"1\" class=\"dataframe\">\n  <thead>\n    <tr style=\"text-align: right;\">\n      <th></th>\n      <th>factor_both</th>\n      <th>factor_high</th>\n      <th>factor_low</th>\n    </tr>\n    <tr>\n      <th>count</th>\n      <th></th>\n      <th></th>\n      <th></th>\n    </tr>\n  </thead>\n  <tbody>\n    <tr>\n      <th>1</th>\n      <td>NaN</td>\n      <td>1.354277</td>\n      <td>0.999929</td>\n    </tr>\n    <tr>\n      <th>2</th>\n      <td>1.352017</td>\n      <td>1.606868</td>\n      <td>0.999859</td>\n    </tr>\n    <tr>\n      <th>3</th>\n      <td>NaN</td>\n      <td>1.768125</td>\n      <td>0.999788</td>\n    </tr>\n    <tr>\n      <th>4</th>\n      <td>1.601497</td>\n      <td>1.891286</td>\n      <td>0.999718</td>\n    </tr>\n    <tr>\n      <th>5</th>\n      <td>NaN</td>\n      <td>2.031437</td>\n      <td>0.999647</td>\n    </tr>\n    <tr>\n      <th>...</th>\n      <td>...</td>\n      <td>...</td>\n      <td>...</td>\n    </tr>\n    <tr>\n      <th>595</th>\n      <td>NaN</td>\n      <td>107.370562</td>\n      <td>0.016281</td>\n    </tr>\n    <tr>\n      <th>596</th>\n      <td>89.712440</td>\n      <td>107.370562</td>\n      <td>0.014041</td>\n    </tr>\n    <tr>\n      <th>597</th>\n      <td>NaN</td>\n      <td>107.370562</td>\n      <td>0.011435</td>\n    </tr>\n    <tr>\n      <th>598</th>\n      <td>89.712440</td>\n      <td>107.370562</td>\n      <td>0.008778</td>\n    </tr>\n    <tr>\n      <th>599</th>\n      <td>NaN</td>\n      <td>107.370562</td>\n      <td>0.006341</td>\n    </tr>\n  </tbody>\n</table>\n<p>599 rows × 3 columns</p>\n</div>"
     },
     "execution_count": 22,
     "metadata": {},
     "output_type": "execute_result"
    }
   ],
   "source": [
    "r = rates.set_index(\"count\").pivot(columns=\"adjust\", values=[\"factor\"])\n",
    "r.columns   =list(map(\"_\".join, r.columns))\n",
    "r"
   ]
  },
  {
   "cell_type": "code",
   "execution_count": 23,
   "metadata": {
    "ExecuteTime": {
     "start_time": "2023-04-06T14:09:24.840030Z",
     "end_time": "2023-04-06T14:09:24.847028Z"
    },
    "colab": {
     "base_uri": "https://localhost:8080/",
     "height": 455
    },
    "id": "5JKX0I3hJO9x",
    "outputId": "15cde2ea-54a6-438e-821d-8468d662e232"
   },
   "outputs": [
    {
     "data": {
      "text/plain": "       rate_both  rate_high  rate_low\ncount                                \n1            NaN   0.012613  0.009313\n2       0.012592   0.014966  0.009312\n3            NaN   0.016467  0.009312\n4       0.014916   0.017615  0.009311\n5            NaN   0.018920  0.009310\n...          ...        ...       ...\n595          NaN   1.000000  0.000152\n596     0.835540   1.000000  0.000131\n597          NaN   1.000000  0.000106\n598     0.835540   1.000000  0.000082\n599          NaN   1.000000  0.000059\n\n[599 rows x 3 columns]",
      "text/html": "<div>\n<style scoped>\n    .dataframe tbody tr th:only-of-type {\n        vertical-align: middle;\n    }\n\n    .dataframe tbody tr th {\n        vertical-align: top;\n    }\n\n    .dataframe thead th {\n        text-align: right;\n    }\n</style>\n<table border=\"1\" class=\"dataframe\">\n  <thead>\n    <tr style=\"text-align: right;\">\n      <th></th>\n      <th>rate_both</th>\n      <th>rate_high</th>\n      <th>rate_low</th>\n    </tr>\n    <tr>\n      <th>count</th>\n      <th></th>\n      <th></th>\n      <th></th>\n    </tr>\n  </thead>\n  <tbody>\n    <tr>\n      <th>1</th>\n      <td>NaN</td>\n      <td>0.012613</td>\n      <td>0.009313</td>\n    </tr>\n    <tr>\n      <th>2</th>\n      <td>0.012592</td>\n      <td>0.014966</td>\n      <td>0.009312</td>\n    </tr>\n    <tr>\n      <th>3</th>\n      <td>NaN</td>\n      <td>0.016467</td>\n      <td>0.009312</td>\n    </tr>\n    <tr>\n      <th>4</th>\n      <td>0.014916</td>\n      <td>0.017615</td>\n      <td>0.009311</td>\n    </tr>\n    <tr>\n      <th>5</th>\n      <td>NaN</td>\n      <td>0.018920</td>\n      <td>0.009310</td>\n    </tr>\n    <tr>\n      <th>...</th>\n      <td>...</td>\n      <td>...</td>\n      <td>...</td>\n    </tr>\n    <tr>\n      <th>595</th>\n      <td>NaN</td>\n      <td>1.000000</td>\n      <td>0.000152</td>\n    </tr>\n    <tr>\n      <th>596</th>\n      <td>0.835540</td>\n      <td>1.000000</td>\n      <td>0.000131</td>\n    </tr>\n    <tr>\n      <th>597</th>\n      <td>NaN</td>\n      <td>1.000000</td>\n      <td>0.000106</td>\n    </tr>\n    <tr>\n      <th>598</th>\n      <td>0.835540</td>\n      <td>1.000000</td>\n      <td>0.000082</td>\n    </tr>\n    <tr>\n      <th>599</th>\n      <td>NaN</td>\n      <td>1.000000</td>\n      <td>0.000059</td>\n    </tr>\n  </tbody>\n</table>\n<p>599 rows × 3 columns</p>\n</div>"
     },
     "execution_count": 23,
     "metadata": {},
     "output_type": "execute_result"
    }
   ],
   "source": [
    "\n",
    "f = rates.set_index(\"count\").pivot(columns=\"adjust\", values=[\"rate\"])\n",
    "f.columns   =list(map(\"_\".join, f.columns))\n",
    "f"
   ]
  },
  {
   "cell_type": "code",
   "execution_count": 28,
   "metadata": {
    "ExecuteTime": {
     "start_time": "2023-04-06T14:11:55.553167Z",
     "end_time": "2023-04-06T14:11:55.570641Z"
    },
    "colab": {
     "base_uri": "https://localhost:8080/",
     "height": 441
    },
    "id": "SnaTcnrdwhpc",
    "outputId": "18cd6244-a2c6-44a2-8d3d-a2e813a7732a"
   },
   "outputs": [
    {
     "name": "stdout",
     "output_type": "stream",
     "text": [
      "Num classes:600 implicit_rate:0.27972316050849144 original_rate:0.1\n"
     ]
    },
    {
     "data": {
      "text/plain": "                                                                                                name  \\\n                                                                                                       \n/                                                                                                  /   \n/*                                                                                                /*   \n/.*/                                                                                            /.*/   \n/.well-known/dnt-policy.txt                                              /.well-known/dnt-policy.txt   \n...                                                                                              ...   \nsentry.tasks.store.symbolicate_event                            sentry.tasks.store.symbolicate_event   \nsentry.tasks.store.symbolicate_event_low_priority  sentry.tasks.store.symbolicate_event_low_priority   \nsentry.tasks.update_code_owners_schema                        sentry.tasks.update_code_owners_schema   \nsentry.tasks.user_report                                                    sentry.tasks.user_report   \ntasks.spike_protection.run_spike_projection              tasks.spike_protection.run_spike_projection   \n\n                                                   freq  proj_id proj_name  \\\n                                                   2897        1    sentry   \n/                                                  2737        1    sentry   \n/*                                                  300        1    sentry   \n/.*/                                                597        1    sentry   \n/.well-known/dnt-policy.txt                         115        1    sentry   \n...                                                 ...      ...       ...   \nsentry.tasks.store.symbolicate_event               3777        1    sentry   \nsentry.tasks.store.symbolicate_event_low_priority     1        1    sentry   \nsentry.tasks.update_code_owners_schema               31        1    sentry   \nsentry.tasks.user_report                              1        1    sentry   \ntasks.spike_protection.run_spike_projection           2        1    sentry   \n\n                                                   original  adjusted_rate  \\\n                                                      289.7       0.279723   \n/                                                     273.7       0.279723   \n/*                                                     30.0       0.279723   \n/.*/                                                   59.7       0.279723   \n/.well-known/dnt-policy.txt                            11.5       0.279723   \n...                                                     ...            ...   \nsentry.tasks.store.symbolicate_event                  377.7       0.279723   \nsentry.tasks.store.symbolicate_event_low_priority       0.1       0.279723   \nsentry.tasks.update_code_owners_schema                  3.1       0.279723   \nsentry.tasks.user_report                                0.1       0.279723   \ntasks.spike_protection.run_spike_projection             0.2       0.279723   \n\n                                                   explicit     adjusted  \\\n                                                      False   810.357996   \n/                                                     False   765.602290   \n/*                                                    False    83.916948   \n/.*/                                                  False   166.994727   \n/.well-known/dnt-policy.txt                           False    32.168163   \n...                                                     ...          ...   \nsentry.tasks.store.symbolicate_event                  False  1056.514377   \nsentry.tasks.store.symbolicate_event_low_priority     False     0.279723   \nsentry.tasks.update_code_owners_schema                False     8.671418   \nsentry.tasks.user_report                              False     0.279723   \ntasks.spike_protection.run_spike_projection           False     0.559446   \n\n                                                      factor  \n                                                   30.609375  \n/                                                  30.609375  \n/*                                                 30.609375  \n/.*/                                               30.609375  \n/.well-known/dnt-policy.txt                        30.609375  \n...                                                      ...  \nsentry.tasks.store.symbolicate_event               30.609375  \nsentry.tasks.store.symbolicate_event_low_priority  30.609375  \nsentry.tasks.update_code_owners_schema             30.609375  \nsentry.tasks.user_report                           30.609375  \ntasks.spike_protection.run_spike_projection        30.609375  \n\n[600 rows x 9 columns]",
      "text/html": "<div>\n<style scoped>\n    .dataframe tbody tr th:only-of-type {\n        vertical-align: middle;\n    }\n\n    .dataframe tbody tr th {\n        vertical-align: top;\n    }\n\n    .dataframe thead th {\n        text-align: right;\n    }\n</style>\n<table border=\"1\" class=\"dataframe\">\n  <thead>\n    <tr style=\"text-align: right;\">\n      <th></th>\n      <th>name</th>\n      <th>freq</th>\n      <th>proj_id</th>\n      <th>proj_name</th>\n      <th>original</th>\n      <th>adjusted_rate</th>\n      <th>explicit</th>\n      <th>adjusted</th>\n      <th>factor</th>\n    </tr>\n  </thead>\n  <tbody>\n    <tr>\n      <th></th>\n      <td></td>\n      <td>2897</td>\n      <td>1</td>\n      <td>sentry</td>\n      <td>289.7</td>\n      <td>0.279723</td>\n      <td>False</td>\n      <td>810.357996</td>\n      <td>30.609375</td>\n    </tr>\n    <tr>\n      <th>/</th>\n      <td>/</td>\n      <td>2737</td>\n      <td>1</td>\n      <td>sentry</td>\n      <td>273.7</td>\n      <td>0.279723</td>\n      <td>False</td>\n      <td>765.602290</td>\n      <td>30.609375</td>\n    </tr>\n    <tr>\n      <th>/*</th>\n      <td>/*</td>\n      <td>300</td>\n      <td>1</td>\n      <td>sentry</td>\n      <td>30.0</td>\n      <td>0.279723</td>\n      <td>False</td>\n      <td>83.916948</td>\n      <td>30.609375</td>\n    </tr>\n    <tr>\n      <th>/.*/</th>\n      <td>/.*/</td>\n      <td>597</td>\n      <td>1</td>\n      <td>sentry</td>\n      <td>59.7</td>\n      <td>0.279723</td>\n      <td>False</td>\n      <td>166.994727</td>\n      <td>30.609375</td>\n    </tr>\n    <tr>\n      <th>/.well-known/dnt-policy.txt</th>\n      <td>/.well-known/dnt-policy.txt</td>\n      <td>115</td>\n      <td>1</td>\n      <td>sentry</td>\n      <td>11.5</td>\n      <td>0.279723</td>\n      <td>False</td>\n      <td>32.168163</td>\n      <td>30.609375</td>\n    </tr>\n    <tr>\n      <th>...</th>\n      <td>...</td>\n      <td>...</td>\n      <td>...</td>\n      <td>...</td>\n      <td>...</td>\n      <td>...</td>\n      <td>...</td>\n      <td>...</td>\n      <td>...</td>\n    </tr>\n    <tr>\n      <th>sentry.tasks.store.symbolicate_event</th>\n      <td>sentry.tasks.store.symbolicate_event</td>\n      <td>3777</td>\n      <td>1</td>\n      <td>sentry</td>\n      <td>377.7</td>\n      <td>0.279723</td>\n      <td>False</td>\n      <td>1056.514377</td>\n      <td>30.609375</td>\n    </tr>\n    <tr>\n      <th>sentry.tasks.store.symbolicate_event_low_priority</th>\n      <td>sentry.tasks.store.symbolicate_event_low_priority</td>\n      <td>1</td>\n      <td>1</td>\n      <td>sentry</td>\n      <td>0.1</td>\n      <td>0.279723</td>\n      <td>False</td>\n      <td>0.279723</td>\n      <td>30.609375</td>\n    </tr>\n    <tr>\n      <th>sentry.tasks.update_code_owners_schema</th>\n      <td>sentry.tasks.update_code_owners_schema</td>\n      <td>31</td>\n      <td>1</td>\n      <td>sentry</td>\n      <td>3.1</td>\n      <td>0.279723</td>\n      <td>False</td>\n      <td>8.671418</td>\n      <td>30.609375</td>\n    </tr>\n    <tr>\n      <th>sentry.tasks.user_report</th>\n      <td>sentry.tasks.user_report</td>\n      <td>1</td>\n      <td>1</td>\n      <td>sentry</td>\n      <td>0.1</td>\n      <td>0.279723</td>\n      <td>False</td>\n      <td>0.279723</td>\n      <td>30.609375</td>\n    </tr>\n    <tr>\n      <th>tasks.spike_protection.run_spike_projection</th>\n      <td>tasks.spike_protection.run_spike_projection</td>\n      <td>2</td>\n      <td>1</td>\n      <td>sentry</td>\n      <td>0.2</td>\n      <td>0.279723</td>\n      <td>False</td>\n      <td>0.559446</td>\n      <td>30.609375</td>\n    </tr>\n  </tbody>\n</table>\n<p>600 rows × 9 columns</p>\n</div>"
     },
     "execution_count": 28,
     "metadata": {},
     "output_type": "execute_result"
    }
   ],
   "source": [
    "items_high = 10\n",
    "items_low = 20\n",
    "rate = 0.1\n",
    "intensity= 1.0\n",
    "\n",
    "data = process_data(rate, items_high, items_low, \"sentry\", trans_data, intensity)\n",
    "implicit_factor= rules_data.loc[ rules_data[\"name\"]==\"*\"].iloc[0][\"factor\"]\n",
    "rules_series = rules_data.set_index(\"name\", drop=True)[\"factor\"]\n",
    "\n",
    "full_data = data.join(rules_series, how=\"left\")\n",
    "full_data[\"factor\"] = full_data[\"factor\"].fillna(implicit_factor)\n",
    "full_data\n"
   ]
  },
  {
   "cell_type": "code",
   "execution_count": 24,
   "metadata": {
    "ExecuteTime": {
     "start_time": "2023-04-06T14:09:24.864875Z",
     "end_time": "2023-04-06T14:09:24.967535Z"
    },
    "id": "sKKksKZ4MCAF"
   },
   "outputs": [],
   "source": []
  },
  {
   "cell_type": "code",
   "execution_count": 24,
   "metadata": {
    "ExecuteTime": {
     "start_time": "2023-04-06T14:09:24.870534Z",
     "end_time": "2023-04-06T14:09:24.976893Z"
    },
    "id": "tbsLBoHRT_6O"
   },
   "outputs": [],
   "source": []
  },
  {
   "cell_type": "markdown",
   "metadata": {
    "id": "n7aivjhDn977"
   },
   "source": [
    "# Scratch pad below\n",
    "\n",
    "Ignore....\n"
   ]
  }
 ],
 "metadata": {
  "colab": {
   "include_colab_link": true,
   "provenance": []
  },
  "kernelspec": {
   "display_name": "Python 3 (ipykernel)",
   "language": "python",
   "name": "python3"
  },
  "language_info": {
   "codemirror_mode": {
    "name": "ipython",
    "version": 3
   },
   "file_extension": ".py",
   "mimetype": "text/x-python",
   "name": "python",
   "nbconvert_exporter": "python",
   "pygments_lexer": "ipython3",
   "version": "3.10.9"
  },
  "widgets": {
   "application/vnd.jupyter.widget-state+json": {
    "165e677d8a0d45e885aaf507db03be78": {
     "model_module": "@jupyter-widgets/base",
     "model_module_version": "1.2.0",
     "model_name": "LayoutModel",
     "state": {
      "_model_module": "@jupyter-widgets/base",
      "_model_module_version": "1.2.0",
      "_model_name": "LayoutModel",
      "_view_count": null,
      "_view_module": "@jupyter-widgets/base",
      "_view_module_version": "1.2.0",
      "_view_name": "LayoutView",
      "align_content": null,
      "align_items": null,
      "align_self": null,
      "border": null,
      "bottom": null,
      "display": null,
      "flex": null,
      "flex_flow": null,
      "grid_area": null,
      "grid_auto_columns": null,
      "grid_auto_flow": null,
      "grid_auto_rows": null,
      "grid_column": null,
      "grid_gap": null,
      "grid_row": null,
      "grid_template_areas": null,
      "grid_template_columns": null,
      "grid_template_rows": null,
      "height": null,
      "justify_content": null,
      "justify_items": null,
      "left": null,
      "margin": null,
      "max_height": null,
      "max_width": null,
      "min_height": null,
      "min_width": null,
      "object_fit": null,
      "object_position": null,
      "order": null,
      "overflow": null,
      "overflow_x": null,
      "overflow_y": null,
      "padding": null,
      "right": null,
      "top": null,
      "visibility": null,
      "width": null
     }
    },
    "485da08ffeb84b8db917a15a90b5cf2c": {
     "model_module": "@jupyter-widgets/output",
     "model_module_version": "1.0.0",
     "model_name": "OutputModel",
     "state": {
      "_dom_classes": [],
      "_model_module": "@jupyter-widgets/output",
      "_model_module_version": "1.0.0",
      "_model_name": "OutputModel",
      "_view_count": null,
      "_view_module": "@jupyter-widgets/output",
      "_view_module_version": "1.0.0",
      "_view_name": "OutputView",
      "layout": "IPY_MODEL_9c5f1ff42da54a5b85e7422bcfe6a6c9",
      "msg_id": "",
      "outputs": [
       {
        "name": "stdout",
        "output_type": "stream",
        "text": [
         "Num classes:600 implicit_rate:0.4920685292653264 original_rate:0.1\n"
        ]
       }
      ]
     }
    },
    "53f21a7aa3194318ae62abf4bb7ad2e4": {
     "model_module": "@jupyter-widgets/base",
     "model_module_version": "1.2.0",
     "model_name": "LayoutModel",
     "state": {
      "_model_module": "@jupyter-widgets/base",
      "_model_module_version": "1.2.0",
      "_model_name": "LayoutModel",
      "_view_count": null,
      "_view_module": "@jupyter-widgets/base",
      "_view_module_version": "1.2.0",
      "_view_name": "LayoutView",
      "align_content": null,
      "align_items": null,
      "align_self": null,
      "border": null,
      "bottom": null,
      "display": null,
      "flex": null,
      "flex_flow": null,
      "grid_area": null,
      "grid_auto_columns": null,
      "grid_auto_flow": null,
      "grid_auto_rows": null,
      "grid_column": null,
      "grid_gap": null,
      "grid_row": null,
      "grid_template_areas": null,
      "grid_template_columns": null,
      "grid_template_rows": null,
      "height": null,
      "justify_content": null,
      "justify_items": null,
      "left": null,
      "margin": null,
      "max_height": null,
      "max_width": null,
      "min_height": null,
      "min_width": null,
      "object_fit": null,
      "object_position": null,
      "order": null,
      "overflow": null,
      "overflow_x": null,
      "overflow_y": null,
      "padding": null,
      "right": null,
      "top": null,
      "visibility": null,
      "width": null
     }
    },
    "5af7c29def5046b59a931b81f1622a40": {
     "model_module": "@jupyter-widgets/controls",
     "model_module_version": "1.5.0",
     "model_name": "FloatSliderModel",
     "state": {
      "_dom_classes": [],
      "_model_module": "@jupyter-widgets/controls",
      "_model_module_version": "1.5.0",
      "_model_name": "FloatSliderModel",
      "_view_count": null,
      "_view_module": "@jupyter-widgets/controls",
      "_view_module_version": "1.5.0",
      "_view_name": "FloatSliderView",
      "continuous_update": true,
      "description": "sample rate",
      "description_tooltip": null,
      "disabled": false,
      "layout": "IPY_MODEL_53f21a7aa3194318ae62abf4bb7ad2e4",
      "max": 1,
      "min": 0,
      "orientation": "horizontal",
      "readout": true,
      "readout_format": ".2f",
      "step": 0.001,
      "style": "IPY_MODEL_94b7dc535efd4c83a7fc8f918ccbc779",
      "value": 0.1
     }
    },
    "5b5c70c8d6d74534a03cbd0d9ef20705": {
     "model_module": "@jupyter-widgets/controls",
     "model_module_version": "1.5.0",
     "model_name": "DropdownModel",
     "state": {
      "_dom_classes": [],
      "_model_module": "@jupyter-widgets/controls",
      "_model_module_version": "1.5.0",
      "_model_name": "DropdownModel",
      "_options_labels": [
       "sentry",
       "javascript",
       "snuba",
       "gibpotato-backend"
      ],
      "_view_count": null,
      "_view_module": "@jupyter-widgets/controls",
      "_view_module_version": "1.5.0",
      "_view_name": "DropdownView",
      "description": "Project:",
      "description_tooltip": null,
      "disabled": false,
      "index": 0,
      "layout": "IPY_MODEL_165e677d8a0d45e885aaf507db03be78",
      "style": "IPY_MODEL_701b3bb5fb6941629a87414c2fdfadf3"
     }
    },
    "701b3bb5fb6941629a87414c2fdfadf3": {
     "model_module": "@jupyter-widgets/controls",
     "model_module_version": "1.5.0",
     "model_name": "DescriptionStyleModel",
     "state": {
      "_model_module": "@jupyter-widgets/controls",
      "_model_module_version": "1.5.0",
      "_model_name": "DescriptionStyleModel",
      "_view_count": null,
      "_view_module": "@jupyter-widgets/base",
      "_view_module_version": "1.2.0",
      "_view_name": "StyleView",
      "description_width": ""
     }
    },
    "843c37f6cb6a4047ba6f8566c5db1004": {
     "model_module": "@jupyter-widgets/controls",
     "model_module_version": "1.5.0",
     "model_name": "BoundedIntTextModel",
     "state": {
      "_dom_classes": [],
      "_model_module": "@jupyter-widgets/controls",
      "_model_module_version": "1.5.0",
      "_model_name": "BoundedIntTextModel",
      "_view_count": null,
      "_view_module": "@jupyter-widgets/controls",
      "_view_module_version": "1.5.0",
      "_view_name": "IntTextView",
      "continuous_update": false,
      "description": "items high",
      "description_tooltip": null,
      "disabled": false,
      "layout": "IPY_MODEL_d0445900e0a5472e9ba9ead7c9e1dbeb",
      "max": 1126,
      "min": 0,
      "step": 1,
      "style": "IPY_MODEL_b263d5e8d53848fcb6907c977b890e8f",
      "value": 20
     }
    },
    "94b7dc535efd4c83a7fc8f918ccbc779": {
     "model_module": "@jupyter-widgets/controls",
     "model_module_version": "1.5.0",
     "model_name": "SliderStyleModel",
     "state": {
      "_model_module": "@jupyter-widgets/controls",
      "_model_module_version": "1.5.0",
      "_model_name": "SliderStyleModel",
      "_view_count": null,
      "_view_module": "@jupyter-widgets/base",
      "_view_module_version": "1.2.0",
      "_view_name": "StyleView",
      "description_width": "",
      "handle_color": null
     }
    },
    "9c5f1ff42da54a5b85e7422bcfe6a6c9": {
     "model_module": "@jupyter-widgets/base",
     "model_module_version": "1.2.0",
     "model_name": "LayoutModel",
     "state": {
      "_model_module": "@jupyter-widgets/base",
      "_model_module_version": "1.2.0",
      "_model_name": "LayoutModel",
      "_view_count": null,
      "_view_module": "@jupyter-widgets/base",
      "_view_module_version": "1.2.0",
      "_view_name": "LayoutView",
      "align_content": null,
      "align_items": null,
      "align_self": null,
      "border": null,
      "bottom": null,
      "display": null,
      "flex": null,
      "flex_flow": null,
      "grid_area": null,
      "grid_auto_columns": null,
      "grid_auto_flow": null,
      "grid_auto_rows": null,
      "grid_column": null,
      "grid_gap": null,
      "grid_row": null,
      "grid_template_areas": null,
      "grid_template_columns": null,
      "grid_template_rows": null,
      "height": null,
      "justify_content": null,
      "justify_items": null,
      "left": null,
      "margin": null,
      "max_height": null,
      "max_width": null,
      "min_height": null,
      "min_width": null,
      "object_fit": null,
      "object_position": null,
      "order": null,
      "overflow": null,
      "overflow_x": null,
      "overflow_y": null,
      "padding": null,
      "right": null,
      "top": null,
      "visibility": null,
      "width": null
     }
    },
    "b263d5e8d53848fcb6907c977b890e8f": {
     "model_module": "@jupyter-widgets/controls",
     "model_module_version": "1.5.0",
     "model_name": "DescriptionStyleModel",
     "state": {
      "_model_module": "@jupyter-widgets/controls",
      "_model_module_version": "1.5.0",
      "_model_name": "DescriptionStyleModel",
      "_view_count": null,
      "_view_module": "@jupyter-widgets/base",
      "_view_module_version": "1.2.0",
      "_view_name": "StyleView",
      "description_width": ""
     }
    },
    "bbc6838e6b5548eca048f8900d6000eb": {
     "model_module": "@jupyter-widgets/controls",
     "model_module_version": "1.5.0",
     "model_name": "VBoxModel",
     "state": {
      "_dom_classes": [
       "widget-interact"
      ],
      "_model_module": "@jupyter-widgets/controls",
      "_model_module_version": "1.5.0",
      "_model_name": "VBoxModel",
      "_view_count": null,
      "_view_module": "@jupyter-widgets/controls",
      "_view_module_version": "1.5.0",
      "_view_name": "VBoxView",
      "box_style": "",
      "children": [
       "IPY_MODEL_5af7c29def5046b59a931b81f1622a40",
       "IPY_MODEL_843c37f6cb6a4047ba6f8566c5db1004",
       "IPY_MODEL_be5c2a4aa7e84da582ea81c59d64be2d",
       "IPY_MODEL_5b5c70c8d6d74534a03cbd0d9ef20705",
       "IPY_MODEL_485da08ffeb84b8db917a15a90b5cf2c"
      ],
      "layout": "IPY_MODEL_c52920a7392c414790a431a3d45fa76f"
     }
    },
    "be5c2a4aa7e84da582ea81c59d64be2d": {
     "model_module": "@jupyter-widgets/controls",
     "model_module_version": "1.5.0",
     "model_name": "BoundedIntTextModel",
     "state": {
      "_dom_classes": [],
      "_model_module": "@jupyter-widgets/controls",
      "_model_module_version": "1.5.0",
      "_model_name": "BoundedIntTextModel",
      "_view_count": null,
      "_view_module": "@jupyter-widgets/controls",
      "_view_module_version": "1.5.0",
      "_view_name": "IntTextView",
      "continuous_update": false,
      "description": "items low",
      "description_tooltip": null,
      "disabled": false,
      "layout": "IPY_MODEL_e923742ffacd4d61bb84485dc7b8bc81",
      "max": 1126,
      "min": 0,
      "step": 1,
      "style": "IPY_MODEL_e7be0a42315f46cdb5e40b821a7cf5a0",
      "value": 20
     }
    },
    "c52920a7392c414790a431a3d45fa76f": {
     "model_module": "@jupyter-widgets/base",
     "model_module_version": "1.2.0",
     "model_name": "LayoutModel",
     "state": {
      "_model_module": "@jupyter-widgets/base",
      "_model_module_version": "1.2.0",
      "_model_name": "LayoutModel",
      "_view_count": null,
      "_view_module": "@jupyter-widgets/base",
      "_view_module_version": "1.2.0",
      "_view_name": "LayoutView",
      "align_content": null,
      "align_items": null,
      "align_self": null,
      "border": null,
      "bottom": null,
      "display": null,
      "flex": null,
      "flex_flow": null,
      "grid_area": null,
      "grid_auto_columns": null,
      "grid_auto_flow": null,
      "grid_auto_rows": null,
      "grid_column": null,
      "grid_gap": null,
      "grid_row": null,
      "grid_template_areas": null,
      "grid_template_columns": null,
      "grid_template_rows": null,
      "height": null,
      "justify_content": null,
      "justify_items": null,
      "left": null,
      "margin": null,
      "max_height": null,
      "max_width": null,
      "min_height": null,
      "min_width": null,
      "object_fit": null,
      "object_position": null,
      "order": null,
      "overflow": null,
      "overflow_x": null,
      "overflow_y": null,
      "padding": null,
      "right": null,
      "top": null,
      "visibility": null,
      "width": null
     }
    },
    "d0445900e0a5472e9ba9ead7c9e1dbeb": {
     "model_module": "@jupyter-widgets/base",
     "model_module_version": "1.2.0",
     "model_name": "LayoutModel",
     "state": {
      "_model_module": "@jupyter-widgets/base",
      "_model_module_version": "1.2.0",
      "_model_name": "LayoutModel",
      "_view_count": null,
      "_view_module": "@jupyter-widgets/base",
      "_view_module_version": "1.2.0",
      "_view_name": "LayoutView",
      "align_content": null,
      "align_items": null,
      "align_self": null,
      "border": null,
      "bottom": null,
      "display": null,
      "flex": null,
      "flex_flow": null,
      "grid_area": null,
      "grid_auto_columns": null,
      "grid_auto_flow": null,
      "grid_auto_rows": null,
      "grid_column": null,
      "grid_gap": null,
      "grid_row": null,
      "grid_template_areas": null,
      "grid_template_columns": null,
      "grid_template_rows": null,
      "height": null,
      "justify_content": null,
      "justify_items": null,
      "left": null,
      "margin": null,
      "max_height": null,
      "max_width": null,
      "min_height": null,
      "min_width": null,
      "object_fit": null,
      "object_position": null,
      "order": null,
      "overflow": null,
      "overflow_x": null,
      "overflow_y": null,
      "padding": null,
      "right": null,
      "top": null,
      "visibility": null,
      "width": null
     }
    },
    "e7be0a42315f46cdb5e40b821a7cf5a0": {
     "model_module": "@jupyter-widgets/controls",
     "model_module_version": "1.5.0",
     "model_name": "DescriptionStyleModel",
     "state": {
      "_model_module": "@jupyter-widgets/controls",
      "_model_module_version": "1.5.0",
      "_model_name": "DescriptionStyleModel",
      "_view_count": null,
      "_view_module": "@jupyter-widgets/base",
      "_view_module_version": "1.2.0",
      "_view_name": "StyleView",
      "description_width": ""
     }
    },
    "e923742ffacd4d61bb84485dc7b8bc81": {
     "model_module": "@jupyter-widgets/base",
     "model_module_version": "1.2.0",
     "model_name": "LayoutModel",
     "state": {
      "_model_module": "@jupyter-widgets/base",
      "_model_module_version": "1.2.0",
      "_model_name": "LayoutModel",
      "_view_count": null,
      "_view_module": "@jupyter-widgets/base",
      "_view_module_version": "1.2.0",
      "_view_name": "LayoutView",
      "align_content": null,
      "align_items": null,
      "align_self": null,
      "border": null,
      "bottom": null,
      "display": null,
      "flex": null,
      "flex_flow": null,
      "grid_area": null,
      "grid_auto_columns": null,
      "grid_auto_flow": null,
      "grid_auto_rows": null,
      "grid_column": null,
      "grid_gap": null,
      "grid_row": null,
      "grid_template_areas": null,
      "grid_template_columns": null,
      "grid_template_rows": null,
      "height": null,
      "justify_content": null,
      "justify_items": null,
      "left": null,
      "margin": null,
      "max_height": null,
      "max_width": null,
      "min_height": null,
      "min_width": null,
      "object_fit": null,
      "object_position": null,
      "order": null,
      "overflow": null,
      "overflow_x": null,
      "overflow_y": null,
      "padding": null,
      "right": null,
      "top": null,
      "visibility": null,
      "width": null
     }
    }
   }
  }
 },
 "nbformat": 4,
 "nbformat_minor": 1
}
