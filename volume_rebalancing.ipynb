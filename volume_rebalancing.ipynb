{
  "cells": [
    {
      "cell_type": "markdown",
      "metadata": {
        "id": "view-in-github",
        "colab_type": "text"
      },
      "source": [
        "<a href=\"https://colab.research.google.com/github/RaduW/volume-rebalance/blob/main/volume_rebalancing.ipynb\" target=\"_parent\"><img src=\"https://colab.research.google.com/assets/colab-badge.svg\" alt=\"Open In Colab\"/></a>"
      ]
    },
    {
      "cell_type": "markdown",
      "metadata": {
        "id": "zdMHKb0x4JRD"
      },
      "source": [
        "\n",
        "\n",
        "# Volume Rebalancing Algorithm\n",
        "\n",
        "\n",
        "The volume rebalancing algorithm is based on the assumption that while given a global sample rate classes we want to adjust the individual class sampling rate in a way that equalises the number of sampled elements in each class while maintaining the overall sample rate."
      ]
    },
    {
      "cell_type": "code",
      "execution_count": 117,
      "metadata": {
        "id": "EO1gtKk34X5c"
      },
      "outputs": [],
      "source": [
        "from operator import itemgetter\n",
        "\n",
        "from ipywidgets import interact, widgets\n",
        "import pandas as pd\n",
        "import numpy as np\n",
        "import matplotlib as mpl\n",
        "import matplotlib.pyplot as plt\n",
        "import seaborn as sns\n",
        "\n",
        "sns.set_style(\"whitegrid\")\n"
      ]
    },
    {
      "cell_type": "code",
      "source": [
        "# import transaction data\n",
        "projects = \"https://raw.githubusercontent.com/RaduW/volume-rebalance/main/projects.json\"\n",
        "trans_data = pd.read_json(projects)"
      ],
      "metadata": {
        "id": "VkJr4d3fBEb3"
      },
      "execution_count": 118,
      "outputs": []
    },
    {
      "cell_type": "code",
      "execution_count": 119,
      "metadata": {
        "id": "NeYLNcywOgei"
      },
      "outputs": [],
      "source": [
        "import operator\n",
        "from collections import namedtuple\n",
        "from copy import copy\n",
        "from typing import List, Mapping, MutableMapping, Tuple, Union\n",
        "\n",
        "\n",
        "def adjust_sample_rate(\n",
        "    transactions: List[Tuple[str, int]], rate: float) -> Mapping[str, float]:\n",
        "    \"\"\"\n",
        "    Calculates transaction sample size in order to maximize the number of small transactions\n",
        "\n",
        "    :param transactions: the transaction types as an array of (name, count) tuples\n",
        "    :param rate: the overall desired rate\n",
        "    \"\"\"\n",
        "    # sort by transaction count\n",
        "    transactions = sorted(transactions, key=operator.itemgetter(1))\n",
        "    return adjust_sample_rate_full(transactions, rate)\n",
        "\n",
        "\n",
        "def adjust_sample_rate_full(\n",
        "    transactions: List[Tuple[str, int]], rate: float\n",
        ") -> MutableMapping[str, float]:\n",
        "    \"\"\"\n",
        "    resample all transactions to their ideal size\n",
        "    \"\"\"\n",
        "    transactions = copy(transactions)\n",
        "    ret_val = {}\n",
        "    num_transactions = total_transactions(transactions)\n",
        "    # calculate how many transactions we are allowed to keep overall\n",
        "    # this will allow us to pass transactions between different transaction types\n",
        "    total_budget = num_transactions * rate\n",
        "    while transactions:\n",
        "        num_types = len(transactions)\n",
        "        # We recalculate the budget per type every iteration to\n",
        "        # account for the cases where, in the previous step we couldn't\n",
        "        # spend all the allocated budget for that type.\n",
        "        budget_per_transaction_type = total_budget / num_types\n",
        "        name, count = transactions.pop(0)\n",
        "        if count < budget_per_transaction_type:\n",
        "            # we have fewer transactions in this type than the\n",
        "            # budget, all we can do is to keep everything\n",
        "            ret_val[name] = 1.0  # not enough samples, use all\n",
        "            total_budget -= count\n",
        "        else:\n",
        "            # we have enough transactions in current the class\n",
        "            # we want to only keep budget_per_transactions\n",
        "            transaction_rate = budget_per_transaction_type / count\n",
        "            ret_val[name] = transaction_rate\n",
        "            total_budget -= budget_per_transaction_type\n",
        "    return ret_val\n",
        "\n",
        "def total_transactions(transactions: List[Tuple[str, int]]) -> int:\n",
        "    ret_val = 0\n",
        "    for _, v in transactions:\n",
        "        ret_val += v\n",
        "    return ret_val\n",
        "    \n",
        "def counts_to_labeled_counts( counts: Union[float,int,Tuple[str,float]]):\n",
        "  counts = sorted(counts)\n",
        "  return [(f\"t-{idx}\",count) for idx,count in enumerate(counts)]"
      ]
    },
    {
      "cell_type": "markdown",
      "metadata": {
        "id": "s69nUY6B7M86"
      },
      "source": [
        "# Model params\n",
        "\n",
        "The model has the following input parameters:\n",
        "\n",
        "*   a list of initial counts representing the number of elements for each class `counts`\n",
        "*   an overall desired sample rate: `global_rate` (input via slider)\n",
        "\n"
      ]
    },
    {
      "cell_type": "code",
      "execution_count": 120,
      "metadata": {
        "id": "ZdADbCt5UQ1u"
      },
      "outputs": [],
      "source": [
        "\n",
        "\n",
        "def process_data(global_rate, transactions:List[Tuple[str,float]]):\n",
        "\n",
        "    transactions = sorted(transactions,key=itemgetter(1))\n",
        "    counts = [cnt[1] for cnt in transactions]\n",
        "\n",
        "    cnts = np.array(counts)\n",
        "    ideal_rate = np.average(cnts) * global_rate\n",
        "    cnts_min = cnts.min()\n",
        "    cnts_max = cnts.max()\n",
        "\n",
        "    labels = [ x[0] for x in transactions]\n",
        "\n",
        "    sampled_counts = cnts * global_rate\n",
        "\n",
        "    original_df = pd.DataFrame(data ={\"counts\": cnts, \"original\": sampled_counts}, index = labels)\n",
        "    adjusted = adjust_sample_rate(transactions, global_rate)\n",
        "    adjusted_df = pd.DataFrame.from_dict(data = adjusted, orient=\"index\", columns=[\"adjusted_rate\"] )\n",
        "\n",
        "    # now calculate the adjusted count\n",
        "    df = original_df.join(adjusted_df, how=\"outer\")\n",
        "\n",
        "    df[\"adjusted\"] = df[\"counts\"]* df[\"adjusted_rate\"]\n",
        "    return df  \n",
        "\n",
        "def draw_rebalance_graphs(global_rate, items_high, items_low, counts):\n",
        "\n",
        "    def draw_plot(ax, x_limit=None, log=False):\n",
        "      if x_limit is not None:\n",
        "        ax.set_xlim(*x_limit)\n",
        "        data = df2[df2[\"counts\"]<x_limit[1]]\n",
        "\n",
        "      else:\n",
        "        data= df2\n",
        "\n",
        "      if log:\n",
        "        plt.xscale(\"log\")\n",
        "        plt.yscale(\"log\")\n",
        "      else:\n",
        "        plt.xscale(\"linear\")\n",
        "        plt.yscale(\"linear\")\n",
        "\n",
        "\n",
        "      counts_series = data[\"counts\"]\n",
        "\n",
        "      cnts_min = counts_series.min()\n",
        "      cnts_max =  counts_series.max()\n",
        "      ideal_rate = counts_series.mean() * global_rate\n",
        "      rate_max = data.rate.max()\n",
        "\n",
        "      if not log:\n",
        "        sns.lineplot( x=[cnts_min, cnts_max+1], y=[ideal_rate,ideal_rate], ax = ax);\n",
        "        sns.lineplot( x=[last_low,last_low+1], y=[0, rate_max], color=\"blue\", ax=ax);\n",
        "        sns.lineplot( x=[first_high,first_high+1], y=[0, rate_max], color=\"red\", ax=ax, );\n",
        "\n",
        "      sns.scatterplot(data=data, x=\"counts\", y=\"rate\", hue =\"series\", style=\"series\", ax=ax)\n",
        "\n",
        "\n",
        "    df = process_data(global_rate, counts)\n",
        "\n",
        "    counts_series = df[\"counts\"]\n",
        "\n",
        "    last_low = counts_series.iloc[items_low]\n",
        "    first_high = counts_series.iloc[-items_high]\n",
        "\n",
        "    df2 = df.melt(id_vars=[\"counts\"],value_vars=[\"adjusted\",\"original\"], var_name=\"series\", value_name = \"rate\")\n",
        "    fig, ax = plt.subplots(nrows = 4 ,figsize=(20,20))\n",
        "\n",
        "    draw_plot(ax[0])\n",
        "    draw_plot(ax[1], x_limit=(-50,1050))\n",
        "    draw_plot(ax[2], x_limit=(-20, 220))\n",
        "    draw_plot(ax[3], log=True)\n",
        "\n",
        "\n"
      ]
    },
    {
      "cell_type": "markdown",
      "metadata": {
        "id": "XRkWaNAeAYUP"
      },
      "source": [
        "\n",
        "### Counts"
      ]
    },
    {
      "cell_type": "code",
      "source": [
        "trans_data.head()"
      ],
      "metadata": {
        "id": "P_EEcgU2Bs1o",
        "outputId": "90a3ea08-09ab-43f8-e687-cea31e28d3b3",
        "colab": {
          "base_uri": "https://localhost:8080/",
          "height": 206
        }
      },
      "execution_count": 121,
      "outputs": [
        {
          "output_type": "execute_result",
          "data": {
            "text/plain": [
              "          name       freq\n",
              "0            /  42.787500\n",
              "1           /*   4.945833\n",
              "2  /*/*/except   0.241667\n",
              "3         /.*/  11.579167\n",
              "4     /_admin/   0.025000"
            ],
            "text/html": [
              "\n",
              "  <div id=\"df-d73cec68-2132-4729-ac46-50cad95b4520\">\n",
              "    <div class=\"colab-df-container\">\n",
              "      <div>\n",
              "<style scoped>\n",
              "    .dataframe tbody tr th:only-of-type {\n",
              "        vertical-align: middle;\n",
              "    }\n",
              "\n",
              "    .dataframe tbody tr th {\n",
              "        vertical-align: top;\n",
              "    }\n",
              "\n",
              "    .dataframe thead th {\n",
              "        text-align: right;\n",
              "    }\n",
              "</style>\n",
              "<table border=\"1\" class=\"dataframe\">\n",
              "  <thead>\n",
              "    <tr style=\"text-align: right;\">\n",
              "      <th></th>\n",
              "      <th>name</th>\n",
              "      <th>freq</th>\n",
              "    </tr>\n",
              "  </thead>\n",
              "  <tbody>\n",
              "    <tr>\n",
              "      <th>0</th>\n",
              "      <td>/</td>\n",
              "      <td>42.787500</td>\n",
              "    </tr>\n",
              "    <tr>\n",
              "      <th>1</th>\n",
              "      <td>/*</td>\n",
              "      <td>4.945833</td>\n",
              "    </tr>\n",
              "    <tr>\n",
              "      <th>2</th>\n",
              "      <td>/*/*/except</td>\n",
              "      <td>0.241667</td>\n",
              "    </tr>\n",
              "    <tr>\n",
              "      <th>3</th>\n",
              "      <td>/.*/</td>\n",
              "      <td>11.579167</td>\n",
              "    </tr>\n",
              "    <tr>\n",
              "      <th>4</th>\n",
              "      <td>/_admin/</td>\n",
              "      <td>0.025000</td>\n",
              "    </tr>\n",
              "  </tbody>\n",
              "</table>\n",
              "</div>\n",
              "      <button class=\"colab-df-convert\" onclick=\"convertToInteractive('df-d73cec68-2132-4729-ac46-50cad95b4520')\"\n",
              "              title=\"Convert this dataframe to an interactive table.\"\n",
              "              style=\"display:none;\">\n",
              "        \n",
              "  <svg xmlns=\"http://www.w3.org/2000/svg\" height=\"24px\"viewBox=\"0 0 24 24\"\n",
              "       width=\"24px\">\n",
              "    <path d=\"M0 0h24v24H0V0z\" fill=\"none\"/>\n",
              "    <path d=\"M18.56 5.44l.94 2.06.94-2.06 2.06-.94-2.06-.94-.94-2.06-.94 2.06-2.06.94zm-11 1L8.5 8.5l.94-2.06 2.06-.94-2.06-.94L8.5 2.5l-.94 2.06-2.06.94zm10 10l.94 2.06.94-2.06 2.06-.94-2.06-.94-.94-2.06-.94 2.06-2.06.94z\"/><path d=\"M17.41 7.96l-1.37-1.37c-.4-.4-.92-.59-1.43-.59-.52 0-1.04.2-1.43.59L10.3 9.45l-7.72 7.72c-.78.78-.78 2.05 0 2.83L4 21.41c.39.39.9.59 1.41.59.51 0 1.02-.2 1.41-.59l7.78-7.78 2.81-2.81c.8-.78.8-2.07 0-2.86zM5.41 20L4 18.59l7.72-7.72 1.47 1.35L5.41 20z\"/>\n",
              "  </svg>\n",
              "      </button>\n",
              "      \n",
              "  <style>\n",
              "    .colab-df-container {\n",
              "      display:flex;\n",
              "      flex-wrap:wrap;\n",
              "      gap: 12px;\n",
              "    }\n",
              "\n",
              "    .colab-df-convert {\n",
              "      background-color: #E8F0FE;\n",
              "      border: none;\n",
              "      border-radius: 50%;\n",
              "      cursor: pointer;\n",
              "      display: none;\n",
              "      fill: #1967D2;\n",
              "      height: 32px;\n",
              "      padding: 0 0 0 0;\n",
              "      width: 32px;\n",
              "    }\n",
              "\n",
              "    .colab-df-convert:hover {\n",
              "      background-color: #E2EBFA;\n",
              "      box-shadow: 0px 1px 2px rgba(60, 64, 67, 0.3), 0px 1px 3px 1px rgba(60, 64, 67, 0.15);\n",
              "      fill: #174EA6;\n",
              "    }\n",
              "\n",
              "    [theme=dark] .colab-df-convert {\n",
              "      background-color: #3B4455;\n",
              "      fill: #D2E3FC;\n",
              "    }\n",
              "\n",
              "    [theme=dark] .colab-df-convert:hover {\n",
              "      background-color: #434B5C;\n",
              "      box-shadow: 0px 1px 3px 1px rgba(0, 0, 0, 0.15);\n",
              "      filter: drop-shadow(0px 1px 2px rgba(0, 0, 0, 0.3));\n",
              "      fill: #FFFFFF;\n",
              "    }\n",
              "  </style>\n",
              "\n",
              "      <script>\n",
              "        const buttonEl =\n",
              "          document.querySelector('#df-d73cec68-2132-4729-ac46-50cad95b4520 button.colab-df-convert');\n",
              "        buttonEl.style.display =\n",
              "          google.colab.kernel.accessAllowed ? 'block' : 'none';\n",
              "\n",
              "        async function convertToInteractive(key) {\n",
              "          const element = document.querySelector('#df-d73cec68-2132-4729-ac46-50cad95b4520');\n",
              "          const dataTable =\n",
              "            await google.colab.kernel.invokeFunction('convertToInteractive',\n",
              "                                                     [key], {});\n",
              "          if (!dataTable) return;\n",
              "\n",
              "          const docLinkHtml = 'Like what you see? Visit the ' +\n",
              "            '<a target=\"_blank\" href=https://colab.research.google.com/notebooks/data_table.ipynb>data table notebook</a>'\n",
              "            + ' to learn more about interactive tables.';\n",
              "          element.innerHTML = '';\n",
              "          dataTable['output_type'] = 'display_data';\n",
              "          await google.colab.output.renderOutput(dataTable, element);\n",
              "          const docLink = document.createElement('div');\n",
              "          docLink.innerHTML = docLinkHtml;\n",
              "          element.appendChild(docLink);\n",
              "        }\n",
              "      </script>\n",
              "    </div>\n",
              "  </div>\n",
              "  "
            ]
          },
          "metadata": {},
          "execution_count": 121
        }
      ]
    },
    {
      "cell_type": "code",
      "execution_count": 122,
      "metadata": {
        "id": "SdTAuZrgAWWV",
        "colab": {
          "base_uri": "https://localhost:8080/"
        },
        "outputId": "39804f46-a71c-4e6a-9b15-99ffb1ed3aaf"
      },
      "outputs": [
        {
          "output_type": "execute_result",
          "data": {
            "text/plain": [
              "568"
            ]
          },
          "metadata": {},
          "execution_count": 122
        }
      ],
      "source": [
        "counts = [10,500.37,  3999.88, 7000, 9000]\n",
        "counts = counts_to_labeled_counts(counts)\n",
        "\n",
        "# override counts with real transaction data\n",
        "# multipy the freq by 1000 to make it easyer to display ()\n",
        "trans_data['freq'] = trans_data['freq']\n",
        "counts = list(trans_data.itertuples(index=False, name=None))\n",
        "num_transactions = len(counts)\n",
        "num_transactions"
      ]
    },
    {
      "cell_type": "markdown",
      "metadata": {
        "id": "EgcBX0eEAESL"
      },
      "source": [
        "### Sample rate"
      ]
    },
    {
      "cell_type": "code",
      "execution_count": 123,
      "metadata": {
        "colab": {
          "base_uri": "https://localhost:8080/",
          "height": 1000,
          "referenced_widgets": [
            "c4f4ba35216b460488debe6bae7d7ddb",
            "63fd74d5604f45908e5fb925ecc5f572",
            "a2fb99307bfa4da8b27b5fec6d01262a",
            "2b24d48f71854a7396d2bbdf9508f85c",
            "af641a29c7364016841ed5a84046182d",
            "78cc62ad03f546cd9e2ab93c83ee9b4f",
            "b2432fbf2e594723b669790c4ecbfab2",
            "9bdc55013ae84f89a195002a33c9c25b",
            "f98cf14369f64005924ada39d9f7ef97",
            "bcb7b5e1488046b897bbdba934b1e572",
            "2f419d16dec54f22b3c07a90096231b1",
            "fdf6c3e3ca924da391e3d8f9024ac4a0",
            "b4ecb35e5f044f1281d77efab9c24967"
          ]
        },
        "id": "VDGq8Siw9iFV",
        "outputId": "b07cf2ad-c1ee-40a3-ceb3-6e49fecbbbec"
      },
      "outputs": [
        {
          "output_type": "display_data",
          "data": {
            "text/plain": [
              "interactive(children=(FloatSlider(value=0.1, description='global_rate', max=1.0, step=0.001), IntSlider(value=…"
            ],
            "application/vnd.jupyter.widget-view+json": {
              "version_major": 2,
              "version_minor": 0,
              "model_id": "c4f4ba35216b460488debe6bae7d7ddb"
            }
          },
          "metadata": {}
        }
      ],
      "source": [
        "global_rate=widgets.FloatSlider(min=0,max=1,value=0.1, step=0.001 );\n",
        "items_high=widgets.IntSlider(min=0,max=num_transactions,value=20);\n",
        "items_low=widgets.IntSlider(min=0,max=num_transactions,value=20);\n",
        "\n",
        "def rebalance_generator(counts):\n",
        "  def inner( global_rate, items_high, items_low):\n",
        "    draw_rebalance_graphs(global_rate, items_high,items_low, counts)\n",
        "  return inner\n",
        "\n",
        "widgets.interact(rebalance_generator(counts), global_rate = global_rate, items_high=items_high, items_low=items_low);"
      ]
    },
    {
      "cell_type": "code",
      "execution_count": 124,
      "metadata": {
        "colab": {
          "base_uri": "https://localhost:8080/",
          "height": 335
        },
        "id": "SnaTcnrdwhpc",
        "outputId": "ac0a8bf9-8328-4ed3-cc87-4f3c7dbfb89b"
      },
      "outputs": [
        {
          "output_type": "stream",
          "name": "stdout",
          "text": [
            "Global Rate is 0.1\n",
            "8 7228.229166666667 392.84583333333336\n"
          ]
        },
        {
          "output_type": "execute_result",
          "data": {
            "text/plain": [
              "                                                         counts    original  \\\n",
              "sentry.sentry_metrics.consumers.indexer.process...  7228.229167  722.822917   \n",
              "/api/0/projects/{organization_slug}/{project_sl...  3057.804167  305.780417   \n",
              "sentry.tasks.process_buffer.process_incr            1005.562500  100.556250   \n",
              "sentry.tasks.store.save_event_transaction            946.958333   94.695833   \n",
              "sentry.tasks.process_buffer.buffer_incr_task         916.366667   91.636667   \n",
              "sentry.tasks.store.save_event                        915.541667   91.554167   \n",
              "/{organization_slug}/                                899.925000   89.992500   \n",
              "sentry.tasks.post_process.post_process_group         839.195833   83.919583   \n",
              "\n",
              "                                                    adjusted_rate  adjusted  \n",
              "sentry.sentry_metrics.consumers.indexer.process...       0.003531  25.52242  \n",
              "/api/0/projects/{organization_slug}/{project_sl...       0.008347  25.52242  \n",
              "sentry.tasks.process_buffer.process_incr                 0.025381  25.52242  \n",
              "sentry.tasks.store.save_event_transaction                0.026952  25.52242  \n",
              "sentry.tasks.process_buffer.buffer_incr_task             0.027852  25.52242  \n",
              "sentry.tasks.store.save_event                            0.027877  25.52242  \n",
              "/{organization_slug}/                                    0.028361  25.52242  \n",
              "sentry.tasks.post_process.post_process_group             0.030413  25.52242  "
            ],
            "text/html": [
              "\n",
              "  <div id=\"df-a23b3f7d-3ccd-4013-8c07-8579729c0fa5\">\n",
              "    <div class=\"colab-df-container\">\n",
              "      <div>\n",
              "<style scoped>\n",
              "    .dataframe tbody tr th:only-of-type {\n",
              "        vertical-align: middle;\n",
              "    }\n",
              "\n",
              "    .dataframe tbody tr th {\n",
              "        vertical-align: top;\n",
              "    }\n",
              "\n",
              "    .dataframe thead th {\n",
              "        text-align: right;\n",
              "    }\n",
              "</style>\n",
              "<table border=\"1\" class=\"dataframe\">\n",
              "  <thead>\n",
              "    <tr style=\"text-align: right;\">\n",
              "      <th></th>\n",
              "      <th>counts</th>\n",
              "      <th>original</th>\n",
              "      <th>adjusted_rate</th>\n",
              "      <th>adjusted</th>\n",
              "    </tr>\n",
              "  </thead>\n",
              "  <tbody>\n",
              "    <tr>\n",
              "      <th>sentry.sentry_metrics.consumers.indexer.processing.process_messages</th>\n",
              "      <td>7228.229167</td>\n",
              "      <td>722.822917</td>\n",
              "      <td>0.003531</td>\n",
              "      <td>25.52242</td>\n",
              "    </tr>\n",
              "    <tr>\n",
              "      <th>/api/0/projects/{organization_slug}/{project_slug}/files/dsyms/</th>\n",
              "      <td>3057.804167</td>\n",
              "      <td>305.780417</td>\n",
              "      <td>0.008347</td>\n",
              "      <td>25.52242</td>\n",
              "    </tr>\n",
              "    <tr>\n",
              "      <th>sentry.tasks.process_buffer.process_incr</th>\n",
              "      <td>1005.562500</td>\n",
              "      <td>100.556250</td>\n",
              "      <td>0.025381</td>\n",
              "      <td>25.52242</td>\n",
              "    </tr>\n",
              "    <tr>\n",
              "      <th>sentry.tasks.store.save_event_transaction</th>\n",
              "      <td>946.958333</td>\n",
              "      <td>94.695833</td>\n",
              "      <td>0.026952</td>\n",
              "      <td>25.52242</td>\n",
              "    </tr>\n",
              "    <tr>\n",
              "      <th>sentry.tasks.process_buffer.buffer_incr_task</th>\n",
              "      <td>916.366667</td>\n",
              "      <td>91.636667</td>\n",
              "      <td>0.027852</td>\n",
              "      <td>25.52242</td>\n",
              "    </tr>\n",
              "    <tr>\n",
              "      <th>sentry.tasks.store.save_event</th>\n",
              "      <td>915.541667</td>\n",
              "      <td>91.554167</td>\n",
              "      <td>0.027877</td>\n",
              "      <td>25.52242</td>\n",
              "    </tr>\n",
              "    <tr>\n",
              "      <th>/{organization_slug}/</th>\n",
              "      <td>899.925000</td>\n",
              "      <td>89.992500</td>\n",
              "      <td>0.028361</td>\n",
              "      <td>25.52242</td>\n",
              "    </tr>\n",
              "    <tr>\n",
              "      <th>sentry.tasks.post_process.post_process_group</th>\n",
              "      <td>839.195833</td>\n",
              "      <td>83.919583</td>\n",
              "      <td>0.030413</td>\n",
              "      <td>25.52242</td>\n",
              "    </tr>\n",
              "  </tbody>\n",
              "</table>\n",
              "</div>\n",
              "      <button class=\"colab-df-convert\" onclick=\"convertToInteractive('df-a23b3f7d-3ccd-4013-8c07-8579729c0fa5')\"\n",
              "              title=\"Convert this dataframe to an interactive table.\"\n",
              "              style=\"display:none;\">\n",
              "        \n",
              "  <svg xmlns=\"http://www.w3.org/2000/svg\" height=\"24px\"viewBox=\"0 0 24 24\"\n",
              "       width=\"24px\">\n",
              "    <path d=\"M0 0h24v24H0V0z\" fill=\"none\"/>\n",
              "    <path d=\"M18.56 5.44l.94 2.06.94-2.06 2.06-.94-2.06-.94-.94-2.06-.94 2.06-2.06.94zm-11 1L8.5 8.5l.94-2.06 2.06-.94-2.06-.94L8.5 2.5l-.94 2.06-2.06.94zm10 10l.94 2.06.94-2.06 2.06-.94-2.06-.94-.94-2.06-.94 2.06-2.06.94z\"/><path d=\"M17.41 7.96l-1.37-1.37c-.4-.4-.92-.59-1.43-.59-.52 0-1.04.2-1.43.59L10.3 9.45l-7.72 7.72c-.78.78-.78 2.05 0 2.83L4 21.41c.39.39.9.59 1.41.59.51 0 1.02-.2 1.41-.59l7.78-7.78 2.81-2.81c.8-.78.8-2.07 0-2.86zM5.41 20L4 18.59l7.72-7.72 1.47 1.35L5.41 20z\"/>\n",
              "  </svg>\n",
              "      </button>\n",
              "      \n",
              "  <style>\n",
              "    .colab-df-container {\n",
              "      display:flex;\n",
              "      flex-wrap:wrap;\n",
              "      gap: 12px;\n",
              "    }\n",
              "\n",
              "    .colab-df-convert {\n",
              "      background-color: #E8F0FE;\n",
              "      border: none;\n",
              "      border-radius: 50%;\n",
              "      cursor: pointer;\n",
              "      display: none;\n",
              "      fill: #1967D2;\n",
              "      height: 32px;\n",
              "      padding: 0 0 0 0;\n",
              "      width: 32px;\n",
              "    }\n",
              "\n",
              "    .colab-df-convert:hover {\n",
              "      background-color: #E2EBFA;\n",
              "      box-shadow: 0px 1px 2px rgba(60, 64, 67, 0.3), 0px 1px 3px 1px rgba(60, 64, 67, 0.15);\n",
              "      fill: #174EA6;\n",
              "    }\n",
              "\n",
              "    [theme=dark] .colab-df-convert {\n",
              "      background-color: #3B4455;\n",
              "      fill: #D2E3FC;\n",
              "    }\n",
              "\n",
              "    [theme=dark] .colab-df-convert:hover {\n",
              "      background-color: #434B5C;\n",
              "      box-shadow: 0px 1px 3px 1px rgba(0, 0, 0, 0.15);\n",
              "      filter: drop-shadow(0px 1px 2px rgba(0, 0, 0, 0.3));\n",
              "      fill: #FFFFFF;\n",
              "    }\n",
              "  </style>\n",
              "\n",
              "      <script>\n",
              "        const buttonEl =\n",
              "          document.querySelector('#df-a23b3f7d-3ccd-4013-8c07-8579729c0fa5 button.colab-df-convert');\n",
              "        buttonEl.style.display =\n",
              "          google.colab.kernel.accessAllowed ? 'block' : 'none';\n",
              "\n",
              "        async function convertToInteractive(key) {\n",
              "          const element = document.querySelector('#df-a23b3f7d-3ccd-4013-8c07-8579729c0fa5');\n",
              "          const dataTable =\n",
              "            await google.colab.kernel.invokeFunction('convertToInteractive',\n",
              "                                                     [key], {});\n",
              "          if (!dataTable) return;\n",
              "\n",
              "          const docLinkHtml = 'Like what you see? Visit the ' +\n",
              "            '<a target=\"_blank\" href=https://colab.research.google.com/notebooks/data_table.ipynb>data table notebook</a>'\n",
              "            + ' to learn more about interactive tables.';\n",
              "          element.innerHTML = '';\n",
              "          dataTable['output_type'] = 'display_data';\n",
              "          await google.colab.output.renderOutput(dataTable, element);\n",
              "          const docLink = document.createElement('div');\n",
              "          docLink.innerHTML = docLinkHtml;\n",
              "          element.appendChild(docLink);\n",
              "        }\n",
              "      </script>\n",
              "    </div>\n",
              "  </div>\n",
              "  "
            ]
          },
          "metadata": {},
          "execution_count": 124
        }
      ],
      "source": [
        "print(f\"Global Rate is {global_rate.value}\")\n",
        "adjusted_rates = process_data(global_rate.value, counts)\n",
        "adjusted_rates.sort_values(inplace=True,ascending=False,by=[\"counts\"]);\n",
        "x = adjusted_rates[adjusted_rates.counts > adjusted_rates.counts.max()/10]\n",
        "print(len(x), adjusted_rates.counts[0], adjusted_rates.counts[20])\n",
        "x"
      ]
    },
    {
      "cell_type": "code",
      "source": [
        "adjusted_rates.counts.describe()"
      ],
      "metadata": {
        "colab": {
          "base_uri": "https://localhost:8080/"
        },
        "id": "sKKksKZ4MCAF",
        "outputId": "255671af-3941-477b-8391-cd1a1a7bee8f"
      },
      "execution_count": 125,
      "outputs": [
        {
          "output_type": "execute_result",
          "data": {
            "text/plain": [
              "count     568.000000\n",
              "mean       64.727523\n",
              "std       353.618804\n",
              "min         0.004167\n",
              "25%         0.037500\n",
              "50%         0.606250\n",
              "75%         8.473958\n",
              "max      7228.229167\n",
              "Name: counts, dtype: float64"
            ]
          },
          "metadata": {},
          "execution_count": 125
        }
      ]
    },
    {
      "cell_type": "code",
      "source": [
        "fig, ax = plt.subplots(nrows = 1 ,figsize=(20,16))\n",
        "sns.histplot(adjusted_rates.counts, bins=200);"
      ],
      "metadata": {
        "id": "tbsLBoHRT_6O",
        "colab": {
          "base_uri": "https://localhost:8080/",
          "height": 932
        },
        "outputId": "ceb0ba2d-254c-4dcf-ec80-e1fef8eb8a79"
      },
      "execution_count": 126,
      "outputs": [
        {
          "output_type": "display_data",
          "data": {
            "text/plain": [
              "<Figure size 1440x1152 with 1 Axes>"
            ],
            "image/png": "[encoded data removed]"
          },
          "metadata": {}
        }
      ]
    },
    {
      "cell_type": "markdown",
      "metadata": {
        "id": "n7aivjhDn977"
      },
      "source": [
        "# Scratch pad below\n",
        "\n",
        "Ignore...."
      ]
    },
    {
      "cell_type": "code",
      "execution_count": 126,
      "metadata": {
        "id": "1Z8MTzbSqlEI"
      },
      "outputs": [],
      "source": []
    },
    {
      "cell_type": "code",
      "execution_count": 126,
      "metadata": {
        "id": "1NWpZppFrPkE"
      },
      "outputs": [],
      "source": []
    }
  ],
  "metadata": {
    "colab": {
      "provenance": [],
      "authorship_tag": "ABX9TyOCwwCeDU8lwdN+sI1sz/zw",
      "include_colab_link": true
    },
    "kernelspec": {
      "display_name": "Python 3",
      "name": "python3"
    },
    "language_info": {
      "name": "python"
    },
    "widgets": {
      "application/vnd.jupyter.widget-state+json": {
        "c4f4ba35216b460488debe6bae7d7ddb": {
          "model_module": "@jupyter-widgets/controls",
          "model_name": "VBoxModel",
          "model_module_version": "1.5.0",
          "state": {
            "_dom_classes": [
              "widget-interact"
            ],
            "_model_module": "@jupyter-widgets/controls",
            "_model_module_version": "1.5.0",
            "_model_name": "VBoxModel",
            "_view_count": null,
            "_view_module": "@jupyter-widgets/controls",
            "_view_module_version": "1.5.0",
            "_view_name": "VBoxView",
            "box_style": "",
            "children": [
              "IPY_MODEL_63fd74d5604f45908e5fb925ecc5f572",
              "IPY_MODEL_a2fb99307bfa4da8b27b5fec6d01262a",
              "IPY_MODEL_2b24d48f71854a7396d2bbdf9508f85c",
              "IPY_MODEL_af641a29c7364016841ed5a84046182d"
            ],
            "layout": "IPY_MODEL_78cc62ad03f546cd9e2ab93c83ee9b4f"
          }
        },
        "63fd74d5604f45908e5fb925ecc5f572": {
          "model_module": "@jupyter-widgets/controls",
          "model_name": "FloatSliderModel",
          "model_module_version": "1.5.0",
          "state": {
            "_dom_classes": [],
            "_model_module": "@jupyter-widgets/controls",
            "_model_module_version": "1.5.0",
            "_model_name": "FloatSliderModel",
            "_view_count": null,
            "_view_module": "@jupyter-widgets/controls",
            "_view_module_version": "1.5.0",
            "_view_name": "FloatSliderView",
            "continuous_update": true,
            "description": "global_rate",
            "description_tooltip": null,
            "disabled": false,
            "layout": "IPY_MODEL_b2432fbf2e594723b669790c4ecbfab2",
            "max": 1,
            "min": 0,
            "orientation": "horizontal",
            "readout": true,
            "readout_format": ".2f",
            "step": 0.001,
            "style": "IPY_MODEL_9bdc55013ae84f89a195002a33c9c25b",
            "value": 0.1
          }
        },
        "a2fb99307bfa4da8b27b5fec6d01262a": {
          "model_module": "@jupyter-widgets/controls",
          "model_name": "IntSliderModel",
          "model_module_version": "1.5.0",
          "state": {
            "_dom_classes": [],
            "_model_module": "@jupyter-widgets/controls",
            "_model_module_version": "1.5.0",
            "_model_name": "IntSliderModel",
            "_view_count": null,
            "_view_module": "@jupyter-widgets/controls",
            "_view_module_version": "1.5.0",
            "_view_name": "IntSliderView",
            "continuous_update": true,
            "description": "items_high",
            "description_tooltip": null,
            "disabled": false,
            "layout": "IPY_MODEL_f98cf14369f64005924ada39d9f7ef97",
            "max": 568,
            "min": 0,
            "orientation": "horizontal",
            "readout": true,
            "readout_format": "d",
            "step": 1,
            "style": "IPY_MODEL_bcb7b5e1488046b897bbdba934b1e572",
            "value": 20
          }
        },
        "2b24d48f71854a7396d2bbdf9508f85c": {
          "model_module": "@jupyter-widgets/controls",
          "model_name": "IntSliderModel",
          "model_module_version": "1.5.0",
          "state": {
            "_dom_classes": [],
            "_model_module": "@jupyter-widgets/controls",
            "_model_module_version": "1.5.0",
            "_model_name": "IntSliderModel",
            "_view_count": null,
            "_view_module": "@jupyter-widgets/controls",
            "_view_module_version": "1.5.0",
            "_view_name": "IntSliderView",
            "continuous_update": true,
            "description": "items_low",
            "description_tooltip": null,
            "disabled": false,
            "layout": "IPY_MODEL_2f419d16dec54f22b3c07a90096231b1",
            "max": 568,
            "min": 0,
            "orientation": "horizontal",
            "readout": true,
            "readout_format": "d",
            "step": 1,
            "style": "IPY_MODEL_fdf6c3e3ca924da391e3d8f9024ac4a0",
            "value": 20
          }
        },
        "af641a29c7364016841ed5a84046182d": {
          "model_module": "@jupyter-widgets/output",
          "model_name": "OutputModel",
          "model_module_version": "1.0.0",
          "state": {
            "_dom_classes": [],
            "_model_module": "@jupyter-widgets/output",
            "_model_module_version": "1.0.0",
            "_model_name": "OutputModel",
            "_view_count": null,
            "_view_module": "@jupyter-widgets/output",
            "_view_module_version": "1.0.0",
            "_view_name": "OutputView",
            "layout": "IPY_MODEL_b4ecb35e5f044f1281d77efab9c24967",
            "msg_id": "",
            "outputs": [
              {
                "output_type": "stream",
                "name": "stdout",
                "text": [
                  "linear scale\n"
                ]
              },
              {
                "output_type": "stream",
                "name": "stdout",
                "text": [
                  "linear scale\n",
                  "linear scale\n"
                ]
              },
              {
                "output_type": "stream",
                "name": "stdout",
                "text": [
                  "log scale\n"
                ]
              },
              {
                "output_type": "display_data",
                "data": {
                  "text/plain": "<Figure size 1440x1440 with 4 Axes>",
                  "image/png": "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\n"
                },
                "metadata": {}
              }
            ]
          }
        },
        "78cc62ad03f546cd9e2ab93c83ee9b4f": {
          "model_module": "@jupyter-widgets/base",
          "model_name": "LayoutModel",
          "model_module_version": "1.2.0",
          "state": {
            "_model_module": "@jupyter-widgets/base",
            "_model_module_version": "1.2.0",
            "_model_name": "LayoutModel",
            "_view_count": null,
            "_view_module": "@jupyter-widgets/base",
            "_view_module_version": "1.2.0",
            "_view_name": "LayoutView",
            "align_content": null,
            "align_items": null,
            "align_self": null,
            "border": null,
            "bottom": null,
            "display": null,
            "flex": null,
            "flex_flow": null,
            "grid_area": null,
            "grid_auto_columns": null,
            "grid_auto_flow": null,
            "grid_auto_rows": null,
            "grid_column": null,
            "grid_gap": null,
            "grid_row": null,
            "grid_template_areas": null,
            "grid_template_columns": null,
            "grid_template_rows": null,
            "height": null,
            "justify_content": null,
            "justify_items": null,
            "left": null,
            "margin": null,
            "max_height": null,
            "max_width": null,
            "min_height": null,
            "min_width": null,
            "object_fit": null,
            "object_position": null,
            "order": null,
            "overflow": null,
            "overflow_x": null,
            "overflow_y": null,
            "padding": null,
            "right": null,
            "top": null,
            "visibility": null,
            "width": null
          }
        },
        "b2432fbf2e594723b669790c4ecbfab2": {
          "model_module": "@jupyter-widgets/base",
          "model_name": "LayoutModel",
          "model_module_version": "1.2.0",
          "state": {
            "_model_module": "@jupyter-widgets/base",
            "_model_module_version": "1.2.0",
            "_model_name": "LayoutModel",
            "_view_count": null,
            "_view_module": "@jupyter-widgets/base",
            "_view_module_version": "1.2.0",
            "_view_name": "LayoutView",
            "align_content": null,
            "align_items": null,
            "align_self": null,
            "border": null,
            "bottom": null,
            "display": null,
            "flex": null,
            "flex_flow": null,
            "grid_area": null,
            "grid_auto_columns": null,
            "grid_auto_flow": null,
            "grid_auto_rows": null,
            "grid_column": null,
            "grid_gap": null,
            "grid_row": null,
            "grid_template_areas": null,
            "grid_template_columns": null,
            "grid_template_rows": null,
            "height": null,
            "justify_content": null,
            "justify_items": null,
            "left": null,
            "margin": null,
            "max_height": null,
            "max_width": null,
            "min_height": null,
            "min_width": null,
            "object_fit": null,
            "object_position": null,
            "order": null,
            "overflow": null,
            "overflow_x": null,
            "overflow_y": null,
            "padding": null,
            "right": null,
            "top": null,
            "visibility": null,
            "width": null
          }
        },
        "9bdc55013ae84f89a195002a33c9c25b": {
          "model_module": "@jupyter-widgets/controls",
          "model_name": "SliderStyleModel",
          "model_module_version": "1.5.0",
          "state": {
            "_model_module": "@jupyter-widgets/controls",
            "_model_module_version": "1.5.0",
            "_model_name": "SliderStyleModel",
            "_view_count": null,
            "_view_module": "@jupyter-widgets/base",
            "_view_module_version": "1.2.0",
            "_view_name": "StyleView",
            "description_width": "",
            "handle_color": null
          }
        },
        "f98cf14369f64005924ada39d9f7ef97": {
          "model_module": "@jupyter-widgets/base",
          "model_name": "LayoutModel",
          "model_module_version": "1.2.0",
          "state": {
            "_model_module": "@jupyter-widgets/base",
            "_model_module_version": "1.2.0",
            "_model_name": "LayoutModel",
            "_view_count": null,
            "_view_module": "@jupyter-widgets/base",
            "_view_module_version": "1.2.0",
            "_view_name": "LayoutView",
            "align_content": null,
            "align_items": null,
            "align_self": null,
            "border": null,
            "bottom": null,
            "display": null,
            "flex": null,
            "flex_flow": null,
            "grid_area": null,
            "grid_auto_columns": null,
            "grid_auto_flow": null,
            "grid_auto_rows": null,
            "grid_column": null,
            "grid_gap": null,
            "grid_row": null,
            "grid_template_areas": null,
            "grid_template_columns": null,
            "grid_template_rows": null,
            "height": null,
            "justify_content": null,
            "justify_items": null,
            "left": null,
            "margin": null,
            "max_height": null,
            "max_width": null,
            "min_height": null,
            "min_width": null,
            "object_fit": null,
            "object_position": null,
            "order": null,
            "overflow": null,
            "overflow_x": null,
            "overflow_y": null,
            "padding": null,
            "right": null,
            "top": null,
            "visibility": null,
            "width": null
          }
        },
        "bcb7b5e1488046b897bbdba934b1e572": {
          "model_module": "@jupyter-widgets/controls",
          "model_name": "SliderStyleModel",
          "model_module_version": "1.5.0",
          "state": {
            "_model_module": "@jupyter-widgets/controls",
            "_model_module_version": "1.5.0",
            "_model_name": "SliderStyleModel",
            "_view_count": null,
            "_view_module": "@jupyter-widgets/base",
            "_view_module_version": "1.2.0",
            "_view_name": "StyleView",
            "description_width": "",
            "handle_color": null
          }
        },
        "2f419d16dec54f22b3c07a90096231b1": {
          "model_module": "@jupyter-widgets/base",
          "model_name": "LayoutModel",
          "model_module_version": "1.2.0",
          "state": {
            "_model_module": "@jupyter-widgets/base",
            "_model_module_version": "1.2.0",
            "_model_name": "LayoutModel",
            "_view_count": null,
            "_view_module": "@jupyter-widgets/base",
            "_view_module_version": "1.2.0",
            "_view_name": "LayoutView",
            "align_content": null,
            "align_items": null,
            "align_self": null,
            "border": null,
            "bottom": null,
            "display": null,
            "flex": null,
            "flex_flow": null,
            "grid_area": null,
            "grid_auto_columns": null,
            "grid_auto_flow": null,
            "grid_auto_rows": null,
            "grid_column": null,
            "grid_gap": null,
            "grid_row": null,
            "grid_template_areas": null,
            "grid_template_columns": null,
            "grid_template_rows": null,
            "height": null,
            "justify_content": null,
            "justify_items": null,
            "left": null,
            "margin": null,
            "max_height": null,
            "max_width": null,
            "min_height": null,
            "min_width": null,
            "object_fit": null,
            "object_position": null,
            "order": null,
            "overflow": null,
            "overflow_x": null,
            "overflow_y": null,
            "padding": null,
            "right": null,
            "top": null,
            "visibility": null,
            "width": null
          }
        },
        "fdf6c3e3ca924da391e3d8f9024ac4a0": {
          "model_module": "@jupyter-widgets/controls",
          "model_name": "SliderStyleModel",
          "model_module_version": "1.5.0",
          "state": {
            "_model_module": "@jupyter-widgets/controls",
            "_model_module_version": "1.5.0",
            "_model_name": "SliderStyleModel",
            "_view_count": null,
            "_view_module": "@jupyter-widgets/base",
            "_view_module_version": "1.2.0",
            "_view_name": "StyleView",
            "description_width": "",
            "handle_color": null
          }
        },
        "b4ecb35e5f044f1281d77efab9c24967": {
          "model_module": "@jupyter-widgets/base",
          "model_name": "LayoutModel",
          "model_module_version": "1.2.0",
          "state": {
            "_model_module": "@jupyter-widgets/base",
            "_model_module_version": "1.2.0",
            "_model_name": "LayoutModel",
            "_view_count": null,
            "_view_module": "@jupyter-widgets/base",
            "_view_module_version": "1.2.0",
            "_view_name": "LayoutView",
            "align_content": null,
            "align_items": null,
            "align_self": null,
            "border": null,
            "bottom": null,
            "display": null,
            "flex": null,
            "flex_flow": null,
            "grid_area": null,
            "grid_auto_columns": null,
            "grid_auto_flow": null,
            "grid_auto_rows": null,
            "grid_column": null,
            "grid_gap": null,
            "grid_row": null,
            "grid_template_areas": null,
            "grid_template_columns": null,
            "grid_template_rows": null,
            "height": null,
            "justify_content": null,
            "justify_items": null,
            "left": null,
            "margin": null,
            "max_height": null,
            "max_width": null,
            "min_height": null,
            "min_width": null,
            "object_fit": null,
            "object_position": null,
            "order": null,
            "overflow": null,
            "overflow_x": null,
            "overflow_y": null,
            "padding": null,
            "right": null,
            "top": null,
            "visibility": null,
            "width": null
          }
        }
      }
    }
  },
  "nbformat": 4,
  "nbformat_minor": 0
}