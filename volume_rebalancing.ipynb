{
  "cells": [
    {
      "cell_type": "markdown",
      "metadata": {
        "id": "view-in-github",
        "colab_type": "text"
      },
      "source": [
        "<a href=\"https://colab.research.google.com/github/RaduW/volume-rebalance/blob/main/volume_rebalancing.ipynb\" target=\"_parent\"><img src=\"https://colab.research.google.com/assets/colab-badge.svg\" alt=\"Open In Colab\"/></a>"
      ]
    },
    {
      "cell_type": "markdown",
      "metadata": {
        "id": "zdMHKb0x4JRD"
      },
      "source": [
        "\n",
        "\n",
        "# Volume Rebalancing Algorithm\n",
        "\n",
        "\n",
        "The volume rebalancing algorithm is based on the assumption that while given a global sample rate classes we want to adjust the individual class sampling rate in a way that equalises the number of sampled elements in each class while maintaining the overall sample rate."
      ]
    },
    {
      "cell_type": "code",
      "execution_count": 107,
      "metadata": {
        "id": "EO1gtKk34X5c"
      },
      "outputs": [],
      "source": [
        "from operator import itemgetter\n",
        "\n",
        "from ipywidgets import interact, widgets\n",
        "import pandas as pd\n",
        "import numpy as np\n",
        "import matplotlib as mpl\n",
        "import matplotlib.pyplot as plt\n",
        "import seaborn as sns\n",
        "\n",
        "sns.set_style(\"whitegrid\")\n"
      ]
    },
    {
      "cell_type": "code",
      "source": [
        "# import transaction data\n",
        "projects = \"https://raw.githubusercontent.com/RaduW/volume-rebalance/main/projects.json\"\n",
        "trans_data = pd.read_json(projects)"
      ],
      "metadata": {
        "id": "VkJr4d3fBEb3"
      },
      "execution_count": 108,
      "outputs": []
    },
    {
      "cell_type": "code",
      "execution_count": 109,
      "metadata": {
        "id": "NeYLNcywOgei"
      },
      "outputs": [],
      "source": [
        "import operator\n",
        "from collections import namedtuple\n",
        "from copy import copy\n",
        "from typing import List, Mapping, MutableMapping, Tuple, Union\n",
        "\n",
        "\n",
        "def adjust_sample_rate(\n",
        "    transactions: List[Tuple[str, int]], rate: float) -> Mapping[str, float]:\n",
        "    \"\"\"\n",
        "    Calculates transaction sample size in order to maximize the number of small transactions\n",
        "\n",
        "    :param transactions: the transaction types as an array of (name, count) tuples\n",
        "    :param rate: the overall desired rate\n",
        "    \"\"\"\n",
        "    # sort by transaction count\n",
        "    transactions = sorted(transactions, key=operator.itemgetter(1))\n",
        "    return adjust_sample_rate_full(transactions, rate)\n",
        "\n",
        "\n",
        "def adjust_sample_rate_full(\n",
        "    transactions: List[Tuple[str, int]], rate: float\n",
        ") -> MutableMapping[str, float]:\n",
        "    \"\"\"\n",
        "    resample all transactions to their ideal size\n",
        "    \"\"\"\n",
        "    transactions = copy(transactions)\n",
        "    ret_val = {}\n",
        "    num_transactions = total_transactions(transactions)\n",
        "    # calculate how many transactions we are allowed to keep overall\n",
        "    # this will allow us to pass transactions between different transaction types\n",
        "    total_budget = num_transactions * rate\n",
        "    while transactions:\n",
        "        num_types = len(transactions)\n",
        "        # We recalculate the budget per type every iteration to\n",
        "        # account for the cases where, in the previous step we couldn't\n",
        "        # spend all the allocated budget for that type.\n",
        "        budget_per_transaction_type = total_budget / num_types\n",
        "        name, count = transactions.pop(0)\n",
        "        if count < budget_per_transaction_type:\n",
        "            # we have fewer transactions in this type than the\n",
        "            # budget, all we can do is to keep everything\n",
        "            ret_val[name] = 1.0  # not enough samples, use all\n",
        "            total_budget -= count\n",
        "        else:\n",
        "            # we have enough transactions in current the class\n",
        "            # we want to only keep budget_per_transactions\n",
        "            transaction_rate = budget_per_transaction_type / count\n",
        "            ret_val[name] = transaction_rate\n",
        "            total_budget -= budget_per_transaction_type\n",
        "    return ret_val\n",
        "\n",
        "def total_transactions(transactions: List[Tuple[str, int]]) -> int:\n",
        "    ret_val = 0\n",
        "    for _, v in transactions:\n",
        "        ret_val += v\n",
        "    return ret_val\n",
        "    \n",
        "def counts_to_labeled_counts( counts: Union[float,int,Tuple[str,float]]):\n",
        "  counts = sorted(counts)\n",
        "  return [(f\"t-{idx}\",count) for idx,count in enumerate(counts)]"
      ]
    },
    {
      "cell_type": "markdown",
      "metadata": {
        "id": "s69nUY6B7M86"
      },
      "source": [
        "# Model params\n",
        "\n",
        "The model has the following input parameters:\n",
        "\n",
        "*   a list of initial counts representing the number of elements for each class `counts`\n",
        "*   an overall desired sample rate: `global_rate` (input via slider)\n",
        "\n"
      ]
    },
    {
      "cell_type": "code",
      "execution_count": 110,
      "metadata": {
        "id": "ZdADbCt5UQ1u"
      },
      "outputs": [],
      "source": [
        "\n",
        "\n",
        "def process_data(global_rate, transactions:List[Tuple[str,float]]):\n",
        "\n",
        "    transactions = sorted(transactions,key=itemgetter(1))\n",
        "    counts = [cnt[1] for cnt in transactions]\n",
        "\n",
        "    cnts = np.array(counts)\n",
        "    ideal_rate = np.average(cnts) * global_rate\n",
        "    cnts_min = cnts.min()\n",
        "    cnts_max = cnts.max()\n",
        "\n",
        "    labels = [ x[0] for x in transactions]\n",
        "\n",
        "    sampled_counts = cnts * global_rate\n",
        "\n",
        "    original_df = pd.DataFrame(data ={\"counts\": cnts, \"original\": sampled_counts}, index = labels)\n",
        "    adjusted = adjust_sample_rate(transactions, global_rate)\n",
        "    adjusted_df = pd.DataFrame.from_dict(data = adjusted, orient=\"index\", columns=[\"adjusted_rate\"] )\n",
        "\n",
        "    # now calculate the adjusted count\n",
        "    df = original_df.join(adjusted_df, how=\"outer\")\n",
        "\n",
        "    df[\"adjusted\"] = df[\"counts\"]* df[\"adjusted_rate\"]\n",
        "    return df  \n",
        "\n",
        "def draw_rebalance_graphs(global_rate, items_high, items_low, counts):\n",
        "\n",
        "    def draw_plot(ax, x_limit=None, log=False):\n",
        "      if x_limit is not None:\n",
        "        ax.set_xlim(*x_limit)\n",
        "        data = df2[df2[\"counts\"]<x_limit[1]]\n",
        "\n",
        "      else:\n",
        "        data= df2\n",
        "\n",
        "      if log:\n",
        "        print(\"log scale\")\n",
        "        plt.xscale(\"log\")\n",
        "        plt.yscale(\"log\")\n",
        "      else:\n",
        "        print(\"linear scale\")\n",
        "        plt.xscale(\"linear\")\n",
        "        plt.yscale(\"linear\")\n",
        "\n",
        "\n",
        "      counts_series = data[\"counts\"]\n",
        "\n",
        "      cnts_min = counts_series.min()\n",
        "      cnts_max =  counts_series.max()\n",
        "      ideal_rate = counts_series.mean() * global_rate\n",
        "      rate_max = data.rate.max()\n",
        "\n",
        "      if not log:\n",
        "        sns.lineplot( x=[cnts_min, cnts_max+1], y=[ideal_rate,ideal_rate], ax = ax);\n",
        "        sns.lineplot( x=[last_low,last_low+1], y=[0, rate_max], color=\"blue\", ax=ax);\n",
        "        sns.lineplot( x=[first_high,first_high+1], y=[0, rate_max], color=\"red\", ax=ax, );\n",
        "\n",
        "      sns.scatterplot(data=data, x=\"counts\", y=\"rate\", hue =\"series\", style=\"series\", ax=ax)\n",
        "\n",
        "\n",
        "    df = process_data(global_rate, counts)\n",
        "\n",
        "    counts_series = df[\"counts\"]\n",
        "\n",
        "    last_low = counts_series.iloc[items_low]\n",
        "    first_high = counts_series.iloc[-items_high]\n",
        "\n",
        "    df2 = df.melt(id_vars=[\"counts\"],value_vars=[\"adjusted\",\"original\"], var_name=\"series\", value_name = \"rate\")\n",
        "    fig, ax = plt.subplots(nrows = 4 ,figsize=(20,20))\n",
        "\n",
        "    draw_plot(ax[0])\n",
        "    draw_plot(ax[1], x_limit=(-50,1050))\n",
        "    draw_plot(ax[2], x_limit=(-20, 220))\n",
        "    draw_plot(ax[3], log=True)\n",
        "\n",
        "\n"
      ]
    },
    {
      "cell_type": "markdown",
      "metadata": {
        "id": "XRkWaNAeAYUP"
      },
      "source": [
        "\n",
        "### Counts"
      ]
    },
    {
      "cell_type": "code",
      "source": [
        "trans_data.head()"
      ],
      "metadata": {
        "id": "P_EEcgU2Bs1o",
        "outputId": "5e98309c-5f5e-4f9b-ad14-04ac756c3e13",
        "colab": {
          "base_uri": "https://localhost:8080/",
          "height": 206
        }
      },
      "execution_count": 111,
      "outputs": [
        {
          "output_type": "execute_result",
          "data": {
            "text/plain": [
              "          name       freq\n",
              "0            /  42.787500\n",
              "1           /*   4.945833\n",
              "2  /*/*/except   0.241667\n",
              "3         /.*/  11.579167\n",
              "4     /_admin/   0.025000"
            ],
            "text/html": [
              "\n",
              "  <div id=\"df-9a4fc176-a8e2-495f-8884-f688884f006b\">\n",
              "    <div class=\"colab-df-container\">\n",
              "      <div>\n",
              "<style scoped>\n",
              "    .dataframe tbody tr th:only-of-type {\n",
              "        vertical-align: middle;\n",
              "    }\n",
              "\n",
              "    .dataframe tbody tr th {\n",
              "        vertical-align: top;\n",
              "    }\n",
              "\n",
              "    .dataframe thead th {\n",
              "        text-align: right;\n",
              "    }\n",
              "</style>\n",
              "<table border=\"1\" class=\"dataframe\">\n",
              "  <thead>\n",
              "    <tr style=\"text-align: right;\">\n",
              "      <th></th>\n",
              "      <th>name</th>\n",
              "      <th>freq</th>\n",
              "    </tr>\n",
              "  </thead>\n",
              "  <tbody>\n",
              "    <tr>\n",
              "      <th>0</th>\n",
              "      <td>/</td>\n",
              "      <td>42.787500</td>\n",
              "    </tr>\n",
              "    <tr>\n",
              "      <th>1</th>\n",
              "      <td>/*</td>\n",
              "      <td>4.945833</td>\n",
              "    </tr>\n",
              "    <tr>\n",
              "      <th>2</th>\n",
              "      <td>/*/*/except</td>\n",
              "      <td>0.241667</td>\n",
              "    </tr>\n",
              "    <tr>\n",
              "      <th>3</th>\n",
              "      <td>/.*/</td>\n",
              "      <td>11.579167</td>\n",
              "    </tr>\n",
              "    <tr>\n",
              "      <th>4</th>\n",
              "      <td>/_admin/</td>\n",
              "      <td>0.025000</td>\n",
              "    </tr>\n",
              "  </tbody>\n",
              "</table>\n",
              "</div>\n",
              "      <button class=\"colab-df-convert\" onclick=\"convertToInteractive('df-9a4fc176-a8e2-495f-8884-f688884f006b')\"\n",
              "              title=\"Convert this dataframe to an interactive table.\"\n",
              "              style=\"display:none;\">\n",
              "        \n",
              "  <svg xmlns=\"http://www.w3.org/2000/svg\" height=\"24px\"viewBox=\"0 0 24 24\"\n",
              "       width=\"24px\">\n",
              "    <path d=\"M0 0h24v24H0V0z\" fill=\"none\"/>\n",
              "    <path d=\"M18.56 5.44l.94 2.06.94-2.06 2.06-.94-2.06-.94-.94-2.06-.94 2.06-2.06.94zm-11 1L8.5 8.5l.94-2.06 2.06-.94-2.06-.94L8.5 2.5l-.94 2.06-2.06.94zm10 10l.94 2.06.94-2.06 2.06-.94-2.06-.94-.94-2.06-.94 2.06-2.06.94z\"/><path d=\"M17.41 7.96l-1.37-1.37c-.4-.4-.92-.59-1.43-.59-.52 0-1.04.2-1.43.59L10.3 9.45l-7.72 7.72c-.78.78-.78 2.05 0 2.83L4 21.41c.39.39.9.59 1.41.59.51 0 1.02-.2 1.41-.59l7.78-7.78 2.81-2.81c.8-.78.8-2.07 0-2.86zM5.41 20L4 18.59l7.72-7.72 1.47 1.35L5.41 20z\"/>\n",
              "  </svg>\n",
              "      </button>\n",
              "      \n",
              "  <style>\n",
              "    .colab-df-container {\n",
              "      display:flex;\n",
              "      flex-wrap:wrap;\n",
              "      gap: 12px;\n",
              "    }\n",
              "\n",
              "    .colab-df-convert {\n",
              "      background-color: #E8F0FE;\n",
              "      border: none;\n",
              "      border-radius: 50%;\n",
              "      cursor: pointer;\n",
              "      display: none;\n",
              "      fill: #1967D2;\n",
              "      height: 32px;\n",
              "      padding: 0 0 0 0;\n",
              "      width: 32px;\n",
              "    }\n",
              "\n",
              "    .colab-df-convert:hover {\n",
              "      background-color: #E2EBFA;\n",
              "      box-shadow: 0px 1px 2px rgba(60, 64, 67, 0.3), 0px 1px 3px 1px rgba(60, 64, 67, 0.15);\n",
              "      fill: #174EA6;\n",
              "    }\n",
              "\n",
              "    [theme=dark] .colab-df-convert {\n",
              "      background-color: #3B4455;\n",
              "      fill: #D2E3FC;\n",
              "    }\n",
              "\n",
              "    [theme=dark] .colab-df-convert:hover {\n",
              "      background-color: #434B5C;\n",
              "      box-shadow: 0px 1px 3px 1px rgba(0, 0, 0, 0.15);\n",
              "      filter: drop-shadow(0px 1px 2px rgba(0, 0, 0, 0.3));\n",
              "      fill: #FFFFFF;\n",
              "    }\n",
              "  </style>\n",
              "\n",
              "      <script>\n",
              "        const buttonEl =\n",
              "          document.querySelector('#df-9a4fc176-a8e2-495f-8884-f688884f006b button.colab-df-convert');\n",
              "        buttonEl.style.display =\n",
              "          google.colab.kernel.accessAllowed ? 'block' : 'none';\n",
              "\n",
              "        async function convertToInteractive(key) {\n",
              "          const element = document.querySelector('#df-9a4fc176-a8e2-495f-8884-f688884f006b');\n",
              "          const dataTable =\n",
              "            await google.colab.kernel.invokeFunction('convertToInteractive',\n",
              "                                                     [key], {});\n",
              "          if (!dataTable) return;\n",
              "\n",
              "          const docLinkHtml = 'Like what you see? Visit the ' +\n",
              "            '<a target=\"_blank\" href=https://colab.research.google.com/notebooks/data_table.ipynb>data table notebook</a>'\n",
              "            + ' to learn more about interactive tables.';\n",
              "          element.innerHTML = '';\n",
              "          dataTable['output_type'] = 'display_data';\n",
              "          await google.colab.output.renderOutput(dataTable, element);\n",
              "          const docLink = document.createElement('div');\n",
              "          docLink.innerHTML = docLinkHtml;\n",
              "          element.appendChild(docLink);\n",
              "        }\n",
              "      </script>\n",
              "    </div>\n",
              "  </div>\n",
              "  "
            ]
          },
          "metadata": {},
          "execution_count": 111
        }
      ]
    },
    {
      "cell_type": "code",
      "execution_count": 112,
      "metadata": {
        "id": "SdTAuZrgAWWV",
        "colab": {
          "base_uri": "https://localhost:8080/"
        },
        "outputId": "1b242df8-e65c-4117-e139-9e0cc5fa7fc2"
      },
      "outputs": [
        {
          "output_type": "execute_result",
          "data": {
            "text/plain": [
              "568"
            ]
          },
          "metadata": {},
          "execution_count": 112
        }
      ],
      "source": [
        "counts = [10,500.37,  3999.88, 7000, 9000]\n",
        "counts = counts_to_labeled_counts(counts)\n",
        "\n",
        "# override counts with real transaction data\n",
        "# multipy the freq by 1000 to make it easyer to display ()\n",
        "trans_data['freq'] = trans_data['freq']\n",
        "counts = list(trans_data.itertuples(index=False, name=None))\n",
        "num_transactions = len(counts)\n",
        "num_transactions"
      ]
    },
    {
      "cell_type": "markdown",
      "metadata": {
        "id": "EgcBX0eEAESL"
      },
      "source": [
        "### Sample rate"
      ]
    },
    {
      "cell_type": "code",
      "execution_count": 113,
      "metadata": {
        "colab": {
          "base_uri": "https://localhost:8080/",
          "height": 1000,
          "referenced_widgets": [
            "f9cf2135b290453f9f86f62a174d9f83",
            "c71dd66fbd13485baefd8e9a2ae51530",
            "11df2822303043b39f38fe0a05904598",
            "fe00de408fba4bf588bd0c43a14b0430",
            "1bd1d53fae0041c5b7a4ee45480a8e63",
            "78745881deea48b6b96af98b493c779d",
            "d0a6e6d03a43415a89f34a73926fe2a8",
            "b795d0f27c97436ca2df4e4df4563243",
            "707c8b5e9a0a497386adae27c773acd8",
            "741f091a0b7b44de8f9412e127b5b6c2",
            "973b591856b349f690ac40136d2ff7b4",
            "0fd4b2e431084f0f97910d508844afe6",
            "6be094fd6d804d90a983cb3d36bb2b9e"
          ]
        },
        "id": "VDGq8Siw9iFV",
        "outputId": "4d704b48-2d26-4dd0-fcc7-a3c61cde376b"
      },
      "outputs": [
        {
          "output_type": "display_data",
          "data": {
            "text/plain": [
              "interactive(children=(FloatSlider(value=0.1, description='global_rate', max=1.0, step=0.001), IntSlider(value=…"
            ],
            "application/vnd.jupyter.widget-view+json": {
              "version_major": 2,
              "version_minor": 0,
              "model_id": "f9cf2135b290453f9f86f62a174d9f83"
            }
          },
          "metadata": {}
        }
      ],
      "source": [
        "global_rate=widgets.FloatSlider(min=0,max=1,value=0.1, step=0.001 );\n",
        "items_high=widgets.IntSlider(min=0,max=num_transactions,value=20);\n",
        "items_low=widgets.IntSlider(min=0,max=num_transactions,value=20);\n",
        "#global_rate = widgets.FloatText(min=0,max=1,value=0.1, step=0.001 )\n",
        "def rebalance_generator(counts):\n",
        "  def inner( global_rate, items_high, items_low):\n",
        "    draw_rebalance_graphs(global_rate, items_high,items_low, counts)\n",
        "  return inner\n",
        "\n",
        "widgets.interact(rebalance_generator(counts), global_rate = global_rate, items_high=items_high, items_low=items_low);"
      ]
    },
    {
      "cell_type": "code",
      "execution_count": 114,
      "metadata": {
        "colab": {
          "base_uri": "https://localhost:8080/",
          "height": 335
        },
        "id": "SnaTcnrdwhpc",
        "outputId": "2acde552-0551-44df-aaef-bd5c3c00d738"
      },
      "outputs": [
        {
          "output_type": "stream",
          "name": "stdout",
          "text": [
            "Global Rate is 0.1\n",
            "8 7228.229166666667 392.84583333333336\n"
          ]
        },
        {
          "output_type": "execute_result",
          "data": {
            "text/plain": [
              "                                                         counts    original  \\\n",
              "sentry.sentry_metrics.consumers.indexer.process...  7228.229167  722.822917   \n",
              "/api/0/projects/{organization_slug}/{project_sl...  3057.804167  305.780417   \n",
              "sentry.tasks.process_buffer.process_incr            1005.562500  100.556250   \n",
              "sentry.tasks.store.save_event_transaction            946.958333   94.695833   \n",
              "sentry.tasks.process_buffer.buffer_incr_task         916.366667   91.636667   \n",
              "sentry.tasks.store.save_event                        915.541667   91.554167   \n",
              "/{organization_slug}/                                899.925000   89.992500   \n",
              "sentry.tasks.post_process.post_process_group         839.195833   83.919583   \n",
              "\n",
              "                                                    adjusted_rate  adjusted  \n",
              "sentry.sentry_metrics.consumers.indexer.process...       0.003531  25.52242  \n",
              "/api/0/projects/{organization_slug}/{project_sl...       0.008347  25.52242  \n",
              "sentry.tasks.process_buffer.process_incr                 0.025381  25.52242  \n",
              "sentry.tasks.store.save_event_transaction                0.026952  25.52242  \n",
              "sentry.tasks.process_buffer.buffer_incr_task             0.027852  25.52242  \n",
              "sentry.tasks.store.save_event                            0.027877  25.52242  \n",
              "/{organization_slug}/                                    0.028361  25.52242  \n",
              "sentry.tasks.post_process.post_process_group             0.030413  25.52242  "
            ],
            "text/html": [
              "\n",
              "  <div id=\"df-358b4a4e-8f30-4d2b-8cde-4a6871be7ce3\">\n",
              "    <div class=\"colab-df-container\">\n",
              "      <div>\n",
              "<style scoped>\n",
              "    .dataframe tbody tr th:only-of-type {\n",
              "        vertical-align: middle;\n",
              "    }\n",
              "\n",
              "    .dataframe tbody tr th {\n",
              "        vertical-align: top;\n",
              "    }\n",
              "\n",
              "    .dataframe thead th {\n",
              "        text-align: right;\n",
              "    }\n",
              "</style>\n",
              "<table border=\"1\" class=\"dataframe\">\n",
              "  <thead>\n",
              "    <tr style=\"text-align: right;\">\n",
              "      <th></th>\n",
              "      <th>counts</th>\n",
              "      <th>original</th>\n",
              "      <th>adjusted_rate</th>\n",
              "      <th>adjusted</th>\n",
              "    </tr>\n",
              "  </thead>\n",
              "  <tbody>\n",
              "    <tr>\n",
              "      <th>sentry.sentry_metrics.consumers.indexer.processing.process_messages</th>\n",
              "      <td>7228.229167</td>\n",
              "      <td>722.822917</td>\n",
              "      <td>0.003531</td>\n",
              "      <td>25.52242</td>\n",
              "    </tr>\n",
              "    <tr>\n",
              "      <th>/api/0/projects/{organization_slug}/{project_slug}/files/dsyms/</th>\n",
              "      <td>3057.804167</td>\n",
              "      <td>305.780417</td>\n",
              "      <td>0.008347</td>\n",
              "      <td>25.52242</td>\n",
              "    </tr>\n",
              "    <tr>\n",
              "      <th>sentry.tasks.process_buffer.process_incr</th>\n",
              "      <td>1005.562500</td>\n",
              "      <td>100.556250</td>\n",
              "      <td>0.025381</td>\n",
              "      <td>25.52242</td>\n",
              "    </tr>\n",
              "    <tr>\n",
              "      <th>sentry.tasks.store.save_event_transaction</th>\n",
              "      <td>946.958333</td>\n",
              "      <td>94.695833</td>\n",
              "      <td>0.026952</td>\n",
              "      <td>25.52242</td>\n",
              "    </tr>\n",
              "    <tr>\n",
              "      <th>sentry.tasks.process_buffer.buffer_incr_task</th>\n",
              "      <td>916.366667</td>\n",
              "      <td>91.636667</td>\n",
              "      <td>0.027852</td>\n",
              "      <td>25.52242</td>\n",
              "    </tr>\n",
              "    <tr>\n",
              "      <th>sentry.tasks.store.save_event</th>\n",
              "      <td>915.541667</td>\n",
              "      <td>91.554167</td>\n",
              "      <td>0.027877</td>\n",
              "      <td>25.52242</td>\n",
              "    </tr>\n",
              "    <tr>\n",
              "      <th>/{organization_slug}/</th>\n",
              "      <td>899.925000</td>\n",
              "      <td>89.992500</td>\n",
              "      <td>0.028361</td>\n",
              "      <td>25.52242</td>\n",
              "    </tr>\n",
              "    <tr>\n",
              "      <th>sentry.tasks.post_process.post_process_group</th>\n",
              "      <td>839.195833</td>\n",
              "      <td>83.919583</td>\n",
              "      <td>0.030413</td>\n",
              "      <td>25.52242</td>\n",
              "    </tr>\n",
              "  </tbody>\n",
              "</table>\n",
              "</div>\n",
              "      <button class=\"colab-df-convert\" onclick=\"convertToInteractive('df-358b4a4e-8f30-4d2b-8cde-4a6871be7ce3')\"\n",
              "              title=\"Convert this dataframe to an interactive table.\"\n",
              "              style=\"display:none;\">\n",
              "        \n",
              "  <svg xmlns=\"http://www.w3.org/2000/svg\" height=\"24px\"viewBox=\"0 0 24 24\"\n",
              "       width=\"24px\">\n",
              "    <path d=\"M0 0h24v24H0V0z\" fill=\"none\"/>\n",
              "    <path d=\"M18.56 5.44l.94 2.06.94-2.06 2.06-.94-2.06-.94-.94-2.06-.94 2.06-2.06.94zm-11 1L8.5 8.5l.94-2.06 2.06-.94-2.06-.94L8.5 2.5l-.94 2.06-2.06.94zm10 10l.94 2.06.94-2.06 2.06-.94-2.06-.94-.94-2.06-.94 2.06-2.06.94z\"/><path d=\"M17.41 7.96l-1.37-1.37c-.4-.4-.92-.59-1.43-.59-.52 0-1.04.2-1.43.59L10.3 9.45l-7.72 7.72c-.78.78-.78 2.05 0 2.83L4 21.41c.39.39.9.59 1.41.59.51 0 1.02-.2 1.41-.59l7.78-7.78 2.81-2.81c.8-.78.8-2.07 0-2.86zM5.41 20L4 18.59l7.72-7.72 1.47 1.35L5.41 20z\"/>\n",
              "  </svg>\n",
              "      </button>\n",
              "      \n",
              "  <style>\n",
              "    .colab-df-container {\n",
              "      display:flex;\n",
              "      flex-wrap:wrap;\n",
              "      gap: 12px;\n",
              "    }\n",
              "\n",
              "    .colab-df-convert {\n",
              "      background-color: #E8F0FE;\n",
              "      border: none;\n",
              "      border-radius: 50%;\n",
              "      cursor: pointer;\n",
              "      display: none;\n",
              "      fill: #1967D2;\n",
              "      height: 32px;\n",
              "      padding: 0 0 0 0;\n",
              "      width: 32px;\n",
              "    }\n",
              "\n",
              "    .colab-df-convert:hover {\n",
              "      background-color: #E2EBFA;\n",
              "      box-shadow: 0px 1px 2px rgba(60, 64, 67, 0.3), 0px 1px 3px 1px rgba(60, 64, 67, 0.15);\n",
              "      fill: #174EA6;\n",
              "    }\n",
              "\n",
              "    [theme=dark] .colab-df-convert {\n",
              "      background-color: #3B4455;\n",
              "      fill: #D2E3FC;\n",
              "    }\n",
              "\n",
              "    [theme=dark] .colab-df-convert:hover {\n",
              "      background-color: #434B5C;\n",
              "      box-shadow: 0px 1px 3px 1px rgba(0, 0, 0, 0.15);\n",
              "      filter: drop-shadow(0px 1px 2px rgba(0, 0, 0, 0.3));\n",
              "      fill: #FFFFFF;\n",
              "    }\n",
              "  </style>\n",
              "\n",
              "      <script>\n",
              "        const buttonEl =\n",
              "          document.querySelector('#df-358b4a4e-8f30-4d2b-8cde-4a6871be7ce3 button.colab-df-convert');\n",
              "        buttonEl.style.display =\n",
              "          google.colab.kernel.accessAllowed ? 'block' : 'none';\n",
              "\n",
              "        async function convertToInteractive(key) {\n",
              "          const element = document.querySelector('#df-358b4a4e-8f30-4d2b-8cde-4a6871be7ce3');\n",
              "          const dataTable =\n",
              "            await google.colab.kernel.invokeFunction('convertToInteractive',\n",
              "                                                     [key], {});\n",
              "          if (!dataTable) return;\n",
              "\n",
              "          const docLinkHtml = 'Like what you see? Visit the ' +\n",
              "            '<a target=\"_blank\" href=https://colab.research.google.com/notebooks/data_table.ipynb>data table notebook</a>'\n",
              "            + ' to learn more about interactive tables.';\n",
              "          element.innerHTML = '';\n",
              "          dataTable['output_type'] = 'display_data';\n",
              "          await google.colab.output.renderOutput(dataTable, element);\n",
              "          const docLink = document.createElement('div');\n",
              "          docLink.innerHTML = docLinkHtml;\n",
              "          element.appendChild(docLink);\n",
              "        }\n",
              "      </script>\n",
              "    </div>\n",
              "  </div>\n",
              "  "
            ]
          },
          "metadata": {},
          "execution_count": 114
        }
      ],
      "source": [
        "print(f\"Global Rate is {global_rate.value}\")\n",
        "adjusted_rates = process_data(global_rate.value, counts)\n",
        "adjusted_rates.sort_values(inplace=True,ascending=False,by=[\"counts\"]);\n",
        "x = adjusted_rates[adjusted_rates.counts > adjusted_rates.counts.max()/10]\n",
        "print(len(x), adjusted_rates.counts[0], adjusted_rates.counts[20])\n",
        "x"
      ]
    },
    {
      "cell_type": "code",
      "source": [
        "adjusted_rates.counts.describe()"
      ],
      "metadata": {
        "colab": {
          "base_uri": "https://localhost:8080/"
        },
        "id": "sKKksKZ4MCAF",
        "outputId": "387ac4e6-8f34-40a2-e7a3-d8ed1fc41335"
      },
      "execution_count": 115,
      "outputs": [
        {
          "output_type": "execute_result",
          "data": {
            "text/plain": [
              "count     568.000000\n",
              "mean       64.727523\n",
              "std       353.618804\n",
              "min         0.004167\n",
              "25%         0.037500\n",
              "50%         0.606250\n",
              "75%         8.473958\n",
              "max      7228.229167\n",
              "Name: counts, dtype: float64"
            ]
          },
          "metadata": {},
          "execution_count": 115
        }
      ]
    },
    {
      "cell_type": "code",
      "source": [
        "fig, ax = plt.subplots(nrows = 1 ,figsize=(20,16))\n",
        "sns.histplot(adjusted_rates.counts, bins=200);"
      ],
      "metadata": {
        "id": "tbsLBoHRT_6O",
        "colab": {
          "base_uri": "https://localhost:8080/",
          "height": 932
        },
        "outputId": "4c88a1a8-3fd0-438b-edb7-4f1c5d708891"
      },
      "execution_count": 116,
      "outputs": [
        {
          "output_type": "display_data",
          "data": {
            "text/plain": [
              "<Figure size 1440x1152 with 1 Axes>"
            ],
            "image/png": "[encoded data removed]"
          },
          "metadata": {}
        }
      ]
    },
    {
      "cell_type": "markdown",
      "metadata": {
        "id": "n7aivjhDn977"
      },
      "source": [
        "# Scratch pad below\n",
        "\n",
        "Ignore...."
      ]
    },
    {
      "cell_type": "code",
      "execution_count": 116,
      "metadata": {
        "id": "1Z8MTzbSqlEI"
      },
      "outputs": [],
      "source": []
    },
    {
      "cell_type": "code",
      "execution_count": 116,
      "metadata": {
        "id": "1NWpZppFrPkE"
      },
      "outputs": [],
      "source": []
    }
  ],
  "metadata": {
    "colab": {
      "provenance": [],
      "authorship_tag": "ABX9TyMdqEUFXOg5AA0BD7eAhGs0",
      "include_colab_link": true
    },
    "kernelspec": {
      "display_name": "Python 3",
      "name": "python3"
    },
    "language_info": {
      "name": "python"
    },
    "widgets": {
      "application/vnd.jupyter.widget-state+json": {
        "f9cf2135b290453f9f86f62a174d9f83": {
          "model_module": "@jupyter-widgets/controls",
          "model_name": "VBoxModel",
          "model_module_version": "1.5.0",
          "state": {
            "_dom_classes": [
              "widget-interact"
            ],
            "_model_module": "@jupyter-widgets/controls",
            "_model_module_version": "1.5.0",
            "_model_name": "VBoxModel",
            "_view_count": null,
            "_view_module": "@jupyter-widgets/controls",
            "_view_module_version": "1.5.0",
            "_view_name": "VBoxView",
            "box_style": "",
            "children": [
              "IPY_MODEL_c71dd66fbd13485baefd8e9a2ae51530",
              "IPY_MODEL_11df2822303043b39f38fe0a05904598",
              "IPY_MODEL_fe00de408fba4bf588bd0c43a14b0430",
              "IPY_MODEL_1bd1d53fae0041c5b7a4ee45480a8e63"
            ],
            "layout": "IPY_MODEL_78745881deea48b6b96af98b493c779d"
          }
        },
        "c71dd66fbd13485baefd8e9a2ae51530": {
          "model_module": "@jupyter-widgets/controls",
          "model_name": "FloatSliderModel",
          "model_module_version": "1.5.0",
          "state": {
            "_dom_classes": [],
            "_model_module": "@jupyter-widgets/controls",
            "_model_module_version": "1.5.0",
            "_model_name": "FloatSliderModel",
            "_view_count": null,
            "_view_module": "@jupyter-widgets/controls",
            "_view_module_version": "1.5.0",
            "_view_name": "FloatSliderView",
            "continuous_update": true,
            "description": "global_rate",
            "description_tooltip": null,
            "disabled": false,
            "layout": "IPY_MODEL_d0a6e6d03a43415a89f34a73926fe2a8",
            "max": 1,
            "min": 0,
            "orientation": "horizontal",
            "readout": true,
            "readout_format": ".2f",
            "step": 0.001,
            "style": "IPY_MODEL_b795d0f27c97436ca2df4e4df4563243",
            "value": 0.1
          }
        },
        "11df2822303043b39f38fe0a05904598": {
          "model_module": "@jupyter-widgets/controls",
          "model_name": "IntSliderModel",
          "model_module_version": "1.5.0",
          "state": {
            "_dom_classes": [],
            "_model_module": "@jupyter-widgets/controls",
            "_model_module_version": "1.5.0",
            "_model_name": "IntSliderModel",
            "_view_count": null,
            "_view_module": "@jupyter-widgets/controls",
            "_view_module_version": "1.5.0",
            "_view_name": "IntSliderView",
            "continuous_update": true,
            "description": "items_high",
            "description_tooltip": null,
            "disabled": false,
            "layout": "IPY_MODEL_707c8b5e9a0a497386adae27c773acd8",
            "max": 568,
            "min": 0,
            "orientation": "horizontal",
            "readout": true,
            "readout_format": "d",
            "step": 1,
            "style": "IPY_MODEL_741f091a0b7b44de8f9412e127b5b6c2",
            "value": 20
          }
        },
        "fe00de408fba4bf588bd0c43a14b0430": {
          "model_module": "@jupyter-widgets/controls",
          "model_name": "IntSliderModel",
          "model_module_version": "1.5.0",
          "state": {
            "_dom_classes": [],
            "_model_module": "@jupyter-widgets/controls",
            "_model_module_version": "1.5.0",
            "_model_name": "IntSliderModel",
            "_view_count": null,
            "_view_module": "@jupyter-widgets/controls",
            "_view_module_version": "1.5.0",
            "_view_name": "IntSliderView",
            "continuous_update": true,
            "description": "items_low",
            "description_tooltip": null,
            "disabled": false,
            "layout": "IPY_MODEL_973b591856b349f690ac40136d2ff7b4",
            "max": 568,
            "min": 0,
            "orientation": "horizontal",
            "readout": true,
            "readout_format": "d",
            "step": 1,
            "style": "IPY_MODEL_0fd4b2e431084f0f97910d508844afe6",
            "value": 20
          }
        },
        "1bd1d53fae0041c5b7a4ee45480a8e63": {
          "model_module": "@jupyter-widgets/output",
          "model_name": "OutputModel",
          "model_module_version": "1.0.0",
          "state": {
            "_dom_classes": [],
            "_model_module": "@jupyter-widgets/output",
            "_model_module_version": "1.0.0",
            "_model_name": "OutputModel",
            "_view_count": null,
            "_view_module": "@jupyter-widgets/output",
            "_view_module_version": "1.0.0",
            "_view_name": "OutputView",
            "layout": "IPY_MODEL_6be094fd6d804d90a983cb3d36bb2b9e",
            "msg_id": "",
            "outputs": [
              {
                "output_type": "stream",
                "name": "stdout",
                "text": [
                  "linear scale\n",
                  "data length:1136, 7228.229166666667, 722.8229166666667\n"
                ]
              },
              {
                "output_type": "stream",
                "name": "stdout",
                "text": [
                  "linear scale\n",
                  "data length:1132, 1005.5625, 100.55625\n",
                  "linear scale\n",
                  "data length:1040, 217.08333333333334, 25.522419871794913"
                ]
              },
              {
                "output_type": "stream",
                "name": "stdout",
                "text": [
                  "\n"
                ]
              },
              {
                "output_type": "stream",
                "name": "stdout",
                "text": [
                  "log scale\n",
                  "data length:1136, 7228.229166666667, 722.8229166666667\n"
                ]
              },
              {
                "output_type": "stream",
                "name": "stderr",
                "text": [
                  "/usr/local/lib/python3.9/dist-packages/pandas/core/arraylike.py:397: RuntimeWarning: divide by zero encountered in log10\n",
                  "  result = getattr(ufunc, method)(*inputs, **kwargs)\n",
                  "/usr/local/lib/python3.9/dist-packages/pandas/core/arraylike.py:397: RuntimeWarning: divide by zero encountered in log10\n",
                  "  result = getattr(ufunc, method)(*inputs, **kwargs)\n"
                ]
              },
              {
                "output_type": "display_data",
                "data": {
                  "text/plain": "<Figure size 1440x1440 with 4 Axes>",
                  "image/png": "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\n"
                },
                "metadata": {}
              }
            ]
          }
        },
        "78745881deea48b6b96af98b493c779d": {
          "model_module": "@jupyter-widgets/base",
          "model_name": "LayoutModel",
          "model_module_version": "1.2.0",
          "state": {
            "_model_module": "@jupyter-widgets/base",
            "_model_module_version": "1.2.0",
            "_model_name": "LayoutModel",
            "_view_count": null,
            "_view_module": "@jupyter-widgets/base",
            "_view_module_version": "1.2.0",
            "_view_name": "LayoutView",
            "align_content": null,
            "align_items": null,
            "align_self": null,
            "border": null,
            "bottom": null,
            "display": null,
            "flex": null,
            "flex_flow": null,
            "grid_area": null,
            "grid_auto_columns": null,
            "grid_auto_flow": null,
            "grid_auto_rows": null,
            "grid_column": null,
            "grid_gap": null,
            "grid_row": null,
            "grid_template_areas": null,
            "grid_template_columns": null,
            "grid_template_rows": null,
            "height": null,
            "justify_content": null,
            "justify_items": null,
            "left": null,
            "margin": null,
            "max_height": null,
            "max_width": null,
            "min_height": null,
            "min_width": null,
            "object_fit": null,
            "object_position": null,
            "order": null,
            "overflow": null,
            "overflow_x": null,
            "overflow_y": null,
            "padding": null,
            "right": null,
            "top": null,
            "visibility": null,
            "width": null
          }
        },
        "d0a6e6d03a43415a89f34a73926fe2a8": {
          "model_module": "@jupyter-widgets/base",
          "model_name": "LayoutModel",
          "model_module_version": "1.2.0",
          "state": {
            "_model_module": "@jupyter-widgets/base",
            "_model_module_version": "1.2.0",
            "_model_name": "LayoutModel",
            "_view_count": null,
            "_view_module": "@jupyter-widgets/base",
            "_view_module_version": "1.2.0",
            "_view_name": "LayoutView",
            "align_content": null,
            "align_items": null,
            "align_self": null,
            "border": null,
            "bottom": null,
            "display": null,
            "flex": null,
            "flex_flow": null,
            "grid_area": null,
            "grid_auto_columns": null,
            "grid_auto_flow": null,
            "grid_auto_rows": null,
            "grid_column": null,
            "grid_gap": null,
            "grid_row": null,
            "grid_template_areas": null,
            "grid_template_columns": null,
            "grid_template_rows": null,
            "height": null,
            "justify_content": null,
            "justify_items": null,
            "left": null,
            "margin": null,
            "max_height": null,
            "max_width": null,
            "min_height": null,
            "min_width": null,
            "object_fit": null,
            "object_position": null,
            "order": null,
            "overflow": null,
            "overflow_x": null,
            "overflow_y": null,
            "padding": null,
            "right": null,
            "top": null,
            "visibility": null,
            "width": null
          }
        },
        "b795d0f27c97436ca2df4e4df4563243": {
          "model_module": "@jupyter-widgets/controls",
          "model_name": "SliderStyleModel",
          "model_module_version": "1.5.0",
          "state": {
            "_model_module": "@jupyter-widgets/controls",
            "_model_module_version": "1.5.0",
            "_model_name": "SliderStyleModel",
            "_view_count": null,
            "_view_module": "@jupyter-widgets/base",
            "_view_module_version": "1.2.0",
            "_view_name": "StyleView",
            "description_width": "",
            "handle_color": null
          }
        },
        "707c8b5e9a0a497386adae27c773acd8": {
          "model_module": "@jupyter-widgets/base",
          "model_name": "LayoutModel",
          "model_module_version": "1.2.0",
          "state": {
            "_model_module": "@jupyter-widgets/base",
            "_model_module_version": "1.2.0",
            "_model_name": "LayoutModel",
            "_view_count": null,
            "_view_module": "@jupyter-widgets/base",
            "_view_module_version": "1.2.0",
            "_view_name": "LayoutView",
            "align_content": null,
            "align_items": null,
            "align_self": null,
            "border": null,
            "bottom": null,
            "display": null,
            "flex": null,
            "flex_flow": null,
            "grid_area": null,
            "grid_auto_columns": null,
            "grid_auto_flow": null,
            "grid_auto_rows": null,
            "grid_column": null,
            "grid_gap": null,
            "grid_row": null,
            "grid_template_areas": null,
            "grid_template_columns": null,
            "grid_template_rows": null,
            "height": null,
            "justify_content": null,
            "justify_items": null,
            "left": null,
            "margin": null,
            "max_height": null,
            "max_width": null,
            "min_height": null,
            "min_width": null,
            "object_fit": null,
            "object_position": null,
            "order": null,
            "overflow": null,
            "overflow_x": null,
            "overflow_y": null,
            "padding": null,
            "right": null,
            "top": null,
            "visibility": null,
            "width": null
          }
        },
        "741f091a0b7b44de8f9412e127b5b6c2": {
          "model_module": "@jupyter-widgets/controls",
          "model_name": "SliderStyleModel",
          "model_module_version": "1.5.0",
          "state": {
            "_model_module": "@jupyter-widgets/controls",
            "_model_module_version": "1.5.0",
            "_model_name": "SliderStyleModel",
            "_view_count": null,
            "_view_module": "@jupyter-widgets/base",
            "_view_module_version": "1.2.0",
            "_view_name": "StyleView",
            "description_width": "",
            "handle_color": null
          }
        },
        "973b591856b349f690ac40136d2ff7b4": {
          "model_module": "@jupyter-widgets/base",
          "model_name": "LayoutModel",
          "model_module_version": "1.2.0",
          "state": {
            "_model_module": "@jupyter-widgets/base",
            "_model_module_version": "1.2.0",
            "_model_name": "LayoutModel",
            "_view_count": null,
            "_view_module": "@jupyter-widgets/base",
            "_view_module_version": "1.2.0",
            "_view_name": "LayoutView",
            "align_content": null,
            "align_items": null,
            "align_self": null,
            "border": null,
            "bottom": null,
            "display": null,
            "flex": null,
            "flex_flow": null,
            "grid_area": null,
            "grid_auto_columns": null,
            "grid_auto_flow": null,
            "grid_auto_rows": null,
            "grid_column": null,
            "grid_gap": null,
            "grid_row": null,
            "grid_template_areas": null,
            "grid_template_columns": null,
            "grid_template_rows": null,
            "height": null,
            "justify_content": null,
            "justify_items": null,
            "left": null,
            "margin": null,
            "max_height": null,
            "max_width": null,
            "min_height": null,
            "min_width": null,
            "object_fit": null,
            "object_position": null,
            "order": null,
            "overflow": null,
            "overflow_x": null,
            "overflow_y": null,
            "padding": null,
            "right": null,
            "top": null,
            "visibility": null,
            "width": null
          }
        },
        "0fd4b2e431084f0f97910d508844afe6": {
          "model_module": "@jupyter-widgets/controls",
          "model_name": "SliderStyleModel",
          "model_module_version": "1.5.0",
          "state": {
            "_model_module": "@jupyter-widgets/controls",
            "_model_module_version": "1.5.0",
            "_model_name": "SliderStyleModel",
            "_view_count": null,
            "_view_module": "@jupyter-widgets/base",
            "_view_module_version": "1.2.0",
            "_view_name": "StyleView",
            "description_width": "",
            "handle_color": null
          }
        },
        "6be094fd6d804d90a983cb3d36bb2b9e": {
          "model_module": "@jupyter-widgets/base",
          "model_name": "LayoutModel",
          "model_module_version": "1.2.0",
          "state": {
            "_model_module": "@jupyter-widgets/base",
            "_model_module_version": "1.2.0",
            "_model_name": "LayoutModel",
            "_view_count": null,
            "_view_module": "@jupyter-widgets/base",
            "_view_module_version": "1.2.0",
            "_view_name": "LayoutView",
            "align_content": null,
            "align_items": null,
            "align_self": null,
            "border": null,
            "bottom": null,
            "display": null,
            "flex": null,
            "flex_flow": null,
            "grid_area": null,
            "grid_auto_columns": null,
            "grid_auto_flow": null,
            "grid_auto_rows": null,
            "grid_column": null,
            "grid_gap": null,
            "grid_row": null,
            "grid_template_areas": null,
            "grid_template_columns": null,
            "grid_template_rows": null,
            "height": null,
            "justify_content": null,
            "justify_items": null,
            "left": null,
            "margin": null,
            "max_height": null,
            "max_width": null,
            "min_height": null,
            "min_width": null,
            "object_fit": null,
            "object_position": null,
            "order": null,
            "overflow": null,
            "overflow_x": null,
            "overflow_y": null,
            "padding": null,
            "right": null,
            "top": null,
            "visibility": null,
            "width": null
          }
        }
      }
    }
  },
  "nbformat": 4,
  "nbformat_minor": 0
}