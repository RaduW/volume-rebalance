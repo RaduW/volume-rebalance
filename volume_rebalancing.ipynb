{
 "cells": [
  {
   "cell_type": "markdown",
   "metadata": {
    "colab_type": "text",
    "id": "view-in-github"
   },
   "source": [
    "<a href=\"https://colab.research.google.com/github/RaduW/volume-rebalance/blob/main/volume_rebalancing.ipynb\" target=\"_parent\"><img src=\"https://colab.research.google.com/assets/colab-badge.svg\" alt=\"Open In Colab\"/></a>"
   ]
  },
  {
   "cell_type": "markdown",
   "metadata": {
    "id": "zdMHKb0x4JRD"
   },
   "source": [
    "\n",
    "\n",
    "# Volume Rebalancing Algorithm\n",
    "\n",
    "\n",
    "The volume rebalancing algorithm is based on the assumption that while given a global sample rate classes we want to adjust the individual class sampling rate in a way that equalises the number of sampled elements in each class while maintaining the overall sample rate."
   ]
  },
  {
   "cell_type": "code",
   "execution_count": 1,
   "metadata": {
    "colab": {
     "base_uri": "https://localhost:8080/"
    },
    "id": "LoLvBzZalsDa",
    "outputId": "e0525e54-4b7d-4f9c-c344-b84354aec6aa"
   },
   "outputs": [
    {
     "name": "stdout",
     "output_type": "stream",
     "text": [
      "--2023-03-30 14:47:25--  https://raw.githubusercontent.com/RaduW/volume-rebalance/main/transaction_adjustment_model.py\r\n",
      "Resolving raw.githubusercontent.com (raw.githubusercontent.com)... 2606:50c0:8002::154, 2606:50c0:8001::154, 2606:50c0:8000::154, ...\r\n",
      "Connecting to raw.githubusercontent.com (raw.githubusercontent.com)|2606:50c0:8002::154|:443... connected.\r\n",
      "HTTP request sent, awaiting response... 200 OK\r\n",
      "Length: 5943 (5.8K) [text/plain]\r\n",
      "Saving to: ‘transaction_adjustment_model.py’\r\n",
      "\r\n",
      "transaction_adjustm 100%[===================>]   5.80K  --.-KB/s    in 0s      \r\n",
      "\r\n",
      "2023-03-30 14:47:25 (46.1 MB/s) - ‘transaction_adjustment_model.py’ saved [5943/5943]\r\n",
      "\r\n",
      "--2023-03-30 14:47:25--  https://raw.githubusercontent.com/RaduW/volume-rebalance/main/utils.py\r\n",
      "Resolving raw.githubusercontent.com (raw.githubusercontent.com)... 2606:50c0:8002::154, 2606:50c0:8001::154, 2606:50c0:8000::154, ...\r\n",
      "Connecting to raw.githubusercontent.com (raw.githubusercontent.com)|2606:50c0:8002::154|:443... connected.\r\n",
      "HTTP request sent, awaiting response... 200 OK\r\n",
      "Length: 848 [text/plain]\r\n",
      "Saving to: ‘utils.py’\r\n",
      "\r\n",
      "utils.py            100%[===================>]     848  --.-KB/s    in 0s      \r\n",
      "\r\n",
      "2023-03-30 14:47:25 (101 MB/s) - ‘utils.py’ saved [848/848]\r\n",
      "\r\n"
     ]
    }
   ],
   "source": [
    "url = \"https://raw.githubusercontent.com/RaduW/volume-rebalance/main/transaction_adjustment_model.py\"\n",
    "!wget --no-cache --backups=1 {url}\n",
    "\n",
    "from  transaction_adjustment_model import adjust_sample_rate\n",
    "\n",
    "utils_url = \"https://raw.githubusercontent.com/RaduW/volume-rebalance/main/utils.py\"\n",
    "!wget --no-cache --backups=1 {utils_url}\n",
    "\n",
    "import utils"
   ]
  },
  {
   "cell_type": "code",
   "execution_count": 2,
   "metadata": {
    "id": "EO1gtKk34X5c"
   },
   "outputs": [],
   "source": [
    "\n",
    "from operator import itemgetter\n",
    "from typing import Tuple, Union\n",
    "from ipywidgets import interact, widgets\n",
    "import pandas as pd\n",
    "import numpy as np\n",
    "import matplotlib as mpl\n",
    "import matplotlib.pyplot as plt\n",
    "import seaborn as sns\n",
    "\n",
    "sns.set_style(\"whitegrid\")\n"
   ]
  },
  {
   "cell_type": "code",
   "execution_count": 3,
   "metadata": {
    "colab": {
     "base_uri": "https://localhost:8080/",
     "height": 424
    },
    "id": "VkJr4d3fBEb3",
    "outputId": "ec79c562-b6f0-4994-d55a-6791b4daa670"
   },
   "outputs": [
    {
     "data": {
      "text/plain": "                                                   name  freq  \\\n0                                     /api/0/customers/     1   \n1     /organizations/:orgId/alerts/rules/details/:ru...     1   \n2     /api/0/organizations/{organization_slug}/auth-...     1   \n3                                           //index.php     1   \n4                               /api/0/users/{user_id}/     1   \n...                                                 ...   ...   \n1121                                        HEAD /login     1   \n1122                                          GET /QMVi     1   \n1123                                             HEAD /    13   \n1124                                         GET /login    28   \n1125                                              GET /    41   \n\n               proj_id          proj_name  \n0                    1             sentry  \n1                    1             sentry  \n2                    1             sentry  \n3                    1             sentry  \n4                    1             sentry  \n...                ...                ...  \n1121  4504044639748096  gibpotato-backend  \n1122  4504044639748096  gibpotato-backend  \n1123  4504044639748096  gibpotato-backend  \n1124  4504044639748096  gibpotato-backend  \n1125  4504044639748096  gibpotato-backend  \n\n[1126 rows x 4 columns]",
      "text/html": "<div>\n<style scoped>\n    .dataframe tbody tr th:only-of-type {\n        vertical-align: middle;\n    }\n\n    .dataframe tbody tr th {\n        vertical-align: top;\n    }\n\n    .dataframe thead th {\n        text-align: right;\n    }\n</style>\n<table border=\"1\" class=\"dataframe\">\n  <thead>\n    <tr style=\"text-align: right;\">\n      <th></th>\n      <th>name</th>\n      <th>freq</th>\n      <th>proj_id</th>\n      <th>proj_name</th>\n    </tr>\n  </thead>\n  <tbody>\n    <tr>\n      <th>0</th>\n      <td>/api/0/customers/</td>\n      <td>1</td>\n      <td>1</td>\n      <td>sentry</td>\n    </tr>\n    <tr>\n      <th>1</th>\n      <td>/organizations/:orgId/alerts/rules/details/:ru...</td>\n      <td>1</td>\n      <td>1</td>\n      <td>sentry</td>\n    </tr>\n    <tr>\n      <th>2</th>\n      <td>/api/0/organizations/{organization_slug}/auth-...</td>\n      <td>1</td>\n      <td>1</td>\n      <td>sentry</td>\n    </tr>\n    <tr>\n      <th>3</th>\n      <td>//index.php</td>\n      <td>1</td>\n      <td>1</td>\n      <td>sentry</td>\n    </tr>\n    <tr>\n      <th>4</th>\n      <td>/api/0/users/{user_id}/</td>\n      <td>1</td>\n      <td>1</td>\n      <td>sentry</td>\n    </tr>\n    <tr>\n      <th>...</th>\n      <td>...</td>\n      <td>...</td>\n      <td>...</td>\n      <td>...</td>\n    </tr>\n    <tr>\n      <th>1121</th>\n      <td>HEAD /login</td>\n      <td>1</td>\n      <td>4504044639748096</td>\n      <td>gibpotato-backend</td>\n    </tr>\n    <tr>\n      <th>1122</th>\n      <td>GET /QMVi</td>\n      <td>1</td>\n      <td>4504044639748096</td>\n      <td>gibpotato-backend</td>\n    </tr>\n    <tr>\n      <th>1123</th>\n      <td>HEAD /</td>\n      <td>13</td>\n      <td>4504044639748096</td>\n      <td>gibpotato-backend</td>\n    </tr>\n    <tr>\n      <th>1124</th>\n      <td>GET /login</td>\n      <td>28</td>\n      <td>4504044639748096</td>\n      <td>gibpotato-backend</td>\n    </tr>\n    <tr>\n      <th>1125</th>\n      <td>GET /</td>\n      <td>41</td>\n      <td>4504044639748096</td>\n      <td>gibpotato-backend</td>\n    </tr>\n  </tbody>\n</table>\n<p>1126 rows × 4 columns</p>\n</div>"
     },
     "execution_count": 3,
     "metadata": {},
     "output_type": "execute_result"
    }
   ],
   "source": [
    "# import transaction data\n",
    "projects = \"https://raw.githubusercontent.com/RaduW/volume-rebalance/main/projects-2023-03-30.json\"\n",
    "trans_data = pd.read_json(projects)\n",
    "\n",
    "PROJECTS = {\n",
    "    \"sentry\": 1,\n",
    "    \"javascript\": 11276,\n",
    "    \"snuba\": 300688,\n",
    "    \"gibpotato-backend\": 4504044639748096,\n",
    "    #\"gibpotato-frontend\": 4504044640927744,\n",
    "}\n",
    "\n",
    "trans_data.sort_values(by=[\"proj_id\",\"freq\"],ignore_index=True, ascending=True, inplace=True)\n",
    "trans_data"
   ]
  },
  {
   "cell_type": "code",
   "execution_count": 4,
   "metadata": {},
   "outputs": [
    {
     "ename": "FileNotFoundError",
     "evalue": "[Errno 2] No such file or directory: 'https://raw.githubusercontent.com/RaduW/volume-rebalance/main/rules-2023-03-30.json'",
     "output_type": "error",
     "traceback": [
      "\u001B[0;31m---------------------------------------------------------------------------\u001B[0m",
      "\u001B[0;31mFileNotFoundError\u001B[0m                         Traceback (most recent call last)",
      "Cell \u001B[0;32mIn[4], line 2\u001B[0m\n\u001B[1;32m      1\u001B[0m rules_file_name \u001B[38;5;241m=\u001B[39m \u001B[38;5;124m\"\u001B[39m\u001B[38;5;124mhttps://raw.githubusercontent.com/RaduW/volume-rebalance/main/rules-2023-03-30.json\u001B[39m\u001B[38;5;124m\"\u001B[39m\n\u001B[0;32m----> 2\u001B[0m rules_data \u001B[38;5;241m=\u001B[39m \u001B[43mutils\u001B[49m\u001B[38;5;241;43m.\u001B[39;49m\u001B[43mjson_rules_to_frame\u001B[49m\u001B[43m(\u001B[49m\u001B[43mrules_file_name\u001B[49m\u001B[43m)\u001B[49m\n\u001B[1;32m      3\u001B[0m rules_data\n",
      "File \u001B[0;32m~/dev/volume-rebalance/utils.py:11\u001B[0m, in \u001B[0;36mjson_rules_to_frame\u001B[0;34m(file_name)\u001B[0m\n\u001B[1;32m     10\u001B[0m \u001B[38;5;28;01mdef\u001B[39;00m \u001B[38;5;21mjson_rules_to_frame\u001B[39m(file_name: \u001B[38;5;28mstr\u001B[39m) \u001B[38;5;241m-\u001B[39m\u001B[38;5;241m>\u001B[39m DataFrame:\n\u001B[0;32m---> 11\u001B[0m     \u001B[38;5;28;01mwith\u001B[39;00m \u001B[38;5;28;43mopen\u001B[39;49m\u001B[43m(\u001B[49m\u001B[43mfile_name\u001B[49m\u001B[43m,\u001B[49m\u001B[43m \u001B[49m\u001B[38;5;124;43m\"\u001B[39;49m\u001B[38;5;124;43mrt\u001B[39;49m\u001B[38;5;124;43m\"\u001B[39;49m\u001B[43m)\u001B[49m \u001B[38;5;28;01mas\u001B[39;00m f:\n\u001B[1;32m     12\u001B[0m         rules \u001B[38;5;241m=\u001B[39m json\u001B[38;5;241m.\u001B[39mload(f)\n\u001B[1;32m     13\u001B[0m     simple_rules \u001B[38;5;241m=\u001B[39m []\n",
      "\u001B[0;31mFileNotFoundError\u001B[0m: [Errno 2] No such file or directory: 'https://raw.githubusercontent.com/RaduW/volume-rebalance/main/rules-2023-03-30.json'"
     ]
    }
   ],
   "source": [
    "rules_file_name = \"https://raw.githubusercontent.com/RaduW/volume-rebalance/main/rules-2023-03-30.json\"\n",
    "rules_data = utils.json_rules_to_frame(rules_file_name)\n",
    "rules_data"
   ]
  },
  {
   "cell_type": "code",
   "execution_count": null,
   "metadata": {
    "id": "NeYLNcywOgei"
   },
   "outputs": [],
   "source": [
    "\n",
    "\n",
    "    \n",
    "def counts_to_labeled_counts( counts: Union[float,int,Tuple[str,float]]):\n",
    "  counts = sorted(counts)\n",
    "  return [(f\"t-{idx}\",count) for idx,count in enumerate(counts)]"
   ]
  },
  {
   "cell_type": "markdown",
   "metadata": {
    "id": "s69nUY6B7M86"
   },
   "source": [
    "# Model params\n",
    "\n",
    "The model has the following input parameters:\n",
    "\n",
    "*   a list of initial counts representing the number of elements for each class `counts`\n",
    "*   an overall desired sample rate: `global_rate` (input via slider)\n",
    "\n"
   ]
  },
  {
   "cell_type": "code",
   "execution_count": null,
   "metadata": {
    "id": "ZdADbCt5UQ1u"
   },
   "outputs": [],
   "source": [
    "def process_data(global_rate:float, items_high:int, items_low:int, project:str, trans_data: pd.DataFrame):\n",
    "\n",
    "    data = trans_data.sort_values(by=[\"freq\"],ignore_index=True, ascending=True)\n",
    "    data = data[data[\"proj_name\"] == project]\n",
    "\n",
    "    counts = data[\"freq\"]\n",
    "    ideal_rate = counts.mean() * global_rate\n",
    "    cnts_min = counts.min()\n",
    "    cnts_max = counts.max()\n",
    "    total = counts.sum()\n",
    "    num_classes = len(counts)\n",
    "\n",
    "    data = data.set_index(\"name\", drop=False)\n",
    "    data[\"original\"] = data[\"freq\"]* global_rate\n",
    "    if items_low + items_high < num_classes:\n",
    "      if items_high == 0:\n",
    "        explicit_transactions = data[:items_low]\n",
    "      else:\n",
    "        explicit_transactions = pd.concat([data[:items_low], data[-items_high:]])\n",
    "    else:\n",
    "      explicit_transactions = data # we resize everything explicitly\n",
    "\n",
    "    explicit_transactions_tuple = list(explicit_transactions[[\"name\", \"freq\"]].itertuples(name=None, index=False))\n",
    "    adjusted, implicit_rate = adjust_sample_rate(classes=explicit_transactions_tuple, rate=global_rate, total_num_classes=num_classes, total=total)\n",
    "    adjusted_df = pd.DataFrame.from_dict(data = adjusted, orient=\"index\", columns=[\"adjusted_rate\"] )\n",
    "\n",
    "    # now calculate the adjusted count\n",
    "    df = data.join(adjusted_df, how=\"outer\")\n",
    "\n",
    "    # # keep count of the explicit rates\n",
    "    df[\"explicit\"]= ~df['adjusted_rate'].isna()\n",
    "    # # set the adjusted rates for the implicit values \n",
    "    df[\"adjusted_rate\"] = df[\"adjusted_rate\"].fillna(implicit_rate)\n",
    "\n",
    "    df[\"adjusted\"] = df[\"freq\"]* df[\"adjusted_rate\"]\n",
    "\n",
    "    print( f\"Num classes:{num_classes} implicit_rate:{implicit_rate} original_rate:{global_rate}\")\n",
    "    return df  \n",
    "\n",
    "\n",
    "\n",
    "def plot_rates(ax, data, last_low, first_high, global_rate, x_limit=None, log=False):\n",
    "  if x_limit is not None:\n",
    "    ax.set_xlim(*x_limit)\n",
    "    data = data[data[\"freq\"]<x_limit[1]]\n",
    "\n",
    "  if log:\n",
    "    plt.xscale(\"log\")\n",
    "    plt.yscale(\"log\")\n",
    "  else:\n",
    "    plt.xscale(\"linear\")\n",
    "    plt.yscale(\"linear\")\n",
    "\n",
    "\n",
    "  counts_series = data[\"freq\"]\n",
    "\n",
    "  cnts_min = counts_series.min()\n",
    "  cnts_max =  counts_series.max()\n",
    "  ideal_rate = counts_series.mean() * global_rate\n",
    "  rate_max = data.rate.max()\n",
    "\n",
    "  if not log:\n",
    "    #ideal level\n",
    "    ax.text((cnts_min+cnts_max)/2, ideal_rate, \"ideal rate\", horizontalalignment='center', verticalalignment=\"bottom\", size='medium', color='black')\n",
    "    sns.lineplot( x=[cnts_min, cnts_max], y=[ideal_rate,ideal_rate], ax = ax);\n",
    "    # border lower values\n",
    "    sns.lineplot( x=[last_low,last_low+0.001], y=[0, rate_max], color=\"blue\", ax=ax);\n",
    "    # border higher values\n",
    "    sns.lineplot( x=[first_high,first_high+0.001], y=[0, rate_max], color=\"red\", ax=ax, );\n",
    "\n",
    "  sns.scatterplot(data=data, x=\"freq\", y=\"rate\", hue =\"series\", style=\"explicit\", ax=ax)\n",
    "\n",
    "def draw_rate_change(ax, df):\n",
    "  def minor_tick_format(tick_val, tick_pos):\n",
    "    if tick_val < 0:\n",
    "      tick_val *= -1\n",
    "    while tick_val < 1:\n",
    "      tick_val *=10\n",
    "    while tick_val > 10:\n",
    "      tick_val /=10\n",
    "    return f\"{int(tick_val)%10}\"\n",
    "    \n",
    "\n",
    "  ax.set_yscale(\"log\")\n",
    "  ax.set_xscale(\"log\")\n",
    "  ax.grid(which='minor')\n",
    "  sns.scatterplot(data=df, x=\"freq\", y=\"adjusted_rate\", hue =\"explicit\", style=\"explicit\", ax=ax)\n",
    "  ax.xaxis.set_minor_formatter(minor_tick_format)\n",
    "  ax.set_title(\"Sample Rate\")\n",
    "\n",
    "\n",
    "def draw_rebalance_graphs(global_rate, items_high, items_low, project, trans_data):\n",
    "\n",
    "    df = process_data(global_rate, items_high, items_low, project, trans_data)\n",
    "\n",
    "    counts_series = df[\"freq\"]\n",
    "\n",
    "    last_low = counts_series.iloc[items_low]\n",
    "    first_high = counts_series.iloc[-items_high]\n",
    "\n",
    "    df2 = df.melt(id_vars=[\"freq\",\"explicit\"],value_vars=[\"adjusted\",\"original\"], var_name=\"series\", value_name = \"rate\")\n",
    "    fig, ax = plt.subplots(nrows = 4 ,figsize=(20,20))\n",
    "    \n",
    "    draw_rate_change(ax[0], df)\n",
    "    plot_rates(ax[1], df2, last_low, first_high, global_rate)\n",
    "    plot_rates(ax[2], df2, last_low, first_high, global_rate, x_limit=(-20, 220))\n",
    "    plot_rates(ax[3], df2, last_low, first_high, global_rate, log=True)\n",
    "\n",
    "\n"
   ]
  },
  {
   "cell_type": "markdown",
   "metadata": {
    "id": "XRkWaNAeAYUP"
   },
   "source": [
    "\n",
    "### Counts"
   ]
  },
  {
   "cell_type": "code",
   "execution_count": null,
   "metadata": {
    "colab": {
     "base_uri": "https://localhost:8080/",
     "height": 206
    },
    "id": "P_EEcgU2Bs1o",
    "outputId": "96390ffc-0fd2-42c0-d71b-c9b67e4045ad"
   },
   "outputs": [],
   "source": [
    "trans_data.head()"
   ]
  },
  {
   "cell_type": "markdown",
   "metadata": {
    "id": "EgcBX0eEAESL"
   },
   "source": [
    "### Sample rate"
   ]
  },
  {
   "cell_type": "code",
   "execution_count": null,
   "metadata": {
    "colab": {
     "base_uri": "https://localhost:8080/",
     "height": 1000,
     "referenced_widgets": [
      "7cff7bd8cf7a4d3fa420e8560c3a262c",
      "25363251dd3d40ea80d5dc52ec6a1cc5",
      "8ae6fe1070c04ba2af90aa09b2546178",
      "9e2b755b777645edb2a376912d1b37a5",
      "efd69c78bf334713bc1ca22ca44f7f90",
      "a606ea23b2024005a84ee60af11b229f",
      "0f434c11bdd042b98273b4f98499365b",
      "981153c56e61467ab2177968c802e76c",
      "8bd9b2901aeb48e086829e47f02f5b1f",
      "97919597914142e69b9924493596f2e7",
      "33e4422cf7354839b8b1b774c1f7454f",
      "f5f7e745e64f4b9a80d01d364a460508",
      "b4593f05d7254866bcbb1efc8adea28a",
      "922bb31792bb49b2b25ef1f0ec0e3283",
      "9202dcc84b784e05ac457fc203ea7350",
      "fed719e5cc8a4eca955d1b7833fc309a"
     ]
    },
    "id": "VDGq8Siw9iFV",
    "outputId": "885b40df-2212-4d8f-c2c4-22a44fca025b"
   },
   "outputs": [],
   "source": [
    "global_rate=widgets.FloatSlider(min=0,max=1,value=0.1, step=0.001 , description= \"sample rate\");\n",
    "num_classes = len(trans_data)\n",
    "items_high=widgets.BoundedIntText(min=0,max=num_classes,value=20,\n",
    "                                  description=\"items high\");\n",
    "items_low =widgets.BoundedIntText(min=0,max=num_classes,value=20,step=1,\n",
    "    description='items low')\n",
    "\n",
    "project_names = list(PROJECTS.keys())\n",
    "\n",
    "project= widgets.Dropdown(\n",
    "    options=project_names,\n",
    "    value='sentry',\n",
    "    description='Project:',\n",
    ")\n",
    "#global_rate = widgets.FloatText(min=0,max=1,value=0.1, step=0.001 )\n",
    "def rebalance_generator(trans_data):\n",
    "  def inner( global_rate, items_high, items_low, project):\n",
    "    draw_rebalance_graphs(global_rate, items_high,items_low, project, trans_data)\n",
    "  return inner\n",
    "\n",
    "widgets.interact(rebalance_generator(trans_data), global_rate = global_rate, items_high=items_high, items_low=items_low, project=project);"
   ]
  },
  {
   "cell_type": "code",
   "execution_count": null,
   "metadata": {
    "colab": {
     "base_uri": "https://localhost:8080/",
     "height": 441
    },
    "id": "SnaTcnrdwhpc",
    "outputId": "ddea8212-b5d2-4690-851c-6c826476caf5"
   },
   "outputs": [],
   "source": [
    "items_high = 10\n",
    "items_low = 20\n",
    "rate = 0.1\n",
    "\n",
    "process_data(rate, items_high, items_low, \"sentry\", trans_data)\n"
   ]
  },
  {
   "cell_type": "code",
   "execution_count": null,
   "metadata": {
    "id": "sKKksKZ4MCAF"
   },
   "outputs": [],
   "source": []
  },
  {
   "cell_type": "code",
   "execution_count": null,
   "metadata": {
    "id": "tbsLBoHRT_6O"
   },
   "outputs": [],
   "source": []
  },
  {
   "cell_type": "markdown",
   "metadata": {
    "id": "n7aivjhDn977"
   },
   "source": [
    "# Scratch pad below\n",
    "\n",
    "Ignore....\n"
   ]
  }
 ],
 "metadata": {
  "colab": {
   "authorship_tag": "ABX9TyN1tGvRfksO6iVwvVeFU+IS",
   "include_colab_link": true,
   "provenance": []
  },
  "kernelspec": {
   "display_name": "Python 3 (ipykernel)",
   "language": "python",
   "name": "python3"
  },
  "language_info": {
   "codemirror_mode": {
    "name": "ipython",
    "version": 3
   },
   "file_extension": ".py",
   "mimetype": "text/x-python",
   "name": "python",
   "nbconvert_exporter": "python",
   "pygments_lexer": "ipython3",
   "version": "3.10.9"
  },
  "widgets": {
   "application/vnd.jupyter.widget-state+json": {
    "0f434c11bdd042b98273b4f98499365b": {
     "model_module": "@jupyter-widgets/base",
     "model_module_version": "1.2.0",
     "model_name": "LayoutModel",
     "state": {
      "_model_module": "@jupyter-widgets/base",
      "_model_module_version": "1.2.0",
      "_model_name": "LayoutModel",
      "_view_count": null,
      "_view_module": "@jupyter-widgets/base",
      "_view_module_version": "1.2.0",
      "_view_name": "LayoutView",
      "align_content": null,
      "align_items": null,
      "align_self": null,
      "border": null,
      "bottom": null,
      "display": null,
      "flex": null,
      "flex_flow": null,
      "grid_area": null,
      "grid_auto_columns": null,
      "grid_auto_flow": null,
      "grid_auto_rows": null,
      "grid_column": null,
      "grid_gap": null,
      "grid_row": null,
      "grid_template_areas": null,
      "grid_template_columns": null,
      "grid_template_rows": null,
      "height": null,
      "justify_content": null,
      "justify_items": null,
      "left": null,
      "margin": null,
      "max_height": null,
      "max_width": null,
      "min_height": null,
      "min_width": null,
      "object_fit": null,
      "object_position": null,
      "order": null,
      "overflow": null,
      "overflow_x": null,
      "overflow_y": null,
      "padding": null,
      "right": null,
      "top": null,
      "visibility": null,
      "width": null
     }
    },
    "25363251dd3d40ea80d5dc52ec6a1cc5": {
     "model_module": "@jupyter-widgets/controls",
     "model_module_version": "1.5.0",
     "model_name": "FloatSliderModel",
     "state": {
      "_dom_classes": [],
      "_model_module": "@jupyter-widgets/controls",
      "_model_module_version": "1.5.0",
      "_model_name": "FloatSliderModel",
      "_view_count": null,
      "_view_module": "@jupyter-widgets/controls",
      "_view_module_version": "1.5.0",
      "_view_name": "FloatSliderView",
      "continuous_update": true,
      "description": "sample rate",
      "description_tooltip": null,
      "disabled": false,
      "layout": "IPY_MODEL_981153c56e61467ab2177968c802e76c",
      "max": 1,
      "min": 0,
      "orientation": "horizontal",
      "readout": true,
      "readout_format": ".2f",
      "step": 0.001,
      "style": "IPY_MODEL_8bd9b2901aeb48e086829e47f02f5b1f",
      "value": 0.1
     }
    },
    "33e4422cf7354839b8b1b774c1f7454f": {
     "model_module": "@jupyter-widgets/controls",
     "model_module_version": "1.5.0",
     "model_name": "DescriptionStyleModel",
     "state": {
      "_model_module": "@jupyter-widgets/controls",
      "_model_module_version": "1.5.0",
      "_model_name": "DescriptionStyleModel",
      "_view_count": null,
      "_view_module": "@jupyter-widgets/base",
      "_view_module_version": "1.2.0",
      "_view_name": "StyleView",
      "description_width": ""
     }
    },
    "7cff7bd8cf7a4d3fa420e8560c3a262c": {
     "model_module": "@jupyter-widgets/controls",
     "model_module_version": "1.5.0",
     "model_name": "VBoxModel",
     "state": {
      "_dom_classes": [
       "widget-interact"
      ],
      "_model_module": "@jupyter-widgets/controls",
      "_model_module_version": "1.5.0",
      "_model_name": "VBoxModel",
      "_view_count": null,
      "_view_module": "@jupyter-widgets/controls",
      "_view_module_version": "1.5.0",
      "_view_name": "VBoxView",
      "box_style": "",
      "children": [
       "IPY_MODEL_25363251dd3d40ea80d5dc52ec6a1cc5",
       "IPY_MODEL_8ae6fe1070c04ba2af90aa09b2546178",
       "IPY_MODEL_9e2b755b777645edb2a376912d1b37a5",
       "IPY_MODEL_efd69c78bf334713bc1ca22ca44f7f90",
       "IPY_MODEL_a606ea23b2024005a84ee60af11b229f"
      ],
      "layout": "IPY_MODEL_0f434c11bdd042b98273b4f98499365b"
     }
    },
    "8ae6fe1070c04ba2af90aa09b2546178": {
     "model_module": "@jupyter-widgets/controls",
     "model_module_version": "1.5.0",
     "model_name": "BoundedIntTextModel",
     "state": {
      "_dom_classes": [],
      "_model_module": "@jupyter-widgets/controls",
      "_model_module_version": "1.5.0",
      "_model_name": "BoundedIntTextModel",
      "_view_count": null,
      "_view_module": "@jupyter-widgets/controls",
      "_view_module_version": "1.5.0",
      "_view_name": "IntTextView",
      "continuous_update": false,
      "description": "items high",
      "description_tooltip": null,
      "disabled": false,
      "layout": "IPY_MODEL_97919597914142e69b9924493596f2e7",
      "max": 1126,
      "min": 0,
      "step": 1,
      "style": "IPY_MODEL_33e4422cf7354839b8b1b774c1f7454f",
      "value": 20
     }
    },
    "8bd9b2901aeb48e086829e47f02f5b1f": {
     "model_module": "@jupyter-widgets/controls",
     "model_module_version": "1.5.0",
     "model_name": "SliderStyleModel",
     "state": {
      "_model_module": "@jupyter-widgets/controls",
      "_model_module_version": "1.5.0",
      "_model_name": "SliderStyleModel",
      "_view_count": null,
      "_view_module": "@jupyter-widgets/base",
      "_view_module_version": "1.2.0",
      "_view_name": "StyleView",
      "description_width": "",
      "handle_color": null
     }
    },
    "9202dcc84b784e05ac457fc203ea7350": {
     "model_module": "@jupyter-widgets/controls",
     "model_module_version": "1.5.0",
     "model_name": "DescriptionStyleModel",
     "state": {
      "_model_module": "@jupyter-widgets/controls",
      "_model_module_version": "1.5.0",
      "_model_name": "DescriptionStyleModel",
      "_view_count": null,
      "_view_module": "@jupyter-widgets/base",
      "_view_module_version": "1.2.0",
      "_view_name": "StyleView",
      "description_width": ""
     }
    },
    "922bb31792bb49b2b25ef1f0ec0e3283": {
     "model_module": "@jupyter-widgets/base",
     "model_module_version": "1.2.0",
     "model_name": "LayoutModel",
     "state": {
      "_model_module": "@jupyter-widgets/base",
      "_model_module_version": "1.2.0",
      "_model_name": "LayoutModel",
      "_view_count": null,
      "_view_module": "@jupyter-widgets/base",
      "_view_module_version": "1.2.0",
      "_view_name": "LayoutView",
      "align_content": null,
      "align_items": null,
      "align_self": null,
      "border": null,
      "bottom": null,
      "display": null,
      "flex": null,
      "flex_flow": null,
      "grid_area": null,
      "grid_auto_columns": null,
      "grid_auto_flow": null,
      "grid_auto_rows": null,
      "grid_column": null,
      "grid_gap": null,
      "grid_row": null,
      "grid_template_areas": null,
      "grid_template_columns": null,
      "grid_template_rows": null,
      "height": null,
      "justify_content": null,
      "justify_items": null,
      "left": null,
      "margin": null,
      "max_height": null,
      "max_width": null,
      "min_height": null,
      "min_width": null,
      "object_fit": null,
      "object_position": null,
      "order": null,
      "overflow": null,
      "overflow_x": null,
      "overflow_y": null,
      "padding": null,
      "right": null,
      "top": null,
      "visibility": null,
      "width": null
     }
    },
    "97919597914142e69b9924493596f2e7": {
     "model_module": "@jupyter-widgets/base",
     "model_module_version": "1.2.0",
     "model_name": "LayoutModel",
     "state": {
      "_model_module": "@jupyter-widgets/base",
      "_model_module_version": "1.2.0",
      "_model_name": "LayoutModel",
      "_view_count": null,
      "_view_module": "@jupyter-widgets/base",
      "_view_module_version": "1.2.0",
      "_view_name": "LayoutView",
      "align_content": null,
      "align_items": null,
      "align_self": null,
      "border": null,
      "bottom": null,
      "display": null,
      "flex": null,
      "flex_flow": null,
      "grid_area": null,
      "grid_auto_columns": null,
      "grid_auto_flow": null,
      "grid_auto_rows": null,
      "grid_column": null,
      "grid_gap": null,
      "grid_row": null,
      "grid_template_areas": null,
      "grid_template_columns": null,
      "grid_template_rows": null,
      "height": null,
      "justify_content": null,
      "justify_items": null,
      "left": null,
      "margin": null,
      "max_height": null,
      "max_width": null,
      "min_height": null,
      "min_width": null,
      "object_fit": null,
      "object_position": null,
      "order": null,
      "overflow": null,
      "overflow_x": null,
      "overflow_y": null,
      "padding": null,
      "right": null,
      "top": null,
      "visibility": null,
      "width": null
     }
    },
    "981153c56e61467ab2177968c802e76c": {
     "model_module": "@jupyter-widgets/base",
     "model_module_version": "1.2.0",
     "model_name": "LayoutModel",
     "state": {
      "_model_module": "@jupyter-widgets/base",
      "_model_module_version": "1.2.0",
      "_model_name": "LayoutModel",
      "_view_count": null,
      "_view_module": "@jupyter-widgets/base",
      "_view_module_version": "1.2.0",
      "_view_name": "LayoutView",
      "align_content": null,
      "align_items": null,
      "align_self": null,
      "border": null,
      "bottom": null,
      "display": null,
      "flex": null,
      "flex_flow": null,
      "grid_area": null,
      "grid_auto_columns": null,
      "grid_auto_flow": null,
      "grid_auto_rows": null,
      "grid_column": null,
      "grid_gap": null,
      "grid_row": null,
      "grid_template_areas": null,
      "grid_template_columns": null,
      "grid_template_rows": null,
      "height": null,
      "justify_content": null,
      "justify_items": null,
      "left": null,
      "margin": null,
      "max_height": null,
      "max_width": null,
      "min_height": null,
      "min_width": null,
      "object_fit": null,
      "object_position": null,
      "order": null,
      "overflow": null,
      "overflow_x": null,
      "overflow_y": null,
      "padding": null,
      "right": null,
      "top": null,
      "visibility": null,
      "width": null
     }
    },
    "9e2b755b777645edb2a376912d1b37a5": {
     "model_module": "@jupyter-widgets/controls",
     "model_module_version": "1.5.0",
     "model_name": "BoundedIntTextModel",
     "state": {
      "_dom_classes": [],
      "_model_module": "@jupyter-widgets/controls",
      "_model_module_version": "1.5.0",
      "_model_name": "BoundedIntTextModel",
      "_view_count": null,
      "_view_module": "@jupyter-widgets/controls",
      "_view_module_version": "1.5.0",
      "_view_name": "IntTextView",
      "continuous_update": false,
      "description": "items low",
      "description_tooltip": null,
      "disabled": false,
      "layout": "IPY_MODEL_f5f7e745e64f4b9a80d01d364a460508",
      "max": 1126,
      "min": 0,
      "step": 1,
      "style": "IPY_MODEL_b4593f05d7254866bcbb1efc8adea28a",
      "value": 20
     }
    },
    "a606ea23b2024005a84ee60af11b229f": {
     "model_module": "@jupyter-widgets/output",
     "model_module_version": "1.0.0",
     "model_name": "OutputModel",
     "state": {
      "_dom_classes": [],
      "_model_module": "@jupyter-widgets/output",
      "_model_module_version": "1.0.0",
      "_model_name": "OutputModel",
      "_view_count": null,
      "_view_module": "@jupyter-widgets/output",
      "_view_module_version": "1.0.0",
      "_view_name": "OutputView",
      "layout": "IPY_MODEL_fed719e5cc8a4eca955d1b7833fc309a",
      "msg_id": "",
      "outputs": [
       {
        "name": "stdout",
        "output_type": "stream",
        "text": [
         "Num classes:600 implicit_rate:0.4920685292653264 original_rate:0.1\n"
        ]
       }
      ]
     }
    },
    "b4593f05d7254866bcbb1efc8adea28a": {
     "model_module": "@jupyter-widgets/controls",
     "model_module_version": "1.5.0",
     "model_name": "DescriptionStyleModel",
     "state": {
      "_model_module": "@jupyter-widgets/controls",
      "_model_module_version": "1.5.0",
      "_model_name": "DescriptionStyleModel",
      "_view_count": null,
      "_view_module": "@jupyter-widgets/base",
      "_view_module_version": "1.2.0",
      "_view_name": "StyleView",
      "description_width": ""
     }
    },
    "efd69c78bf334713bc1ca22ca44f7f90": {
     "model_module": "@jupyter-widgets/controls",
     "model_module_version": "1.5.0",
     "model_name": "DropdownModel",
     "state": {
      "_dom_classes": [],
      "_model_module": "@jupyter-widgets/controls",
      "_model_module_version": "1.5.0",
      "_model_name": "DropdownModel",
      "_options_labels": [
       "sentry",
       "javascript",
       "snuba",
       "gibpotato-backend"
      ],
      "_view_count": null,
      "_view_module": "@jupyter-widgets/controls",
      "_view_module_version": "1.5.0",
      "_view_name": "DropdownView",
      "description": "Project:",
      "description_tooltip": null,
      "disabled": false,
      "index": 0,
      "layout": "IPY_MODEL_922bb31792bb49b2b25ef1f0ec0e3283",
      "style": "IPY_MODEL_9202dcc84b784e05ac457fc203ea7350"
     }
    },
    "f5f7e745e64f4b9a80d01d364a460508": {
     "model_module": "@jupyter-widgets/base",
     "model_module_version": "1.2.0",
     "model_name": "LayoutModel",
     "state": {
      "_model_module": "@jupyter-widgets/base",
      "_model_module_version": "1.2.0",
      "_model_name": "LayoutModel",
      "_view_count": null,
      "_view_module": "@jupyter-widgets/base",
      "_view_module_version": "1.2.0",
      "_view_name": "LayoutView",
      "align_content": null,
      "align_items": null,
      "align_self": null,
      "border": null,
      "bottom": null,
      "display": null,
      "flex": null,
      "flex_flow": null,
      "grid_area": null,
      "grid_auto_columns": null,
      "grid_auto_flow": null,
      "grid_auto_rows": null,
      "grid_column": null,
      "grid_gap": null,
      "grid_row": null,
      "grid_template_areas": null,
      "grid_template_columns": null,
      "grid_template_rows": null,
      "height": null,
      "justify_content": null,
      "justify_items": null,
      "left": null,
      "margin": null,
      "max_height": null,
      "max_width": null,
      "min_height": null,
      "min_width": null,
      "object_fit": null,
      "object_position": null,
      "order": null,
      "overflow": null,
      "overflow_x": null,
      "overflow_y": null,
      "padding": null,
      "right": null,
      "top": null,
      "visibility": null,
      "width": null
     }
    },
    "fed719e5cc8a4eca955d1b7833fc309a": {
     "model_module": "@jupyter-widgets/base",
     "model_module_version": "1.2.0",
     "model_name": "LayoutModel",
     "state": {
      "_model_module": "@jupyter-widgets/base",
      "_model_module_version": "1.2.0",
      "_model_name": "LayoutModel",
      "_view_count": null,
      "_view_module": "@jupyter-widgets/base",
      "_view_module_version": "1.2.0",
      "_view_name": "LayoutView",
      "align_content": null,
      "align_items": null,
      "align_self": null,
      "border": null,
      "bottom": null,
      "display": null,
      "flex": null,
      "flex_flow": null,
      "grid_area": null,
      "grid_auto_columns": null,
      "grid_auto_flow": null,
      "grid_auto_rows": null,
      "grid_column": null,
      "grid_gap": null,
      "grid_row": null,
      "grid_template_areas": null,
      "grid_template_columns": null,
      "grid_template_rows": null,
      "height": null,
      "justify_content": null,
      "justify_items": null,
      "left": null,
      "margin": null,
      "max_height": null,
      "max_width": null,
      "min_height": null,
      "min_width": null,
      "object_fit": null,
      "object_position": null,
      "order": null,
      "overflow": null,
      "overflow_x": null,
      "overflow_y": null,
      "padding": null,
      "right": null,
      "top": null,
      "visibility": null,
      "width": null
     }
    }
   }
  }
 },
 "nbformat": 4,
 "nbformat_minor": 1
}
