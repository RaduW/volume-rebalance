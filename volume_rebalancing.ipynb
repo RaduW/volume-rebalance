{
  "cells": [
    {
      "cell_type": "markdown",
      "metadata": {
        "id": "view-in-github",
        "colab_type": "text"
      },
      "source": [
        "<a href=\"https://colab.research.google.com/github/RaduW/volume-rebalance/blob/main/volume_rebalancing.ipynb\" target=\"_parent\"><img src=\"https://colab.research.google.com/assets/colab-badge.svg\" alt=\"Open In Colab\"/></a>"
      ]
    },
    {
      "cell_type": "markdown",
      "metadata": {
        "id": "zdMHKb0x4JRD"
      },
      "source": [
        "\n",
        "\n",
        "# Volume Rebalancing Algorithm\n",
        "\n",
        "\n",
        "The volume rebalancing algorithm is based on the assumption that while given a global sample rate classes we want to adjust the individual class sampling rate in a way that equalises the number of sampled elements in each class while maintaining the overall sample rate."
      ]
    },
    {
      "cell_type": "code",
      "execution_count": 192,
      "metadata": {
        "id": "EO1gtKk34X5c"
      },
      "outputs": [],
      "source": [
        "from operator import itemgetter\n",
        "\n",
        "from ipywidgets import interact, widgets\n",
        "import pandas as pd\n",
        "import numpy as np\n",
        "import matplotlib as mpl\n",
        "import matplotlib.pyplot as plt\n",
        "import seaborn as sns\n",
        "\n",
        "sns.set_style(\"whitegrid\")\n"
      ]
    },
    {
      "cell_type": "code",
      "source": [
        "# import transaction data\n",
        "projects = \"https://raw.githubusercontent.com/RaduW/volume-rebalance/main/projects.json\"\n",
        "trans_data = pd.read_json(projects)"
      ],
      "metadata": {
        "id": "VkJr4d3fBEb3"
      },
      "execution_count": 193,
      "outputs": []
    },
    {
      "cell_type": "code",
      "execution_count": 194,
      "metadata": {
        "id": "NeYLNcywOgei"
      },
      "outputs": [],
      "source": [
        "import operator\n",
        "from collections import namedtuple\n",
        "from copy import copy\n",
        "from typing import List, Mapping, MutableMapping, Tuple, Union\n",
        "\n",
        "\n",
        "def adjust_sample_rate(\n",
        "    transactions: List[Tuple[str, int]], rate: float) -> Mapping[str, float]:\n",
        "    \"\"\"\n",
        "    Calculates transaction sample size in order to maximize the number of small transactions\n",
        "\n",
        "    :param transactions: the transaction types as an array of (name, count) tuples\n",
        "    :param rate: the overall desired rate\n",
        "    \"\"\"\n",
        "    # sort by transaction count\n",
        "    transactions = sorted(transactions, key=operator.itemgetter(1))\n",
        "    return adjust_sample_rate_full(transactions, rate)\n",
        "\n",
        "\n",
        "def adjust_sample_rate_full(\n",
        "    transactions: List[Tuple[str, int]], rate: float\n",
        ") -> MutableMapping[str, float]:\n",
        "    \"\"\"\n",
        "    resample all transactions to their ideal size\n",
        "    \"\"\"\n",
        "    transactions = copy(transactions)\n",
        "    ret_val = {}\n",
        "    num_transactions = total_transactions(transactions)\n",
        "    # calculate how many transactions we are allowed to keep overall\n",
        "    # this will allow us to pass transactions between different transaction types\n",
        "    total_budget = num_transactions * rate\n",
        "    while transactions:\n",
        "        num_types = len(transactions)\n",
        "        # We recalculate the budget per type every iteration to\n",
        "        # account for the cases where, in the previous step we couldn't\n",
        "        # spend all the allocated budget for that type.\n",
        "        budget_per_transaction_type = total_budget / num_types\n",
        "        name, count = transactions.pop(0)\n",
        "        if count < budget_per_transaction_type:\n",
        "            # we have fewer transactions in this type than the\n",
        "            # budget, all we can do is to keep everything\n",
        "            ret_val[name] = 1.0  # not enough samples, use all\n",
        "            total_budget -= count\n",
        "        else:\n",
        "            # we have enough transactions in current the class\n",
        "            # we want to only keep budget_per_transactions\n",
        "            transaction_rate = budget_per_transaction_type / count\n",
        "            ret_val[name] = transaction_rate\n",
        "            total_budget -= budget_per_transaction_type\n",
        "    return ret_val\n",
        "\n",
        "def total_transactions(transactions: List[Tuple[str, int]]) -> int:\n",
        "    ret_val = 0\n",
        "    for _, v in transactions:\n",
        "        ret_val += v\n",
        "    return ret_val\n",
        "    \n",
        "def counts_to_labeled_counts( counts: Union[float,int,Tuple[str,float]]):\n",
        "  counts = sorted(counts)\n",
        "  return [(f\"t-{idx}\",count) for idx,count in enumerate(counts)]"
      ]
    },
    {
      "cell_type": "markdown",
      "metadata": {
        "id": "s69nUY6B7M86"
      },
      "source": [
        "# Model params\n",
        "\n",
        "The model has the following input parameters:\n",
        "\n",
        "*   a list of initial counts representing the number of elements for each class `counts`\n",
        "*   an overall desired sample rate: `global_rate` (input via slider)\n",
        "\n"
      ]
    },
    {
      "cell_type": "code",
      "execution_count": 232,
      "metadata": {
        "id": "ZdADbCt5UQ1u"
      },
      "outputs": [],
      "source": [
        "\n",
        "\n",
        "def process_data(global_rate, transactions:List[Tuple[str,float]]):\n",
        "\n",
        "    transactions = sorted(transactions,key=itemgetter(1))\n",
        "    counts = [cnt[1] for cnt in transactions]\n",
        "\n",
        "    cnts = np.array(counts)\n",
        "    ideal_rate = np.average(cnts) * global_rate\n",
        "    cnts_min = cnts.min()\n",
        "    cnts_max = cnts.max()\n",
        "\n",
        "    labels = [ x[0] for x in transactions]\n",
        "\n",
        "    sampled_counts = cnts * global_rate\n",
        "\n",
        "    original_df = pd.DataFrame(data ={\"counts\": cnts, \"original\": sampled_counts}, index = labels)\n",
        "    adjusted = adjust_sample_rate(transactions, global_rate)\n",
        "    adjusted_df = pd.DataFrame.from_dict(data = adjusted, orient=\"index\", columns=[\"adjusted_rate\"] )\n",
        "\n",
        "    # now calculate the adjusted count\n",
        "    df = original_df.join(adjusted_df, how=\"outer\")\n",
        "\n",
        "    df[\"adjusted\"] = df[\"counts\"]* df[\"adjusted_rate\"]\n",
        "    return df  \n",
        "\n",
        "def draw_rebalance_graphs(global_rate, items_high, items_low, counts):\n",
        "    \n",
        "    df = process_data(global_rate, counts)\n",
        "\n",
        "    counts_series = df[\"counts\"]\n",
        "\n",
        "    cnts_min = counts_series.min()\n",
        "    cnts_max =  counts_series.max()\n",
        "    ideal_rate = counts_series.mean() * global_rate\n",
        "    rate_max = cnts_max * global_rate\n",
        "\n",
        "    last_low = counts_series.iloc[items_low]\n",
        "    first_high = counts_series.iloc[-items_high]\n",
        "\n",
        "    df2 = df.melt(id_vars=[\"counts\"],value_vars=[\"adjusted\",\"original\"], var_name=\"series\", value_name = \"rate\")\n",
        "    fig, ax = plt.subplots(nrows = 3 ,figsize=(20,16))\n",
        "    # ax.xaxis.grid(True, which='both')\n",
        "\n",
        "    plt.xscale(\"linear\")\n",
        "    plt.yscale(\"linear\")\n",
        "\n",
        "    sns.lineplot( x=[cnts_min, cnts_max+1], y=[ideal_rate,ideal_rate], ax = ax[0]);\n",
        "    sns.lineplot( x=[last_low,last_low+1], y=[0, rate_max], color=\"blue\", ax=ax[0]);\n",
        "    sns.lineplot( x=[first_high,first_high+1], y=[0, rate_max], color=\"red\", ax=ax[0], );\n",
        "    sns.scatterplot(data=df2, x=\"counts\", y=\"rate\", hue =\"series\", style=\"series\", ax=ax[0]).set(title = \"Sampling Adjustment\")\n",
        "\n",
        "    ax[1].set_xlim(-50,1050)\n",
        "    sns.lineplot( x=[cnts_min, cnts_max+1], y=[ideal_rate,ideal_rate], ax = ax[1]);\n",
        "    sns.lineplot( x=[last_low,last_low+1], y=[0, rate_max], color=\"blue\", ax=ax[1]);\n",
        "    sns.lineplot( x=[first_high,first_high+1], y=[0, rate_max], color=\"red\", ax=ax[1]);\n",
        "    sns.scatterplot(data=df2, x=\"counts\", y=\"rate\", hue =\"series\", style=\"series\", ax=ax[1]).set(title = \"Sampling Adjustment\")\n",
        "\n",
        "    plt.xscale(\"log\")\n",
        "    plt.yscale(\"log\")\n",
        "\n",
        "    #sns.lineplot( x=[cnts_min, cnts_max], y=[ideal_rate,ideal_rate], ax = ax[2]);\n",
        "    sns.scatterplot(data=df2, x=\"counts\", y=\"rate\", hue =\"series\", style=\"series\", ax=ax[2]).set(title = \"Sampling Adjustment (Log Scale)\")\n",
        "\n"
      ]
    },
    {
      "cell_type": "markdown",
      "metadata": {
        "id": "XRkWaNAeAYUP"
      },
      "source": [
        "\n",
        "### Counts"
      ]
    },
    {
      "cell_type": "code",
      "source": [
        "trans_data.head()"
      ],
      "metadata": {
        "id": "P_EEcgU2Bs1o",
        "outputId": "d150ec30-f388-4532-8993-59f922384bd9",
        "colab": {
          "base_uri": "https://localhost:8080/",
          "height": 206
        }
      },
      "execution_count": 196,
      "outputs": [
        {
          "output_type": "execute_result",
          "data": {
            "text/plain": [
              "          name  freq\n",
              "0            / 42.79\n",
              "1           /*  4.95\n",
              "2  /*/*/except  0.24\n",
              "3         /.*/ 11.58\n",
              "4     /_admin/  0.03"
            ],
            "text/html": [
              "\n",
              "  <div id=\"df-91363d97-ced9-47bb-8815-5ebb159ee8f5\">\n",
              "    <div class=\"colab-df-container\">\n",
              "      <div>\n",
              "<style scoped>\n",
              "    .dataframe tbody tr th:only-of-type {\n",
              "        vertical-align: middle;\n",
              "    }\n",
              "\n",
              "    .dataframe tbody tr th {\n",
              "        vertical-align: top;\n",
              "    }\n",
              "\n",
              "    .dataframe thead th {\n",
              "        text-align: right;\n",
              "    }\n",
              "</style>\n",
              "<table border=\"1\" class=\"dataframe\">\n",
              "  <thead>\n",
              "    <tr style=\"text-align: right;\">\n",
              "      <th></th>\n",
              "      <th>name</th>\n",
              "      <th>freq</th>\n",
              "    </tr>\n",
              "  </thead>\n",
              "  <tbody>\n",
              "    <tr>\n",
              "      <th>0</th>\n",
              "      <td>/</td>\n",
              "      <td>42.79</td>\n",
              "    </tr>\n",
              "    <tr>\n",
              "      <th>1</th>\n",
              "      <td>/*</td>\n",
              "      <td>4.95</td>\n",
              "    </tr>\n",
              "    <tr>\n",
              "      <th>2</th>\n",
              "      <td>/*/*/except</td>\n",
              "      <td>0.24</td>\n",
              "    </tr>\n",
              "    <tr>\n",
              "      <th>3</th>\n",
              "      <td>/.*/</td>\n",
              "      <td>11.58</td>\n",
              "    </tr>\n",
              "    <tr>\n",
              "      <th>4</th>\n",
              "      <td>/_admin/</td>\n",
              "      <td>0.03</td>\n",
              "    </tr>\n",
              "  </tbody>\n",
              "</table>\n",
              "</div>\n",
              "      <button class=\"colab-df-convert\" onclick=\"convertToInteractive('df-91363d97-ced9-47bb-8815-5ebb159ee8f5')\"\n",
              "              title=\"Convert this dataframe to an interactive table.\"\n",
              "              style=\"display:none;\">\n",
              "        \n",
              "  <svg xmlns=\"http://www.w3.org/2000/svg\" height=\"24px\"viewBox=\"0 0 24 24\"\n",
              "       width=\"24px\">\n",
              "    <path d=\"M0 0h24v24H0V0z\" fill=\"none\"/>\n",
              "    <path d=\"M18.56 5.44l.94 2.06.94-2.06 2.06-.94-2.06-.94-.94-2.06-.94 2.06-2.06.94zm-11 1L8.5 8.5l.94-2.06 2.06-.94-2.06-.94L8.5 2.5l-.94 2.06-2.06.94zm10 10l.94 2.06.94-2.06 2.06-.94-2.06-.94-.94-2.06-.94 2.06-2.06.94z\"/><path d=\"M17.41 7.96l-1.37-1.37c-.4-.4-.92-.59-1.43-.59-.52 0-1.04.2-1.43.59L10.3 9.45l-7.72 7.72c-.78.78-.78 2.05 0 2.83L4 21.41c.39.39.9.59 1.41.59.51 0 1.02-.2 1.41-.59l7.78-7.78 2.81-2.81c.8-.78.8-2.07 0-2.86zM5.41 20L4 18.59l7.72-7.72 1.47 1.35L5.41 20z\"/>\n",
              "  </svg>\n",
              "      </button>\n",
              "      \n",
              "  <style>\n",
              "    .colab-df-container {\n",
              "      display:flex;\n",
              "      flex-wrap:wrap;\n",
              "      gap: 12px;\n",
              "    }\n",
              "\n",
              "    .colab-df-convert {\n",
              "      background-color: #E8F0FE;\n",
              "      border: none;\n",
              "      border-radius: 50%;\n",
              "      cursor: pointer;\n",
              "      display: none;\n",
              "      fill: #1967D2;\n",
              "      height: 32px;\n",
              "      padding: 0 0 0 0;\n",
              "      width: 32px;\n",
              "    }\n",
              "\n",
              "    .colab-df-convert:hover {\n",
              "      background-color: #E2EBFA;\n",
              "      box-shadow: 0px 1px 2px rgba(60, 64, 67, 0.3), 0px 1px 3px 1px rgba(60, 64, 67, 0.15);\n",
              "      fill: #174EA6;\n",
              "    }\n",
              "\n",
              "    [theme=dark] .colab-df-convert {\n",
              "      background-color: #3B4455;\n",
              "      fill: #D2E3FC;\n",
              "    }\n",
              "\n",
              "    [theme=dark] .colab-df-convert:hover {\n",
              "      background-color: #434B5C;\n",
              "      box-shadow: 0px 1px 3px 1px rgba(0, 0, 0, 0.15);\n",
              "      filter: drop-shadow(0px 1px 2px rgba(0, 0, 0, 0.3));\n",
              "      fill: #FFFFFF;\n",
              "    }\n",
              "  </style>\n",
              "\n",
              "      <script>\n",
              "        const buttonEl =\n",
              "          document.querySelector('#df-91363d97-ced9-47bb-8815-5ebb159ee8f5 button.colab-df-convert');\n",
              "        buttonEl.style.display =\n",
              "          google.colab.kernel.accessAllowed ? 'block' : 'none';\n",
              "\n",
              "        async function convertToInteractive(key) {\n",
              "          const element = document.querySelector('#df-91363d97-ced9-47bb-8815-5ebb159ee8f5');\n",
              "          const dataTable =\n",
              "            await google.colab.kernel.invokeFunction('convertToInteractive',\n",
              "                                                     [key], {});\n",
              "          if (!dataTable) return;\n",
              "\n",
              "          const docLinkHtml = 'Like what you see? Visit the ' +\n",
              "            '<a target=\"_blank\" href=https://colab.research.google.com/notebooks/data_table.ipynb>data table notebook</a>'\n",
              "            + ' to learn more about interactive tables.';\n",
              "          element.innerHTML = '';\n",
              "          dataTable['output_type'] = 'display_data';\n",
              "          await google.colab.output.renderOutput(dataTable, element);\n",
              "          const docLink = document.createElement('div');\n",
              "          docLink.innerHTML = docLinkHtml;\n",
              "          element.appendChild(docLink);\n",
              "        }\n",
              "      </script>\n",
              "    </div>\n",
              "  </div>\n",
              "  "
            ]
          },
          "metadata": {},
          "execution_count": 196
        }
      ]
    },
    {
      "cell_type": "code",
      "execution_count": 197,
      "metadata": {
        "id": "SdTAuZrgAWWV",
        "outputId": "a8148423-16cb-42f2-b827-636388641d7e",
        "colab": {
          "base_uri": "https://localhost:8080/"
        }
      },
      "outputs": [
        {
          "output_type": "execute_result",
          "data": {
            "text/plain": [
              "568"
            ]
          },
          "metadata": {},
          "execution_count": 197
        }
      ],
      "source": [
        "counts = [10,500.37,  3999.88, 7000, 9000]\n",
        "counts = counts_to_labeled_counts(counts)\n",
        "\n",
        "# override counts with real transaction data\n",
        "# multipy the freq by 1000 to make it easyer to display ()\n",
        "trans_data['freq'] = trans_data['freq']\n",
        "counts = list(trans_data.itertuples(index=False, name=None))\n",
        "num_transactions = len(counts)\n",
        "num_transactions"
      ]
    },
    {
      "cell_type": "markdown",
      "metadata": {
        "id": "EgcBX0eEAESL"
      },
      "source": [
        "### Sample rate"
      ]
    },
    {
      "cell_type": "code",
      "execution_count": 233,
      "metadata": {
        "colab": {
          "base_uri": "https://localhost:8080/",
          "height": 1000,
          "referenced_widgets": [
            "f60c4403366240158ec5ccb6a05b27b1",
            "14219cd2cfaa42f682dc9eae3c5c5b4c",
            "af5efacfc459437b8800a583240420e1",
            "3963a8a2da004ac09247e323f48e4396",
            "03fea5aab14a403c871cfe7b0bda1d96",
            "22c4cb9ccafc402da3ad1449e235a5ae",
            "1d0a84f09f6d48fda570ce94ef7436fd",
            "68b5cd664f1249338b8a6839dc6ad263",
            "f45caaf23f954a89b43a2e6bba3299a2",
            "bbe8639dd1574adcb3c1f1b2c5552323",
            "967c17563ca94d38a2cdd9d6c3216d1b",
            "08c9e849887c4475b03b86da2054d263",
            "d478812bc8ef4c4d832e70c2bc68b0e1"
          ]
        },
        "id": "VDGq8Siw9iFV",
        "outputId": "16b13ecc-9f0a-4c17-8de1-0d2bb9198954"
      },
      "outputs": [
        {
          "output_type": "display_data",
          "data": {
            "text/plain": [
              "interactive(children=(FloatSlider(value=0.1, description='global_rate', max=1.0, step=0.001), IntSlider(value=…"
            ],
            "application/vnd.jupyter.widget-view+json": {
              "version_major": 2,
              "version_minor": 0,
              "model_id": "f60c4403366240158ec5ccb6a05b27b1"
            }
          },
          "metadata": {}
        }
      ],
      "source": [
        "global_rate=widgets.FloatSlider(min=0,max=1,value=0.1, step=0.001 );\n",
        "items_high=widgets.IntSlider(min=0,max=num_transactions,value=20);\n",
        "items_low=widgets.IntSlider(min=0,max=num_transactions,value=20);\n",
        "#global_rate = widgets.FloatText(min=0,max=1,value=0.1, step=0.001 )\n",
        "def rebalance_generator(counts):\n",
        "  def inner( global_rate, items_high, items_low):\n",
        "    draw_rebalance_graphs(global_rate, items_high,items_low, counts)\n",
        "  return inner\n",
        "\n",
        "widgets.interact(rebalance_generator(counts), global_rate = global_rate, items_high=items_high, items_low=items_low);"
      ]
    },
    {
      "cell_type": "code",
      "execution_count": 199,
      "metadata": {
        "colab": {
          "base_uri": "https://localhost:8080/",
          "height": 335
        },
        "id": "SnaTcnrdwhpc",
        "outputId": "46bf9ee9-f70e-4124-8ac5-da477c8da85b"
      },
      "outputs": [
        {
          "output_type": "stream",
          "name": "stdout",
          "text": [
            "Global Rate is 0.1\n",
            "8 7228.229166666667 392.84583333333336\n"
          ]
        },
        {
          "output_type": "execute_result",
          "data": {
            "text/plain": [
              "                                                     counts  original  \\\n",
              "sentry.sentry_metrics.consumers.indexer.process... 7,228.23    722.82   \n",
              "/api/0/projects/{organization_slug}/{project_sl... 3,057.80    305.78   \n",
              "sentry.tasks.process_buffer.process_incr           1,005.56    100.56   \n",
              "sentry.tasks.store.save_event_transaction            946.96     94.70   \n",
              "sentry.tasks.process_buffer.buffer_incr_task         916.37     91.64   \n",
              "sentry.tasks.store.save_event                        915.54     91.55   \n",
              "/{organization_slug}/                                899.92     89.99   \n",
              "sentry.tasks.post_process.post_process_group         839.20     83.92   \n",
              "\n",
              "                                                    adjusted_rate  adjusted  \n",
              "sentry.sentry_metrics.consumers.indexer.process...           0.00     25.52  \n",
              "/api/0/projects/{organization_slug}/{project_sl...           0.01     25.52  \n",
              "sentry.tasks.process_buffer.process_incr                     0.03     25.52  \n",
              "sentry.tasks.store.save_event_transaction                    0.03     25.52  \n",
              "sentry.tasks.process_buffer.buffer_incr_task                 0.03     25.52  \n",
              "sentry.tasks.store.save_event                                0.03     25.52  \n",
              "/{organization_slug}/                                        0.03     25.52  \n",
              "sentry.tasks.post_process.post_process_group                 0.03     25.52  "
            ],
            "text/html": [
              "\n",
              "  <div id=\"df-cc75b325-2f91-42ef-bb15-92710af67d0d\">\n",
              "    <div class=\"colab-df-container\">\n",
              "      <div>\n",
              "<style scoped>\n",
              "    .dataframe tbody tr th:only-of-type {\n",
              "        vertical-align: middle;\n",
              "    }\n",
              "\n",
              "    .dataframe tbody tr th {\n",
              "        vertical-align: top;\n",
              "    }\n",
              "\n",
              "    .dataframe thead th {\n",
              "        text-align: right;\n",
              "    }\n",
              "</style>\n",
              "<table border=\"1\" class=\"dataframe\">\n",
              "  <thead>\n",
              "    <tr style=\"text-align: right;\">\n",
              "      <th></th>\n",
              "      <th>counts</th>\n",
              "      <th>original</th>\n",
              "      <th>adjusted_rate</th>\n",
              "      <th>adjusted</th>\n",
              "    </tr>\n",
              "  </thead>\n",
              "  <tbody>\n",
              "    <tr>\n",
              "      <th>sentry.sentry_metrics.consumers.indexer.processing.process_messages</th>\n",
              "      <td>7,228.23</td>\n",
              "      <td>722.82</td>\n",
              "      <td>0.00</td>\n",
              "      <td>25.52</td>\n",
              "    </tr>\n",
              "    <tr>\n",
              "      <th>/api/0/projects/{organization_slug}/{project_slug}/files/dsyms/</th>\n",
              "      <td>3,057.80</td>\n",
              "      <td>305.78</td>\n",
              "      <td>0.01</td>\n",
              "      <td>25.52</td>\n",
              "    </tr>\n",
              "    <tr>\n",
              "      <th>sentry.tasks.process_buffer.process_incr</th>\n",
              "      <td>1,005.56</td>\n",
              "      <td>100.56</td>\n",
              "      <td>0.03</td>\n",
              "      <td>25.52</td>\n",
              "    </tr>\n",
              "    <tr>\n",
              "      <th>sentry.tasks.store.save_event_transaction</th>\n",
              "      <td>946.96</td>\n",
              "      <td>94.70</td>\n",
              "      <td>0.03</td>\n",
              "      <td>25.52</td>\n",
              "    </tr>\n",
              "    <tr>\n",
              "      <th>sentry.tasks.process_buffer.buffer_incr_task</th>\n",
              "      <td>916.37</td>\n",
              "      <td>91.64</td>\n",
              "      <td>0.03</td>\n",
              "      <td>25.52</td>\n",
              "    </tr>\n",
              "    <tr>\n",
              "      <th>sentry.tasks.store.save_event</th>\n",
              "      <td>915.54</td>\n",
              "      <td>91.55</td>\n",
              "      <td>0.03</td>\n",
              "      <td>25.52</td>\n",
              "    </tr>\n",
              "    <tr>\n",
              "      <th>/{organization_slug}/</th>\n",
              "      <td>899.92</td>\n",
              "      <td>89.99</td>\n",
              "      <td>0.03</td>\n",
              "      <td>25.52</td>\n",
              "    </tr>\n",
              "    <tr>\n",
              "      <th>sentry.tasks.post_process.post_process_group</th>\n",
              "      <td>839.20</td>\n",
              "      <td>83.92</td>\n",
              "      <td>0.03</td>\n",
              "      <td>25.52</td>\n",
              "    </tr>\n",
              "  </tbody>\n",
              "</table>\n",
              "</div>\n",
              "      <button class=\"colab-df-convert\" onclick=\"convertToInteractive('df-cc75b325-2f91-42ef-bb15-92710af67d0d')\"\n",
              "              title=\"Convert this dataframe to an interactive table.\"\n",
              "              style=\"display:none;\">\n",
              "        \n",
              "  <svg xmlns=\"http://www.w3.org/2000/svg\" height=\"24px\"viewBox=\"0 0 24 24\"\n",
              "       width=\"24px\">\n",
              "    <path d=\"M0 0h24v24H0V0z\" fill=\"none\"/>\n",
              "    <path d=\"M18.56 5.44l.94 2.06.94-2.06 2.06-.94-2.06-.94-.94-2.06-.94 2.06-2.06.94zm-11 1L8.5 8.5l.94-2.06 2.06-.94-2.06-.94L8.5 2.5l-.94 2.06-2.06.94zm10 10l.94 2.06.94-2.06 2.06-.94-2.06-.94-.94-2.06-.94 2.06-2.06.94z\"/><path d=\"M17.41 7.96l-1.37-1.37c-.4-.4-.92-.59-1.43-.59-.52 0-1.04.2-1.43.59L10.3 9.45l-7.72 7.72c-.78.78-.78 2.05 0 2.83L4 21.41c.39.39.9.59 1.41.59.51 0 1.02-.2 1.41-.59l7.78-7.78 2.81-2.81c.8-.78.8-2.07 0-2.86zM5.41 20L4 18.59l7.72-7.72 1.47 1.35L5.41 20z\"/>\n",
              "  </svg>\n",
              "      </button>\n",
              "      \n",
              "  <style>\n",
              "    .colab-df-container {\n",
              "      display:flex;\n",
              "      flex-wrap:wrap;\n",
              "      gap: 12px;\n",
              "    }\n",
              "\n",
              "    .colab-df-convert {\n",
              "      background-color: #E8F0FE;\n",
              "      border: none;\n",
              "      border-radius: 50%;\n",
              "      cursor: pointer;\n",
              "      display: none;\n",
              "      fill: #1967D2;\n",
              "      height: 32px;\n",
              "      padding: 0 0 0 0;\n",
              "      width: 32px;\n",
              "    }\n",
              "\n",
              "    .colab-df-convert:hover {\n",
              "      background-color: #E2EBFA;\n",
              "      box-shadow: 0px 1px 2px rgba(60, 64, 67, 0.3), 0px 1px 3px 1px rgba(60, 64, 67, 0.15);\n",
              "      fill: #174EA6;\n",
              "    }\n",
              "\n",
              "    [theme=dark] .colab-df-convert {\n",
              "      background-color: #3B4455;\n",
              "      fill: #D2E3FC;\n",
              "    }\n",
              "\n",
              "    [theme=dark] .colab-df-convert:hover {\n",
              "      background-color: #434B5C;\n",
              "      box-shadow: 0px 1px 3px 1px rgba(0, 0, 0, 0.15);\n",
              "      filter: drop-shadow(0px 1px 2px rgba(0, 0, 0, 0.3));\n",
              "      fill: #FFFFFF;\n",
              "    }\n",
              "  </style>\n",
              "\n",
              "      <script>\n",
              "        const buttonEl =\n",
              "          document.querySelector('#df-cc75b325-2f91-42ef-bb15-92710af67d0d button.colab-df-convert');\n",
              "        buttonEl.style.display =\n",
              "          google.colab.kernel.accessAllowed ? 'block' : 'none';\n",
              "\n",
              "        async function convertToInteractive(key) {\n",
              "          const element = document.querySelector('#df-cc75b325-2f91-42ef-bb15-92710af67d0d');\n",
              "          const dataTable =\n",
              "            await google.colab.kernel.invokeFunction('convertToInteractive',\n",
              "                                                     [key], {});\n",
              "          if (!dataTable) return;\n",
              "\n",
              "          const docLinkHtml = 'Like what you see? Visit the ' +\n",
              "            '<a target=\"_blank\" href=https://colab.research.google.com/notebooks/data_table.ipynb>data table notebook</a>'\n",
              "            + ' to learn more about interactive tables.';\n",
              "          element.innerHTML = '';\n",
              "          dataTable['output_type'] = 'display_data';\n",
              "          await google.colab.output.renderOutput(dataTable, element);\n",
              "          const docLink = document.createElement('div');\n",
              "          docLink.innerHTML = docLinkHtml;\n",
              "          element.appendChild(docLink);\n",
              "        }\n",
              "      </script>\n",
              "    </div>\n",
              "  </div>\n",
              "  "
            ]
          },
          "metadata": {},
          "execution_count": 199
        }
      ],
      "source": [
        "print(f\"Global Rate is {global_rate.value}\")\n",
        "adjusted_rates = process_data(global_rate.value, counts)\n",
        "adjusted_rates.sort_values(inplace=True,ascending=False,by=[\"counts\"]);\n",
        "x = adjusted_rates[adjusted_rates.counts > adjusted_rates.counts.max()/10]\n",
        "print(len(x), adjusted_rates.counts[0], adjusted_rates.counts[20])\n",
        "x"
      ]
    },
    {
      "cell_type": "code",
      "source": [
        "adjusted_rates.counts.describe()"
      ],
      "metadata": {
        "colab": {
          "base_uri": "https://localhost:8080/"
        },
        "id": "sKKksKZ4MCAF",
        "outputId": "3e61fb81-f99b-4dd2-b002-6290a953ba13"
      },
      "execution_count": 200,
      "outputs": [
        {
          "output_type": "execute_result",
          "data": {
            "text/plain": [
              "count     568.00\n",
              "mean       64.73\n",
              "std       353.62\n",
              "min         0.00\n",
              "25%         0.04\n",
              "50%         0.61\n",
              "75%         8.47\n",
              "max     7,228.23\n",
              "Name: counts, dtype: float64"
            ]
          },
          "metadata": {},
          "execution_count": 200
        }
      ]
    },
    {
      "cell_type": "code",
      "source": [
        "fig, ax = plt.subplots(nrows = 1 ,figsize=(20,16))\n",
        "sns.histplot(adjusted_rates.counts, bins=200);"
      ],
      "metadata": {
        "id": "tbsLBoHRT_6O",
        "colab": {
          "base_uri": "https://localhost:8080/",
          "height": 932
        },
        "outputId": "2dc9821b-7499-4788-8d4b-8a3a57c17ff2"
      },
      "execution_count": 201,
      "outputs": [
        {
          "output_type": "display_data",
          "data": {
            "text/plain": [
              "<Figure size 1440x1152 with 1 Axes>"
            ],
            "image/png": "[encoded data removed]"
          },
          "metadata": {}
        }
      ]
    },
    {
      "cell_type": "markdown",
      "metadata": {
        "id": "n7aivjhDn977"
      },
      "source": [
        "# Scratch pad below\n",
        "\n",
        "Ignore...."
      ]
    },
    {
      "cell_type": "code",
      "execution_count": 201,
      "metadata": {
        "id": "1Z8MTzbSqlEI"
      },
      "outputs": [],
      "source": []
    },
    {
      "cell_type": "code",
      "execution_count": 201,
      "metadata": {
        "id": "1NWpZppFrPkE"
      },
      "outputs": [],
      "source": []
    }
  ],
  "metadata": {
    "colab": {
      "provenance": [],
      "authorship_tag": "ABX9TyPVdObUHqJ5xUNHFddRGSe8",
      "include_colab_link": true
    },
    "kernelspec": {
      "display_name": "Python 3",
      "name": "python3"
    },
    "language_info": {
      "name": "python"
    },
    "widgets": {
      "application/vnd.jupyter.widget-state+json": {
        "f60c4403366240158ec5ccb6a05b27b1": {
          "model_module": "@jupyter-widgets/controls",
          "model_name": "VBoxModel",
          "model_module_version": "1.5.0",
          "state": {
            "_dom_classes": [
              "widget-interact"
            ],
            "_model_module": "@jupyter-widgets/controls",
            "_model_module_version": "1.5.0",
            "_model_name": "VBoxModel",
            "_view_count": null,
            "_view_module": "@jupyter-widgets/controls",
            "_view_module_version": "1.5.0",
            "_view_name": "VBoxView",
            "box_style": "",
            "children": [
              "IPY_MODEL_14219cd2cfaa42f682dc9eae3c5c5b4c",
              "IPY_MODEL_af5efacfc459437b8800a583240420e1",
              "IPY_MODEL_3963a8a2da004ac09247e323f48e4396",
              "IPY_MODEL_03fea5aab14a403c871cfe7b0bda1d96"
            ],
            "layout": "IPY_MODEL_22c4cb9ccafc402da3ad1449e235a5ae"
          }
        },
        "14219cd2cfaa42f682dc9eae3c5c5b4c": {
          "model_module": "@jupyter-widgets/controls",
          "model_name": "FloatSliderModel",
          "model_module_version": "1.5.0",
          "state": {
            "_dom_classes": [],
            "_model_module": "@jupyter-widgets/controls",
            "_model_module_version": "1.5.0",
            "_model_name": "FloatSliderModel",
            "_view_count": null,
            "_view_module": "@jupyter-widgets/controls",
            "_view_module_version": "1.5.0",
            "_view_name": "FloatSliderView",
            "continuous_update": true,
            "description": "global_rate",
            "description_tooltip": null,
            "disabled": false,
            "layout": "IPY_MODEL_1d0a84f09f6d48fda570ce94ef7436fd",
            "max": 1,
            "min": 0,
            "orientation": "horizontal",
            "readout": true,
            "readout_format": ".2f",
            "step": 0.001,
            "style": "IPY_MODEL_68b5cd664f1249338b8a6839dc6ad263",
            "value": 0.1
          }
        },
        "af5efacfc459437b8800a583240420e1": {
          "model_module": "@jupyter-widgets/controls",
          "model_name": "IntSliderModel",
          "model_module_version": "1.5.0",
          "state": {
            "_dom_classes": [],
            "_model_module": "@jupyter-widgets/controls",
            "_model_module_version": "1.5.0",
            "_model_name": "IntSliderModel",
            "_view_count": null,
            "_view_module": "@jupyter-widgets/controls",
            "_view_module_version": "1.5.0",
            "_view_name": "IntSliderView",
            "continuous_update": true,
            "description": "items_high",
            "description_tooltip": null,
            "disabled": false,
            "layout": "IPY_MODEL_f45caaf23f954a89b43a2e6bba3299a2",
            "max": 568,
            "min": 0,
            "orientation": "horizontal",
            "readout": true,
            "readout_format": "d",
            "step": 1,
            "style": "IPY_MODEL_bbe8639dd1574adcb3c1f1b2c5552323",
            "value": 9
          }
        },
        "3963a8a2da004ac09247e323f48e4396": {
          "model_module": "@jupyter-widgets/controls",
          "model_name": "IntSliderModel",
          "model_module_version": "1.5.0",
          "state": {
            "_dom_classes": [],
            "_model_module": "@jupyter-widgets/controls",
            "_model_module_version": "1.5.0",
            "_model_name": "IntSliderModel",
            "_view_count": null,
            "_view_module": "@jupyter-widgets/controls",
            "_view_module_version": "1.5.0",
            "_view_name": "IntSliderView",
            "continuous_update": true,
            "description": "items_low",
            "description_tooltip": null,
            "disabled": false,
            "layout": "IPY_MODEL_967c17563ca94d38a2cdd9d6c3216d1b",
            "max": 568,
            "min": 0,
            "orientation": "horizontal",
            "readout": true,
            "readout_format": "d",
            "step": 1,
            "style": "IPY_MODEL_08c9e849887c4475b03b86da2054d263",
            "value": 20
          }
        },
        "03fea5aab14a403c871cfe7b0bda1d96": {
          "model_module": "@jupyter-widgets/output",
          "model_name": "OutputModel",
          "model_module_version": "1.0.0",
          "state": {
            "_dom_classes": [],
            "_model_module": "@jupyter-widgets/output",
            "_model_module_version": "1.0.0",
            "_model_name": "OutputModel",
            "_view_count": null,
            "_view_module": "@jupyter-widgets/output",
            "_view_module_version": "1.0.0",
            "_view_name": "OutputView",
            "layout": "IPY_MODEL_d478812bc8ef4c4d832e70c2bc68b0e1",
            "msg_id": "",
            "outputs": [
              {
                "output_type": "display_data",
                "data": {
                  "text/plain": "<Figure size 1440x1152 with 3 Axes>",
                  "image/png": "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\n"
                },
                "metadata": {}
              }
            ]
          }
        },
        "22c4cb9ccafc402da3ad1449e235a5ae": {
          "model_module": "@jupyter-widgets/base",
          "model_name": "LayoutModel",
          "model_module_version": "1.2.0",
          "state": {
            "_model_module": "@jupyter-widgets/base",
            "_model_module_version": "1.2.0",
            "_model_name": "LayoutModel",
            "_view_count": null,
            "_view_module": "@jupyter-widgets/base",
            "_view_module_version": "1.2.0",
            "_view_name": "LayoutView",
            "align_content": null,
            "align_items": null,
            "align_self": null,
            "border": null,
            "bottom": null,
            "display": null,
            "flex": null,
            "flex_flow": null,
            "grid_area": null,
            "grid_auto_columns": null,
            "grid_auto_flow": null,
            "grid_auto_rows": null,
            "grid_column": null,
            "grid_gap": null,
            "grid_row": null,
            "grid_template_areas": null,
            "grid_template_columns": null,
            "grid_template_rows": null,
            "height": null,
            "justify_content": null,
            "justify_items": null,
            "left": null,
            "margin": null,
            "max_height": null,
            "max_width": null,
            "min_height": null,
            "min_width": null,
            "object_fit": null,
            "object_position": null,
            "order": null,
            "overflow": null,
            "overflow_x": null,
            "overflow_y": null,
            "padding": null,
            "right": null,
            "top": null,
            "visibility": null,
            "width": null
          }
        },
        "1d0a84f09f6d48fda570ce94ef7436fd": {
          "model_module": "@jupyter-widgets/base",
          "model_name": "LayoutModel",
          "model_module_version": "1.2.0",
          "state": {
            "_model_module": "@jupyter-widgets/base",
            "_model_module_version": "1.2.0",
            "_model_name": "LayoutModel",
            "_view_count": null,
            "_view_module": "@jupyter-widgets/base",
            "_view_module_version": "1.2.0",
            "_view_name": "LayoutView",
            "align_content": null,
            "align_items": null,
            "align_self": null,
            "border": null,
            "bottom": null,
            "display": null,
            "flex": null,
            "flex_flow": null,
            "grid_area": null,
            "grid_auto_columns": null,
            "grid_auto_flow": null,
            "grid_auto_rows": null,
            "grid_column": null,
            "grid_gap": null,
            "grid_row": null,
            "grid_template_areas": null,
            "grid_template_columns": null,
            "grid_template_rows": null,
            "height": null,
            "justify_content": null,
            "justify_items": null,
            "left": null,
            "margin": null,
            "max_height": null,
            "max_width": null,
            "min_height": null,
            "min_width": null,
            "object_fit": null,
            "object_position": null,
            "order": null,
            "overflow": null,
            "overflow_x": null,
            "overflow_y": null,
            "padding": null,
            "right": null,
            "top": null,
            "visibility": null,
            "width": null
          }
        },
        "68b5cd664f1249338b8a6839dc6ad263": {
          "model_module": "@jupyter-widgets/controls",
          "model_name": "SliderStyleModel",
          "model_module_version": "1.5.0",
          "state": {
            "_model_module": "@jupyter-widgets/controls",
            "_model_module_version": "1.5.0",
            "_model_name": "SliderStyleModel",
            "_view_count": null,
            "_view_module": "@jupyter-widgets/base",
            "_view_module_version": "1.2.0",
            "_view_name": "StyleView",
            "description_width": "",
            "handle_color": null
          }
        },
        "f45caaf23f954a89b43a2e6bba3299a2": {
          "model_module": "@jupyter-widgets/base",
          "model_name": "LayoutModel",
          "model_module_version": "1.2.0",
          "state": {
            "_model_module": "@jupyter-widgets/base",
            "_model_module_version": "1.2.0",
            "_model_name": "LayoutModel",
            "_view_count": null,
            "_view_module": "@jupyter-widgets/base",
            "_view_module_version": "1.2.0",
            "_view_name": "LayoutView",
            "align_content": null,
            "align_items": null,
            "align_self": null,
            "border": null,
            "bottom": null,
            "display": null,
            "flex": null,
            "flex_flow": null,
            "grid_area": null,
            "grid_auto_columns": null,
            "grid_auto_flow": null,
            "grid_auto_rows": null,
            "grid_column": null,
            "grid_gap": null,
            "grid_row": null,
            "grid_template_areas": null,
            "grid_template_columns": null,
            "grid_template_rows": null,
            "height": null,
            "justify_content": null,
            "justify_items": null,
            "left": null,
            "margin": null,
            "max_height": null,
            "max_width": null,
            "min_height": null,
            "min_width": null,
            "object_fit": null,
            "object_position": null,
            "order": null,
            "overflow": null,
            "overflow_x": null,
            "overflow_y": null,
            "padding": null,
            "right": null,
            "top": null,
            "visibility": null,
            "width": null
          }
        },
        "bbe8639dd1574adcb3c1f1b2c5552323": {
          "model_module": "@jupyter-widgets/controls",
          "model_name": "SliderStyleModel",
          "model_module_version": "1.5.0",
          "state": {
            "_model_module": "@jupyter-widgets/controls",
            "_model_module_version": "1.5.0",
            "_model_name": "SliderStyleModel",
            "_view_count": null,
            "_view_module": "@jupyter-widgets/base",
            "_view_module_version": "1.2.0",
            "_view_name": "StyleView",
            "description_width": "",
            "handle_color": null
          }
        },
        "967c17563ca94d38a2cdd9d6c3216d1b": {
          "model_module": "@jupyter-widgets/base",
          "model_name": "LayoutModel",
          "model_module_version": "1.2.0",
          "state": {
            "_model_module": "@jupyter-widgets/base",
            "_model_module_version": "1.2.0",
            "_model_name": "LayoutModel",
            "_view_count": null,
            "_view_module": "@jupyter-widgets/base",
            "_view_module_version": "1.2.0",
            "_view_name": "LayoutView",
            "align_content": null,
            "align_items": null,
            "align_self": null,
            "border": null,
            "bottom": null,
            "display": null,
            "flex": null,
            "flex_flow": null,
            "grid_area": null,
            "grid_auto_columns": null,
            "grid_auto_flow": null,
            "grid_auto_rows": null,
            "grid_column": null,
            "grid_gap": null,
            "grid_row": null,
            "grid_template_areas": null,
            "grid_template_columns": null,
            "grid_template_rows": null,
            "height": null,
            "justify_content": null,
            "justify_items": null,
            "left": null,
            "margin": null,
            "max_height": null,
            "max_width": null,
            "min_height": null,
            "min_width": null,
            "object_fit": null,
            "object_position": null,
            "order": null,
            "overflow": null,
            "overflow_x": null,
            "overflow_y": null,
            "padding": null,
            "right": null,
            "top": null,
            "visibility": null,
            "width": null
          }
        },
        "08c9e849887c4475b03b86da2054d263": {
          "model_module": "@jupyter-widgets/controls",
          "model_name": "SliderStyleModel",
          "model_module_version": "1.5.0",
          "state": {
            "_model_module": "@jupyter-widgets/controls",
            "_model_module_version": "1.5.0",
            "_model_name": "SliderStyleModel",
            "_view_count": null,
            "_view_module": "@jupyter-widgets/base",
            "_view_module_version": "1.2.0",
            "_view_name": "StyleView",
            "description_width": "",
            "handle_color": null
          }
        },
        "d478812bc8ef4c4d832e70c2bc68b0e1": {
          "model_module": "@jupyter-widgets/base",
          "model_name": "LayoutModel",
          "model_module_version": "1.2.0",
          "state": {
            "_model_module": "@jupyter-widgets/base",
            "_model_module_version": "1.2.0",
            "_model_name": "LayoutModel",
            "_view_count": null,
            "_view_module": "@jupyter-widgets/base",
            "_view_module_version": "1.2.0",
            "_view_name": "LayoutView",
            "align_content": null,
            "align_items": null,
            "align_self": null,
            "border": null,
            "bottom": null,
            "display": null,
            "flex": null,
            "flex_flow": null,
            "grid_area": null,
            "grid_auto_columns": null,
            "grid_auto_flow": null,
            "grid_auto_rows": null,
            "grid_column": null,
            "grid_gap": null,
            "grid_row": null,
            "grid_template_areas": null,
            "grid_template_columns": null,
            "grid_template_rows": null,
            "height": null,
            "justify_content": null,
            "justify_items": null,
            "left": null,
            "margin": null,
            "max_height": null,
            "max_width": null,
            "min_height": null,
            "min_width": null,
            "object_fit": null,
            "object_position": null,
            "order": null,
            "overflow": null,
            "overflow_x": null,
            "overflow_y": null,
            "padding": null,
            "right": null,
            "top": null,
            "visibility": null,
            "width": null
          }
        }
      }
    }
  },
  "nbformat": 4,
  "nbformat_minor": 0
}