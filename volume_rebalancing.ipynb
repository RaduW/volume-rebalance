{
  "cells": [
    {
      "cell_type": "markdown",
      "metadata": {
        "id": "view-in-github",
        "colab_type": "text"
      },
      "source": [
        "<a href=\"https://colab.research.google.com/github/RaduW/volume-rebalance/blob/main/volume_rebalancing.ipynb\" target=\"_parent\"><img src=\"https://colab.research.google.com/assets/colab-badge.svg\" alt=\"Open In Colab\"/></a>"
      ]
    },
    {
      "cell_type": "markdown",
      "metadata": {
        "id": "zdMHKb0x4JRD"
      },
      "source": [
        "\n",
        "\n",
        "# Volume Rebalancing Algorithm\n",
        "\n",
        "\n",
        "The volume rebalancing algorithm is based on the assumption that while given a global sample rate classes we want to adjust the individual class sampling rate in a way that equalises the number of sampled elements in each class while maintaining the overall sample rate."
      ]
    },
    {
      "cell_type": "code",
      "execution_count": 1,
      "metadata": {
        "id": "EO1gtKk34X5c"
      },
      "outputs": [],
      "source": [
        "from ipywidgets import interact, widgets\n",
        "import pandas as pd\n",
        "import numpy as np\n",
        "import matplotlib as mpl\n",
        "import matplotlib.pyplot as plt\n",
        "import seaborn as sns\n",
        "\n",
        "sns.set_style(\"whitegrid\")"
      ]
    },
    {
      "cell_type": "code",
      "execution_count": 2,
      "metadata": {
        "id": "NeYLNcywOgei"
      },
      "outputs": [],
      "source": [
        "import operator\n",
        "from collections import namedtuple\n",
        "from copy import copy\n",
        "from typing import List, Mapping, MutableMapping, Tuple\n",
        "\n",
        "\n",
        "def adjust_sample_rate(\n",
        "    transactions: List[Tuple[str, int]], rate: float) -> Mapping[str, float]:\n",
        "    \"\"\"\n",
        "    Calculates transaction sample size in order to maximize the number of small transactions\n",
        "\n",
        "    :param transactions: the transaction types as an array of (name, count) tuples\n",
        "    :param rate: the overall desired rate\n",
        "    \"\"\"\n",
        "    # sort by transaction count\n",
        "    transactions = sorted(transactions, key=operator.itemgetter(1))\n",
        "    return adjust_sample_rate_full(transactions, rate)\n",
        "\n",
        "\n",
        "def adjust_sample_rate_full(\n",
        "    transactions: List[Tuple[str, int]], rate: float\n",
        ") -> MutableMapping[str, float]:\n",
        "    \"\"\"\n",
        "    resample all transactions to their ideal size\n",
        "    \"\"\"\n",
        "    transactions = copy(transactions)\n",
        "    ret_val = {}\n",
        "    num_transactions = total_transactions(transactions)\n",
        "    # calculate how many transactions we are allowed to keep overall\n",
        "    # this will allow us to pass transactions between different transaction types\n",
        "    total_budget = num_transactions * rate\n",
        "    while transactions:\n",
        "        num_types = len(transactions)\n",
        "        # We recalculate the budget per type every iteration to\n",
        "        # account for the cases where, in the previous step we couldn't\n",
        "        # spend all the allocated budget for that type.\n",
        "        budget_per_transaction_type = total_budget / num_types\n",
        "        name, count = transactions.pop(0)\n",
        "        if count < budget_per_transaction_type:\n",
        "            # we have fewer transactions in this type than the\n",
        "            # budget, all we can do is to keep everything\n",
        "            ret_val[name] = 1.0  # not enough samples, use all\n",
        "            total_budget -= count\n",
        "        else:\n",
        "            # we have enough transactions in current the class\n",
        "            # we want to only keep budget_per_transactions\n",
        "            transaction_rate = budget_per_transaction_type / count\n",
        "            ret_val[name] = transaction_rate\n",
        "            total_budget -= budget_per_transaction_type\n",
        "    return ret_val\n",
        "\n",
        "def total_transactions(transactions: List[Tuple[str, int]]) -> int:\n",
        "    ret_val = 0\n",
        "    for _, v in transactions:\n",
        "        ret_val += v\n",
        "    return ret_val\n",
        "\n",
        "def counts_to_labeled_counts( counts):\n",
        "  counts = sorted(counts)\n",
        "  return [(f\"t-{idx}\",count) for idx,count in enumerate(counts)]"
      ]
    },
    {
      "cell_type": "markdown",
      "metadata": {
        "id": "s69nUY6B7M86"
      },
      "source": [
        "# Model params\n",
        "\n",
        "The model has the following input parameters:\n",
        "\n",
        "*   a list of initial counts representing the number of elements for each class `counts`\n",
        "*   an overall desired sample rate: `global_rate` (input via slider)\n",
        "\n"
      ]
    },
    {
      "cell_type": "code",
      "execution_count": 3,
      "metadata": {
        "id": "ZdADbCt5UQ1u"
      },
      "outputs": [],
      "source": [
        "def process_data(global_rate, counts):\n",
        "    cnts = np.array(counts)\n",
        "    ideal_rate = np.average(cnts) * global_rate\n",
        "    cnts_min = cnts.min()\n",
        "    cnts_max = cnts.max()\n",
        "\n",
        "    transactions = counts_to_labeled_counts(counts)\n",
        "    labels = [ x[0] for x in transactions]\n",
        "\n",
        "    sampled_counts = cnts * global_rate\n",
        "\n",
        "    original_df = pd.DataFrame(data ={\"counts\": cnts, \"original\": sampled_counts}, index = labels)\n",
        "    adjusted = adjust_sample_rate(transactions, global_rate)\n",
        "    adjusted_df = pd.DataFrame.from_dict(data = adjusted, orient=\"index\", columns=[\"adjusted_rate\"] )\n",
        "\n",
        "    # now calculate the adjusted count\n",
        "    df = original_df.join(adjusted_df, how=\"outer\")\n",
        "\n",
        "    df[\"adjusted\"] = df[\"counts\"]* df[\"adjusted_rate\"]\n",
        "    return df  \n",
        "\n",
        "def draw_rebalance_graphs(global_rate, counts):\n",
        "    \n",
        "    df = process_data(global_rate, counts)\n",
        "\n",
        "    counts_series = df[\"counts\"]\n",
        "\n",
        "    cnts_min = counts_series.min()\n",
        "    cnts_max =  counts_series.max()\n",
        "    ideal_rate = counts_series.mean() * global_rate\n",
        "\n",
        "    df2 = df.melt(id_vars=[\"counts\"],value_vars=[\"adjusted\",\"original\"], var_name=\"series\", value_name = \"rate\")\n",
        "    fig, ax = plt.subplots(nrows = 2 ,figsize=(20,16))\n",
        "    # ax.xaxis.grid(True, which='both')\n",
        "\n",
        "    plt.xscale(\"linear\")\n",
        "    plt.yscale(\"linear\")\n",
        "\n",
        "    sns.lineplot( x=[cnts_min, cnts_max], y=[ideal_rate,ideal_rate], ax = ax[0]);\n",
        "    sns.scatterplot(data=df2, x=\"counts\", y=\"rate\", hue =\"series\", style=\"series\", ax=ax[0]).set(title = \"Sampling Adjustment\")\n",
        "\n",
        "    plt.xscale(\"log\")\n",
        "    plt.yscale(\"log\")\n",
        "\n",
        "    #sns.lineplot( x=[cnts_min, cnts_max], y=[ideal_rate,ideal_rate], ax = ax[1]);\n",
        "    sns.scatterplot(data=df2, x=\"counts\", y=\"rate\", hue =\"series\", style=\"series\", ax=ax[1]).set(title = \"Sampling Adjustment (Log Scale)\")\n",
        "\n"
      ]
    },
    {
      "cell_type": "markdown",
      "metadata": {
        "id": "XRkWaNAeAYUP"
      },
      "source": [
        "\n",
        "### Counts"
      ]
    },
    {
      "cell_type": "code",
      "execution_count": 7,
      "metadata": {
        "id": "SdTAuZrgAWWV"
      },
      "outputs": [],
      "source": [
        "counts = [10,500.37,  3999.88, 7000, 9000]"
      ]
    },
    {
      "cell_type": "markdown",
      "metadata": {
        "id": "EgcBX0eEAESL"
      },
      "source": [
        "### Sample rate"
      ]
    },
    {
      "cell_type": "code",
      "execution_count": 8,
      "metadata": {
        "colab": {
          "base_uri": "https://localhost:8080/",
          "height": 983,
          "referenced_widgets": [
            "871b677dfaf4454ead73387dadd8e3c7",
            "cc1b420f53c44292a88a0e8a1afdf42f",
            "8f174ff48def4693bc3a734b7988cb5d",
            "2ef652fb34184f9e8358e8688dad5c82",
            "d0f8f41317134c0896862153ea088159",
            "a9269633fe3a4f75a54e2e31ea372fc9",
            "e1515e143ef846c0ac1d1b4afa823ac9"
          ]
        },
        "id": "VDGq8Siw9iFV",
        "outputId": "f1c0b23b-8982-4a46-e92f-7a88c6782e9f"
      },
      "outputs": [
        {
          "output_type": "display_data",
          "data": {
            "text/plain": [
              "interactive(children=(FloatSlider(value=0.1, description='global_rate', max=1.0, step=0.001), Output()), _dom_…"
            ],
            "application/vnd.jupyter.widget-view+json": {
              "version_major": 2,
              "version_minor": 0,
              "model_id": "871b677dfaf4454ead73387dadd8e3c7"
            }
          },
          "metadata": {}
        }
      ],
      "source": [
        "global_rate=widgets.FloatSlider(min=0,max=1,value=0.1, step=0.001 );\n",
        "#global_rate = widgets.FloatText(min=0,max=1,value=0.1, step=0.001 )\n",
        "def rebalance_generator(counts):\n",
        "  def inner( global_rate):\n",
        "    draw_rebalance_graphs(global_rate, counts)\n",
        "  return inner\n",
        "\n",
        "widgets.interact(rebalance_generator(counts), global_rate = global_rate);"
      ]
    },
    {
      "cell_type": "code",
      "execution_count": 6,
      "metadata": {
        "colab": {
          "base_uri": "https://localhost:8080/",
          "height": 224
        },
        "id": "SnaTcnrdwhpc",
        "outputId": "0c10a2c1-55d9-4b50-919c-8977bc24f1d6"
      },
      "outputs": [
        {
          "output_type": "stream",
          "name": "stdout",
          "text": [
            "Global Rate is 0.1\n"
          ]
        },
        {
          "output_type": "execute_result",
          "data": {
            "text/plain": [
              "     counts  original  adjusted_rate    adjusted\n",
              "t-0      10       1.0       1.000000   10.000000\n",
              "t-1     500      50.0       1.000000  500.000000\n",
              "t-2    3999     399.9       0.128440  513.633333\n",
              "t-3    7000     700.0       0.073376  513.633333\n",
              "t-4    9000     900.0       0.057070  513.633333"
            ],
            "text/html": [
              "\n",
              "  <div id=\"df-6f3d3cab-619e-439f-b04e-2691623fa7c7\">\n",
              "    <div class=\"colab-df-container\">\n",
              "      <div>\n",
              "<style scoped>\n",
              "    .dataframe tbody tr th:only-of-type {\n",
              "        vertical-align: middle;\n",
              "    }\n",
              "\n",
              "    .dataframe tbody tr th {\n",
              "        vertical-align: top;\n",
              "    }\n",
              "\n",
              "    .dataframe thead th {\n",
              "        text-align: right;\n",
              "    }\n",
              "</style>\n",
              "<table border=\"1\" class=\"dataframe\">\n",
              "  <thead>\n",
              "    <tr style=\"text-align: right;\">\n",
              "      <th></th>\n",
              "      <th>counts</th>\n",
              "      <th>original</th>\n",
              "      <th>adjusted_rate</th>\n",
              "      <th>adjusted</th>\n",
              "    </tr>\n",
              "  </thead>\n",
              "  <tbody>\n",
              "    <tr>\n",
              "      <th>t-0</th>\n",
              "      <td>10</td>\n",
              "      <td>1.0</td>\n",
              "      <td>1.000000</td>\n",
              "      <td>10.000000</td>\n",
              "    </tr>\n",
              "    <tr>\n",
              "      <th>t-1</th>\n",
              "      <td>500</td>\n",
              "      <td>50.0</td>\n",
              "      <td>1.000000</td>\n",
              "      <td>500.000000</td>\n",
              "    </tr>\n",
              "    <tr>\n",
              "      <th>t-2</th>\n",
              "      <td>3999</td>\n",
              "      <td>399.9</td>\n",
              "      <td>0.128440</td>\n",
              "      <td>513.633333</td>\n",
              "    </tr>\n",
              "    <tr>\n",
              "      <th>t-3</th>\n",
              "      <td>7000</td>\n",
              "      <td>700.0</td>\n",
              "      <td>0.073376</td>\n",
              "      <td>513.633333</td>\n",
              "    </tr>\n",
              "    <tr>\n",
              "      <th>t-4</th>\n",
              "      <td>9000</td>\n",
              "      <td>900.0</td>\n",
              "      <td>0.057070</td>\n",
              "      <td>513.633333</td>\n",
              "    </tr>\n",
              "  </tbody>\n",
              "</table>\n",
              "</div>\n",
              "      <button class=\"colab-df-convert\" onclick=\"convertToInteractive('df-6f3d3cab-619e-439f-b04e-2691623fa7c7')\"\n",
              "              title=\"Convert this dataframe to an interactive table.\"\n",
              "              style=\"display:none;\">\n",
              "        \n",
              "  <svg xmlns=\"http://www.w3.org/2000/svg\" height=\"24px\"viewBox=\"0 0 24 24\"\n",
              "       width=\"24px\">\n",
              "    <path d=\"M0 0h24v24H0V0z\" fill=\"none\"/>\n",
              "    <path d=\"M18.56 5.44l.94 2.06.94-2.06 2.06-.94-2.06-.94-.94-2.06-.94 2.06-2.06.94zm-11 1L8.5 8.5l.94-2.06 2.06-.94-2.06-.94L8.5 2.5l-.94 2.06-2.06.94zm10 10l.94 2.06.94-2.06 2.06-.94-2.06-.94-.94-2.06-.94 2.06-2.06.94z\"/><path d=\"M17.41 7.96l-1.37-1.37c-.4-.4-.92-.59-1.43-.59-.52 0-1.04.2-1.43.59L10.3 9.45l-7.72 7.72c-.78.78-.78 2.05 0 2.83L4 21.41c.39.39.9.59 1.41.59.51 0 1.02-.2 1.41-.59l7.78-7.78 2.81-2.81c.8-.78.8-2.07 0-2.86zM5.41 20L4 18.59l7.72-7.72 1.47 1.35L5.41 20z\"/>\n",
              "  </svg>\n",
              "      </button>\n",
              "      \n",
              "  <style>\n",
              "    .colab-df-container {\n",
              "      display:flex;\n",
              "      flex-wrap:wrap;\n",
              "      gap: 12px;\n",
              "    }\n",
              "\n",
              "    .colab-df-convert {\n",
              "      background-color: #E8F0FE;\n",
              "      border: none;\n",
              "      border-radius: 50%;\n",
              "      cursor: pointer;\n",
              "      display: none;\n",
              "      fill: #1967D2;\n",
              "      height: 32px;\n",
              "      padding: 0 0 0 0;\n",
              "      width: 32px;\n",
              "    }\n",
              "\n",
              "    .colab-df-convert:hover {\n",
              "      background-color: #E2EBFA;\n",
              "      box-shadow: 0px 1px 2px rgba(60, 64, 67, 0.3), 0px 1px 3px 1px rgba(60, 64, 67, 0.15);\n",
              "      fill: #174EA6;\n",
              "    }\n",
              "\n",
              "    [theme=dark] .colab-df-convert {\n",
              "      background-color: #3B4455;\n",
              "      fill: #D2E3FC;\n",
              "    }\n",
              "\n",
              "    [theme=dark] .colab-df-convert:hover {\n",
              "      background-color: #434B5C;\n",
              "      box-shadow: 0px 1px 3px 1px rgba(0, 0, 0, 0.15);\n",
              "      filter: drop-shadow(0px 1px 2px rgba(0, 0, 0, 0.3));\n",
              "      fill: #FFFFFF;\n",
              "    }\n",
              "  </style>\n",
              "\n",
              "      <script>\n",
              "        const buttonEl =\n",
              "          document.querySelector('#df-6f3d3cab-619e-439f-b04e-2691623fa7c7 button.colab-df-convert');\n",
              "        buttonEl.style.display =\n",
              "          google.colab.kernel.accessAllowed ? 'block' : 'none';\n",
              "\n",
              "        async function convertToInteractive(key) {\n",
              "          const element = document.querySelector('#df-6f3d3cab-619e-439f-b04e-2691623fa7c7');\n",
              "          const dataTable =\n",
              "            await google.colab.kernel.invokeFunction('convertToInteractive',\n",
              "                                                     [key], {});\n",
              "          if (!dataTable) return;\n",
              "\n",
              "          const docLinkHtml = 'Like what you see? Visit the ' +\n",
              "            '<a target=\"_blank\" href=https://colab.research.google.com/notebooks/data_table.ipynb>data table notebook</a>'\n",
              "            + ' to learn more about interactive tables.';\n",
              "          element.innerHTML = '';\n",
              "          dataTable['output_type'] = 'display_data';\n",
              "          await google.colab.output.renderOutput(dataTable, element);\n",
              "          const docLink = document.createElement('div');\n",
              "          docLink.innerHTML = docLinkHtml;\n",
              "          element.appendChild(docLink);\n",
              "        }\n",
              "      </script>\n",
              "    </div>\n",
              "  </div>\n",
              "  "
            ]
          },
          "metadata": {},
          "execution_count": 6
        }
      ],
      "source": [
        "print(f\"Global Rate is {global_rate.value}\")\n",
        "process_data(global_rate.value, counts)\n"
      ]
    },
    {
      "cell_type": "markdown",
      "metadata": {
        "id": "n7aivjhDn977"
      },
      "source": [
        "# Scratch pad below\n",
        "\n",
        "Ignore...."
      ]
    },
    {
      "cell_type": "code",
      "execution_count": 6,
      "metadata": {
        "id": "1Z8MTzbSqlEI"
      },
      "outputs": [],
      "source": []
    },
    {
      "cell_type": "code",
      "execution_count": 6,
      "metadata": {
        "id": "1NWpZppFrPkE"
      },
      "outputs": [],
      "source": []
    }
  ],
  "metadata": {
    "colab": {
      "provenance": [],
      "authorship_tag": "ABX9TyPhk8pAwiVjE/Cbmmbk9nnj",
      "include_colab_link": true
    },
    "kernelspec": {
      "display_name": "Python 3",
      "name": "python3"
    },
    "language_info": {
      "name": "python"
    },
    "widgets": {
      "application/vnd.jupyter.widget-state+json": {
        "871b677dfaf4454ead73387dadd8e3c7": {
          "model_module": "@jupyter-widgets/controls",
          "model_name": "VBoxModel",
          "model_module_version": "1.5.0",
          "state": {
            "_dom_classes": [
              "widget-interact"
            ],
            "_model_module": "@jupyter-widgets/controls",
            "_model_module_version": "1.5.0",
            "_model_name": "VBoxModel",
            "_view_count": null,
            "_view_module": "@jupyter-widgets/controls",
            "_view_module_version": "1.5.0",
            "_view_name": "VBoxView",
            "box_style": "",
            "children": [
              "IPY_MODEL_cc1b420f53c44292a88a0e8a1afdf42f",
              "IPY_MODEL_8f174ff48def4693bc3a734b7988cb5d"
            ],
            "layout": "IPY_MODEL_2ef652fb34184f9e8358e8688dad5c82"
          }
        },
        "cc1b420f53c44292a88a0e8a1afdf42f": {
          "model_module": "@jupyter-widgets/controls",
          "model_name": "FloatSliderModel",
          "model_module_version": "1.5.0",
          "state": {
            "_dom_classes": [],
            "_model_module": "@jupyter-widgets/controls",
            "_model_module_version": "1.5.0",
            "_model_name": "FloatSliderModel",
            "_view_count": null,
            "_view_module": "@jupyter-widgets/controls",
            "_view_module_version": "1.5.0",
            "_view_name": "FloatSliderView",
            "continuous_update": true,
            "description": "global_rate",
            "description_tooltip": null,
            "disabled": false,
            "layout": "IPY_MODEL_d0f8f41317134c0896862153ea088159",
            "max": 1,
            "min": 0,
            "orientation": "horizontal",
            "readout": true,
            "readout_format": ".2f",
            "step": 0.001,
            "style": "IPY_MODEL_a9269633fe3a4f75a54e2e31ea372fc9",
            "value": 0.1
          }
        },
        "8f174ff48def4693bc3a734b7988cb5d": {
          "model_module": "@jupyter-widgets/output",
          "model_name": "OutputModel",
          "model_module_version": "1.0.0",
          "state": {
            "_dom_classes": [],
            "_model_module": "@jupyter-widgets/output",
            "_model_module_version": "1.0.0",
            "_model_name": "OutputModel",
            "_view_count": null,
            "_view_module": "@jupyter-widgets/output",
            "_view_module_version": "1.0.0",
            "_view_name": "OutputView",
            "layout": "IPY_MODEL_e1515e143ef846c0ac1d1b4afa823ac9",
            "msg_id": "",
            "outputs": [
              {
                "output_type": "display_data",
                "data": {
                  "text/plain": "<Figure size 1440x1152 with 2 Axes>",
                  "image/png": "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\n"
                },
                "metadata": {}
              }
            ]
          }
        },
        "2ef652fb34184f9e8358e8688dad5c82": {
          "model_module": "@jupyter-widgets/base",
          "model_name": "LayoutModel",
          "model_module_version": "1.2.0",
          "state": {
            "_model_module": "@jupyter-widgets/base",
            "_model_module_version": "1.2.0",
            "_model_name": "LayoutModel",
            "_view_count": null,
            "_view_module": "@jupyter-widgets/base",
            "_view_module_version": "1.2.0",
            "_view_name": "LayoutView",
            "align_content": null,
            "align_items": null,
            "align_self": null,
            "border": null,
            "bottom": null,
            "display": null,
            "flex": null,
            "flex_flow": null,
            "grid_area": null,
            "grid_auto_columns": null,
            "grid_auto_flow": null,
            "grid_auto_rows": null,
            "grid_column": null,
            "grid_gap": null,
            "grid_row": null,
            "grid_template_areas": null,
            "grid_template_columns": null,
            "grid_template_rows": null,
            "height": null,
            "justify_content": null,
            "justify_items": null,
            "left": null,
            "margin": null,
            "max_height": null,
            "max_width": null,
            "min_height": null,
            "min_width": null,
            "object_fit": null,
            "object_position": null,
            "order": null,
            "overflow": null,
            "overflow_x": null,
            "overflow_y": null,
            "padding": null,
            "right": null,
            "top": null,
            "visibility": null,
            "width": null
          }
        },
        "d0f8f41317134c0896862153ea088159": {
          "model_module": "@jupyter-widgets/base",
          "model_name": "LayoutModel",
          "model_module_version": "1.2.0",
          "state": {
            "_model_module": "@jupyter-widgets/base",
            "_model_module_version": "1.2.0",
            "_model_name": "LayoutModel",
            "_view_count": null,
            "_view_module": "@jupyter-widgets/base",
            "_view_module_version": "1.2.0",
            "_view_name": "LayoutView",
            "align_content": null,
            "align_items": null,
            "align_self": null,
            "border": null,
            "bottom": null,
            "display": null,
            "flex": null,
            "flex_flow": null,
            "grid_area": null,
            "grid_auto_columns": null,
            "grid_auto_flow": null,
            "grid_auto_rows": null,
            "grid_column": null,
            "grid_gap": null,
            "grid_row": null,
            "grid_template_areas": null,
            "grid_template_columns": null,
            "grid_template_rows": null,
            "height": null,
            "justify_content": null,
            "justify_items": null,
            "left": null,
            "margin": null,
            "max_height": null,
            "max_width": null,
            "min_height": null,
            "min_width": null,
            "object_fit": null,
            "object_position": null,
            "order": null,
            "overflow": null,
            "overflow_x": null,
            "overflow_y": null,
            "padding": null,
            "right": null,
            "top": null,
            "visibility": null,
            "width": null
          }
        },
        "a9269633fe3a4f75a54e2e31ea372fc9": {
          "model_module": "@jupyter-widgets/controls",
          "model_name": "SliderStyleModel",
          "model_module_version": "1.5.0",
          "state": {
            "_model_module": "@jupyter-widgets/controls",
            "_model_module_version": "1.5.0",
            "_model_name": "SliderStyleModel",
            "_view_count": null,
            "_view_module": "@jupyter-widgets/base",
            "_view_module_version": "1.2.0",
            "_view_name": "StyleView",
            "description_width": "",
            "handle_color": null
          }
        },
        "e1515e143ef846c0ac1d1b4afa823ac9": {
          "model_module": "@jupyter-widgets/base",
          "model_name": "LayoutModel",
          "model_module_version": "1.2.0",
          "state": {
            "_model_module": "@jupyter-widgets/base",
            "_model_module_version": "1.2.0",
            "_model_name": "LayoutModel",
            "_view_count": null,
            "_view_module": "@jupyter-widgets/base",
            "_view_module_version": "1.2.0",
            "_view_name": "LayoutView",
            "align_content": null,
            "align_items": null,
            "align_self": null,
            "border": null,
            "bottom": null,
            "display": null,
            "flex": null,
            "flex_flow": null,
            "grid_area": null,
            "grid_auto_columns": null,
            "grid_auto_flow": null,
            "grid_auto_rows": null,
            "grid_column": null,
            "grid_gap": null,
            "grid_row": null,
            "grid_template_areas": null,
            "grid_template_columns": null,
            "grid_template_rows": null,
            "height": null,
            "justify_content": null,
            "justify_items": null,
            "left": null,
            "margin": null,
            "max_height": null,
            "max_width": null,
            "min_height": null,
            "min_width": null,
            "object_fit": null,
            "object_position": null,
            "order": null,
            "overflow": null,
            "overflow_x": null,
            "overflow_y": null,
            "padding": null,
            "right": null,
            "top": null,
            "visibility": null,
            "width": null
          }
        }
      }
    }
  },
  "nbformat": 4,
  "nbformat_minor": 0
}